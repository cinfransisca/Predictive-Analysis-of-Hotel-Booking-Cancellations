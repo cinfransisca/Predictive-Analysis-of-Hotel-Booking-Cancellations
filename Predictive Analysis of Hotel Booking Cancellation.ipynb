{
 "cells": [
  {
   "cell_type": "markdown",
   "metadata": {},
   "source": [
    "# Predictive Analysis of Hotel Booking Cancellation\n",
    "---\n",
    "By [Cindy Fransisca](www.linkedin.com/in/cindy-fransisca-18ba81213)"
   ]
  },
  {
   "cell_type": "markdown",
   "metadata": {},
   "source": [
    "## Business Problem Understanding\n",
    "---\n",
    "\n",
    "**Introduction**\n",
    "\n",
    "Booking cancellations have a significant impact in the hospitality industry. Some hotels use the overbooking strategy to avoid booking cancellation problems. The overbooking strategy can help maximizing the revenue but might also give a negative impact on reputation if the hotel is actually overbooked. Predicting the hotel booking cancellations can help the hotel businesses improve their overbooking strategy and minimize their risk.\n",
    "\n",
    "**Target** :\n",
    "- 1 : Cancelled Booking\n",
    "- 0 : Non-Cancelled Booking\n",
    "\n",
    "\n"
   ]
  },
  {
   "cell_type": "markdown",
   "metadata": {},
   "source": [
    "**Problem Statement :**\n",
    "\n",
    "The overbooking strategy will perform well if we know the number of bookings that will be cancelled by the customers. If the assumed number of cancelled bookings is too small, then we will be left with a lot of empty rooms. If the assumed number of cancelled bookings is too big, then we will have a lot of upset customers who don't get rooms. \n",
    "\n",
    "\n",
    "**Goals :**\n",
    "\n",
    "Based on the problems we have, we want to detect which bookings will be cancelled or not. This way we can make better decisions on the overbooking strategy. We might also find which characteristics resulting in cancelled bookings, so it will help us identify the cancelled bookings better.\n",
    "\n",
    "\n",
    "**Analytic Approach :**\n",
    "\n",
    "We will analyze the data to find the characteristics of cancelled bookings. After that, we will build a classification model to help predicting the number of cancelled bookings.\n",
    "\n",
    "**Evaluation Metric**\n",
    "\n",
    "Type 1 error : False Positive  \n",
    "cons: Rooms will be overbooked, and customers will be disappointed (no longer book the hotel)\n",
    "\n",
    "Type 2 error : False Negative  \n",
    "cons: Rooms are empty, even though there might be potential customers who want to stay at the hotel\n",
    "\n",
    "Both cases will have negative impacts on the revenue, but the overbooked cases are worse because they can cause potential loss of future revenue from discontent customers who will no longer book the hotel. In this case our positive target is more important than the negative class. We might also put more weight on precision to avoid a lot of upset customers. So, the main metric that will be used is f0.5-score.\n"
   ]
  },
  {
   "cell_type": "markdown",
   "metadata": {},
   "source": [
    "## Data Understanding\n",
    "\n",
    "Dataset source : https://www.kaggle.com/datasets/jessemostipak/hotel-booking-demand\n",
    "\n",
    "Note : \n",
    "- Target is imbalance in the dataset\n",
    "- Each row represents informations of a booking which is made by past customers.\n",
    "\n",
    "### Attribute Information\n",
    "\n",
    "| Attribute | Description |\n",
    "| --- | --- |\n",
    "| country | Country of origin. Categories are represented in the ISO 3155–3:2013 format. |\n",
    "| market_segment | Market segment designation. In categories, the term “TA” means “Travel Agents” and “TO” means “Tour Operators”. |\n",
    "| previous_cancellations | Number of previous bookings that were cancelled by the customer prior to the current booking. |\n",
    "| booking_changes | Number of changes/amendments made to the booking from the moment the booking was entered on the PMS until the moment of check-in or cancellation. |\n",
    "| deposit_type | Indication on if the customer made a deposit to guarantee the booking. This variable can assume three categories: No Deposit – no deposit was made; Non Refund – a deposit was made in the value of the total stay cost; Refundable – a deposit was made with a value under the total cost of stay. |\n",
    "| days_in_waiting_list | Number of days the booking was in the waiting list before it was confirmed to the customer. |\n",
    "| customer_type | Type of booking, assuming one of four categories: Contract - when the booking has an allotment or other type of contract associated to it; Group – when the booking is associated to a group; Transient – when the booking is not part of a group or contract, and is not associated to other transient booking; Transient-party – when the booking is transient, but is associated to at least other transient booking. |\n",
    "| reserved_room_type | Code of room type reserved. Code is presented instead of designation for anonymity reasons. |\n",
    "| required_car_parking_spaces | Number of car parking spaces required by the customer. |\n",
    "| total_of_special_requests | Number of special requests made by the customer (e.g. twin bed or high floor). |\n",
    "| is_canceled | Value indicating if the booking was canceled (1) or not (0). |"
   ]
  },
  {
   "cell_type": "markdown",
   "metadata": {},
   "source": [
    "## Import Libraries"
   ]
  },
  {
   "cell_type": "code",
   "execution_count": 1,
   "metadata": {},
   "outputs": [],
   "source": [
    "import numpy as np \n",
    "import pandas as pd \n",
    "import matplotlib.pyplot as plt \n",
    "import seaborn as sns\n",
    "import time\n",
    "\n",
    "# traintest split\n",
    "from sklearn.model_selection import train_test_split\n",
    "\n",
    "# Preprocessing\n",
    "import category_encoders as ce\n",
    "from sklearn.preprocessing import OneHotEncoder\n",
    "from sklearn.compose import ColumnTransformer\n",
    "from sklearn.impute import SimpleImputer\n",
    "from sklearn.preprocessing import RobustScaler, MinMaxScaler, StandardScaler\n",
    "from imblearn.over_sampling import RandomOverSampler, SMOTE\n",
    "from imblearn.pipeline import Pipeline\n",
    "\n",
    "#feature selection\n",
    "from sklearn.feature_selection import SelectPercentile, SelectFromModel\n",
    "\n",
    "# ML algorithm\n",
    "from sklearn.linear_model import LogisticRegression\n",
    "from sklearn.neighbors import KNeighborsClassifier\n",
    "from sklearn.tree import DecisionTreeClassifier\n",
    "from sklearn.ensemble import RandomForestClassifier, AdaBoostClassifier, GradientBoostingClassifier\n",
    "from xgboost import XGBClassifier\n",
    "import lightgbm as lgb\n",
    "\n",
    "\n",
    "# Evaluation\n",
    "from sklearn.model_selection import cross_val_score, cross_validate, StratifiedKFold\n",
    "from sklearn.metrics import accuracy_score, recall_score, precision_score, f1_score, fbeta_score, make_scorer\n",
    "from sklearn.metrics import  classification_report, confusion_matrix, PrecisionRecallDisplay, ConfusionMatrixDisplay\n",
    "\n",
    "\n",
    "#Hyperparameter Tuning\n",
    "from sklearn.model_selection import GridSearchCV, RandomizedSearchCV"
   ]
  },
  {
   "cell_type": "code",
   "execution_count": 2,
   "metadata": {},
   "outputs": [],
   "source": [
    "pd.set_option('display.max_colwidth', None)"
   ]
  },
  {
   "cell_type": "markdown",
   "metadata": {},
   "source": [
    "## Explore The Data"
   ]
  },
  {
   "cell_type": "code",
   "execution_count": 3,
   "metadata": {},
   "outputs": [
    {
     "data": {
      "text/html": [
       "<div>\n",
       "<style scoped>\n",
       "    .dataframe tbody tr th:only-of-type {\n",
       "        vertical-align: middle;\n",
       "    }\n",
       "\n",
       "    .dataframe tbody tr th {\n",
       "        vertical-align: top;\n",
       "    }\n",
       "\n",
       "    .dataframe thead th {\n",
       "        text-align: right;\n",
       "    }\n",
       "</style>\n",
       "<table border=\"1\" class=\"dataframe\">\n",
       "  <thead>\n",
       "    <tr style=\"text-align: right;\">\n",
       "      <th></th>\n",
       "      <th>country</th>\n",
       "      <th>market_segment</th>\n",
       "      <th>previous_cancellations</th>\n",
       "      <th>booking_changes</th>\n",
       "      <th>deposit_type</th>\n",
       "      <th>days_in_waiting_list</th>\n",
       "      <th>customer_type</th>\n",
       "      <th>reserved_room_type</th>\n",
       "      <th>required_car_parking_spaces</th>\n",
       "      <th>total_of_special_requests</th>\n",
       "      <th>is_canceled</th>\n",
       "    </tr>\n",
       "  </thead>\n",
       "  <tbody>\n",
       "    <tr>\n",
       "      <th>0</th>\n",
       "      <td>IRL</td>\n",
       "      <td>Offline TA/TO</td>\n",
       "      <td>0</td>\n",
       "      <td>0</td>\n",
       "      <td>No Deposit</td>\n",
       "      <td>0</td>\n",
       "      <td>Transient-Party</td>\n",
       "      <td>A</td>\n",
       "      <td>0</td>\n",
       "      <td>0</td>\n",
       "      <td>0</td>\n",
       "    </tr>\n",
       "    <tr>\n",
       "      <th>1</th>\n",
       "      <td>FRA</td>\n",
       "      <td>Online TA</td>\n",
       "      <td>0</td>\n",
       "      <td>0</td>\n",
       "      <td>No Deposit</td>\n",
       "      <td>0</td>\n",
       "      <td>Transient</td>\n",
       "      <td>A</td>\n",
       "      <td>0</td>\n",
       "      <td>2</td>\n",
       "      <td>0</td>\n",
       "    </tr>\n",
       "    <tr>\n",
       "      <th>2</th>\n",
       "      <td>PRT</td>\n",
       "      <td>Online TA</td>\n",
       "      <td>0</td>\n",
       "      <td>1</td>\n",
       "      <td>No Deposit</td>\n",
       "      <td>0</td>\n",
       "      <td>Transient</td>\n",
       "      <td>A</td>\n",
       "      <td>0</td>\n",
       "      <td>2</td>\n",
       "      <td>0</td>\n",
       "    </tr>\n",
       "    <tr>\n",
       "      <th>3</th>\n",
       "      <td>NLD</td>\n",
       "      <td>Online TA</td>\n",
       "      <td>0</td>\n",
       "      <td>0</td>\n",
       "      <td>No Deposit</td>\n",
       "      <td>0</td>\n",
       "      <td>Transient</td>\n",
       "      <td>A</td>\n",
       "      <td>0</td>\n",
       "      <td>1</td>\n",
       "      <td>1</td>\n",
       "    </tr>\n",
       "    <tr>\n",
       "      <th>4</th>\n",
       "      <td>PRT</td>\n",
       "      <td>Online TA</td>\n",
       "      <td>0</td>\n",
       "      <td>2</td>\n",
       "      <td>No Deposit</td>\n",
       "      <td>0</td>\n",
       "      <td>Transient</td>\n",
       "      <td>A</td>\n",
       "      <td>0</td>\n",
       "      <td>2</td>\n",
       "      <td>0</td>\n",
       "    </tr>\n",
       "  </tbody>\n",
       "</table>\n",
       "</div>"
      ],
      "text/plain": [
       "  country market_segment  previous_cancellations  booking_changes  \\\n",
       "0     IRL  Offline TA/TO                       0                0   \n",
       "1     FRA      Online TA                       0                0   \n",
       "2     PRT      Online TA                       0                1   \n",
       "3     NLD      Online TA                       0                0   \n",
       "4     PRT      Online TA                       0                2   \n",
       "\n",
       "  deposit_type  days_in_waiting_list    customer_type reserved_room_type  \\\n",
       "0   No Deposit                     0  Transient-Party                  A   \n",
       "1   No Deposit                     0        Transient                  A   \n",
       "2   No Deposit                     0        Transient                  A   \n",
       "3   No Deposit                     0        Transient                  A   \n",
       "4   No Deposit                     0        Transient                  A   \n",
       "\n",
       "   required_car_parking_spaces  total_of_special_requests  is_canceled  \n",
       "0                            0                          0            0  \n",
       "1                            0                          2            0  \n",
       "2                            0                          2            0  \n",
       "3                            0                          1            1  \n",
       "4                            0                          2            0  "
      ]
     },
     "execution_count": 3,
     "metadata": {},
     "output_type": "execute_result"
    }
   ],
   "source": [
    "raw_data = pd.read_csv('data_hotel_booking_demand.csv')\n",
    "df = raw_data.copy()\n",
    "df.head()"
   ]
  },
  {
   "cell_type": "code",
   "execution_count": 4,
   "metadata": {},
   "outputs": [
    {
     "name": "stdout",
     "output_type": "stream",
     "text": [
      "<class 'pandas.core.frame.DataFrame'>\n",
      "RangeIndex: 83573 entries, 0 to 83572\n",
      "Data columns (total 11 columns):\n",
      " #   Column                       Non-Null Count  Dtype \n",
      "---  ------                       --------------  ----- \n",
      " 0   country                      83222 non-null  object\n",
      " 1   market_segment               83573 non-null  object\n",
      " 2   previous_cancellations       83573 non-null  int64 \n",
      " 3   booking_changes              83573 non-null  int64 \n",
      " 4   deposit_type                 83573 non-null  object\n",
      " 5   days_in_waiting_list         83573 non-null  int64 \n",
      " 6   customer_type                83573 non-null  object\n",
      " 7   reserved_room_type           83573 non-null  object\n",
      " 8   required_car_parking_spaces  83573 non-null  int64 \n",
      " 9   total_of_special_requests    83573 non-null  int64 \n",
      " 10  is_canceled                  83573 non-null  int64 \n",
      "dtypes: int64(6), object(5)\n",
      "memory usage: 7.0+ MB\n"
     ]
    }
   ],
   "source": [
    "df.info()"
   ]
  },
  {
   "cell_type": "code",
   "execution_count": 5,
   "metadata": {},
   "outputs": [
    {
     "data": {
      "text/html": [
       "<div>\n",
       "<style scoped>\n",
       "    .dataframe tbody tr th:only-of-type {\n",
       "        vertical-align: middle;\n",
       "    }\n",
       "\n",
       "    .dataframe tbody tr th {\n",
       "        vertical-align: top;\n",
       "    }\n",
       "\n",
       "    .dataframe thead th {\n",
       "        text-align: right;\n",
       "    }\n",
       "</style>\n",
       "<table border=\"1\" class=\"dataframe\">\n",
       "  <thead>\n",
       "    <tr style=\"text-align: right;\">\n",
       "      <th></th>\n",
       "      <th>country</th>\n",
       "      <th>market_segment</th>\n",
       "      <th>previous_cancellations</th>\n",
       "      <th>booking_changes</th>\n",
       "      <th>deposit_type</th>\n",
       "      <th>days_in_waiting_list</th>\n",
       "      <th>customer_type</th>\n",
       "      <th>reserved_room_type</th>\n",
       "      <th>required_car_parking_spaces</th>\n",
       "      <th>total_of_special_requests</th>\n",
       "      <th>is_canceled</th>\n",
       "    </tr>\n",
       "  </thead>\n",
       "  <tbody>\n",
       "    <tr>\n",
       "      <th>count</th>\n",
       "      <td>83222</td>\n",
       "      <td>83573</td>\n",
       "      <td>83573.000000</td>\n",
       "      <td>83573.000000</td>\n",
       "      <td>83573</td>\n",
       "      <td>83573.000000</td>\n",
       "      <td>83573</td>\n",
       "      <td>83573</td>\n",
       "      <td>83573.000000</td>\n",
       "      <td>83573.000000</td>\n",
       "      <td>83573.000000</td>\n",
       "    </tr>\n",
       "    <tr>\n",
       "      <th>unique</th>\n",
       "      <td>162</td>\n",
       "      <td>8</td>\n",
       "      <td>NaN</td>\n",
       "      <td>NaN</td>\n",
       "      <td>3</td>\n",
       "      <td>NaN</td>\n",
       "      <td>4</td>\n",
       "      <td>10</td>\n",
       "      <td>NaN</td>\n",
       "      <td>NaN</td>\n",
       "      <td>NaN</td>\n",
       "    </tr>\n",
       "    <tr>\n",
       "      <th>top</th>\n",
       "      <td>PRT</td>\n",
       "      <td>Online TA</td>\n",
       "      <td>NaN</td>\n",
       "      <td>NaN</td>\n",
       "      <td>No Deposit</td>\n",
       "      <td>NaN</td>\n",
       "      <td>Transient</td>\n",
       "      <td>A</td>\n",
       "      <td>NaN</td>\n",
       "      <td>NaN</td>\n",
       "      <td>NaN</td>\n",
       "    </tr>\n",
       "    <tr>\n",
       "      <th>freq</th>\n",
       "      <td>34097</td>\n",
       "      <td>39460</td>\n",
       "      <td>NaN</td>\n",
       "      <td>NaN</td>\n",
       "      <td>73352</td>\n",
       "      <td>NaN</td>\n",
       "      <td>62732</td>\n",
       "      <td>60041</td>\n",
       "      <td>NaN</td>\n",
       "      <td>NaN</td>\n",
       "      <td>NaN</td>\n",
       "    </tr>\n",
       "    <tr>\n",
       "      <th>mean</th>\n",
       "      <td>NaN</td>\n",
       "      <td>NaN</td>\n",
       "      <td>0.086798</td>\n",
       "      <td>0.220897</td>\n",
       "      <td>NaN</td>\n",
       "      <td>2.330561</td>\n",
       "      <td>NaN</td>\n",
       "      <td>NaN</td>\n",
       "      <td>0.062999</td>\n",
       "      <td>0.573211</td>\n",
       "      <td>0.368277</td>\n",
       "    </tr>\n",
       "    <tr>\n",
       "      <th>std</th>\n",
       "      <td>NaN</td>\n",
       "      <td>NaN</td>\n",
       "      <td>0.841011</td>\n",
       "      <td>0.648635</td>\n",
       "      <td>NaN</td>\n",
       "      <td>17.673051</td>\n",
       "      <td>NaN</td>\n",
       "      <td>NaN</td>\n",
       "      <td>0.246919</td>\n",
       "      <td>0.795163</td>\n",
       "      <td>0.482340</td>\n",
       "    </tr>\n",
       "    <tr>\n",
       "      <th>min</th>\n",
       "      <td>NaN</td>\n",
       "      <td>NaN</td>\n",
       "      <td>0.000000</td>\n",
       "      <td>0.000000</td>\n",
       "      <td>NaN</td>\n",
       "      <td>0.000000</td>\n",
       "      <td>NaN</td>\n",
       "      <td>NaN</td>\n",
       "      <td>0.000000</td>\n",
       "      <td>0.000000</td>\n",
       "      <td>0.000000</td>\n",
       "    </tr>\n",
       "    <tr>\n",
       "      <th>25%</th>\n",
       "      <td>NaN</td>\n",
       "      <td>NaN</td>\n",
       "      <td>0.000000</td>\n",
       "      <td>0.000000</td>\n",
       "      <td>NaN</td>\n",
       "      <td>0.000000</td>\n",
       "      <td>NaN</td>\n",
       "      <td>NaN</td>\n",
       "      <td>0.000000</td>\n",
       "      <td>0.000000</td>\n",
       "      <td>0.000000</td>\n",
       "    </tr>\n",
       "    <tr>\n",
       "      <th>50%</th>\n",
       "      <td>NaN</td>\n",
       "      <td>NaN</td>\n",
       "      <td>0.000000</td>\n",
       "      <td>0.000000</td>\n",
       "      <td>NaN</td>\n",
       "      <td>0.000000</td>\n",
       "      <td>NaN</td>\n",
       "      <td>NaN</td>\n",
       "      <td>0.000000</td>\n",
       "      <td>0.000000</td>\n",
       "      <td>0.000000</td>\n",
       "    </tr>\n",
       "    <tr>\n",
       "      <th>75%</th>\n",
       "      <td>NaN</td>\n",
       "      <td>NaN</td>\n",
       "      <td>0.000000</td>\n",
       "      <td>0.000000</td>\n",
       "      <td>NaN</td>\n",
       "      <td>0.000000</td>\n",
       "      <td>NaN</td>\n",
       "      <td>NaN</td>\n",
       "      <td>0.000000</td>\n",
       "      <td>1.000000</td>\n",
       "      <td>1.000000</td>\n",
       "    </tr>\n",
       "    <tr>\n",
       "      <th>max</th>\n",
       "      <td>NaN</td>\n",
       "      <td>NaN</td>\n",
       "      <td>26.000000</td>\n",
       "      <td>21.000000</td>\n",
       "      <td>NaN</td>\n",
       "      <td>391.000000</td>\n",
       "      <td>NaN</td>\n",
       "      <td>NaN</td>\n",
       "      <td>8.000000</td>\n",
       "      <td>5.000000</td>\n",
       "      <td>1.000000</td>\n",
       "    </tr>\n",
       "  </tbody>\n",
       "</table>\n",
       "</div>"
      ],
      "text/plain": [
       "       country market_segment  previous_cancellations  booking_changes  \\\n",
       "count    83222          83573            83573.000000     83573.000000   \n",
       "unique     162              8                     NaN              NaN   \n",
       "top        PRT      Online TA                     NaN              NaN   \n",
       "freq     34097          39460                     NaN              NaN   \n",
       "mean       NaN            NaN                0.086798         0.220897   \n",
       "std        NaN            NaN                0.841011         0.648635   \n",
       "min        NaN            NaN                0.000000         0.000000   \n",
       "25%        NaN            NaN                0.000000         0.000000   \n",
       "50%        NaN            NaN                0.000000         0.000000   \n",
       "75%        NaN            NaN                0.000000         0.000000   \n",
       "max        NaN            NaN               26.000000        21.000000   \n",
       "\n",
       "       deposit_type  days_in_waiting_list customer_type reserved_room_type  \\\n",
       "count         83573          83573.000000         83573              83573   \n",
       "unique            3                   NaN             4                 10   \n",
       "top      No Deposit                   NaN     Transient                  A   \n",
       "freq          73352                   NaN         62732              60041   \n",
       "mean            NaN              2.330561           NaN                NaN   \n",
       "std             NaN             17.673051           NaN                NaN   \n",
       "min             NaN              0.000000           NaN                NaN   \n",
       "25%             NaN              0.000000           NaN                NaN   \n",
       "50%             NaN              0.000000           NaN                NaN   \n",
       "75%             NaN              0.000000           NaN                NaN   \n",
       "max             NaN            391.000000           NaN                NaN   \n",
       "\n",
       "        required_car_parking_spaces  total_of_special_requests   is_canceled  \n",
       "count                  83573.000000               83573.000000  83573.000000  \n",
       "unique                          NaN                        NaN           NaN  \n",
       "top                             NaN                        NaN           NaN  \n",
       "freq                            NaN                        NaN           NaN  \n",
       "mean                       0.062999                   0.573211      0.368277  \n",
       "std                        0.246919                   0.795163      0.482340  \n",
       "min                        0.000000                   0.000000      0.000000  \n",
       "25%                        0.000000                   0.000000      0.000000  \n",
       "50%                        0.000000                   0.000000      0.000000  \n",
       "75%                        0.000000                   1.000000      1.000000  \n",
       "max                        8.000000                   5.000000      1.000000  "
      ]
     },
     "execution_count": 5,
     "metadata": {},
     "output_type": "execute_result"
    }
   ],
   "source": [
    "df.describe(include='all')"
   ]
  },
  {
   "cell_type": "code",
   "execution_count": 6,
   "metadata": {},
   "outputs": [
    {
     "data": {
      "text/html": [
       "<div>\n",
       "<style scoped>\n",
       "    .dataframe tbody tr th:only-of-type {\n",
       "        vertical-align: middle;\n",
       "    }\n",
       "\n",
       "    .dataframe tbody tr th {\n",
       "        vertical-align: top;\n",
       "    }\n",
       "\n",
       "    .dataframe thead th {\n",
       "        text-align: right;\n",
       "    }\n",
       "</style>\n",
       "<table border=\"1\" class=\"dataframe\">\n",
       "  <thead>\n",
       "    <tr style=\"text-align: right;\">\n",
       "      <th></th>\n",
       "      <th>Column Name</th>\n",
       "      <th>Number of Unique</th>\n",
       "      <th>Unique Sample</th>\n",
       "    </tr>\n",
       "  </thead>\n",
       "  <tbody>\n",
       "    <tr>\n",
       "      <th>0</th>\n",
       "      <td>country</td>\n",
       "      <td>162</td>\n",
       "      <td>[IRL, FRA, PRT, NLD, ESP, UMI, CN, LUX, BRA, BEL, JPN, DEU, ITA, CHE, GBR, AGO, SRB, COL, CHN, SWE, AUT, CIV, CZE, POL, USA, SGP, RUS, ROU, DNK, IND, MAR, PHL, ARG, ISL, ZAF, LBN, MOZ, TUR, BGD, MEX, CAF, NOR, FIN, UKR, EGY, ISR, nan, KOR, AZE, HUN, AUS, EST, CHL, SVN, PRY, ABW, ALB, LTU, ARE, HRV, SAU, NZL, LVA, ATA, KAZ, DZA, TWN, CRI, BIH, BGR, IRQ, OMN, VEN, IDN, GEO, MLT, IRN, BLR, URY, LBY, TUN, BEN, MYS, MWI, GRC, CYP, CPV, HKG, PRI, MKD, MUS, IMN, PAN, NGA, GLP, KHM, PER, QAT, SEN, MAC, ...]</td>\n",
       "    </tr>\n",
       "    <tr>\n",
       "      <th>1</th>\n",
       "      <td>market_segment</td>\n",
       "      <td>8</td>\n",
       "      <td>[Offline TA/TO, Online TA, Direct, Groups, Corporate, Complementary, Aviation, Undefined]</td>\n",
       "    </tr>\n",
       "    <tr>\n",
       "      <th>2</th>\n",
       "      <td>previous_cancellations</td>\n",
       "      <td>15</td>\n",
       "      <td>[0, 1, 25, 2, 3, 11, 24, 13, 6, 26, 14, 4, 19, 5, 21]</td>\n",
       "    </tr>\n",
       "    <tr>\n",
       "      <th>3</th>\n",
       "      <td>booking_changes</td>\n",
       "      <td>19</td>\n",
       "      <td>[0, 1, 2, 5, 3, 4, 6, 7, 9, 8, 17, 10, 13, 12, 14, 21, 16, 20, 15]</td>\n",
       "    </tr>\n",
       "    <tr>\n",
       "      <th>4</th>\n",
       "      <td>deposit_type</td>\n",
       "      <td>3</td>\n",
       "      <td>[No Deposit, Non Refund, Refundable]</td>\n",
       "    </tr>\n",
       "    <tr>\n",
       "      <th>5</th>\n",
       "      <td>days_in_waiting_list</td>\n",
       "      <td>115</td>\n",
       "      <td>[0, 3, 39, 87, 77, 215, 97, 162, 46, 79, 4, 31, 122, 34, 57, 259, 50, 17, 32, 43, 75, 69, 44, 22, 113, 58, 38, 65, 48, 236, 176, 25, 108, 91, 19, 160, 68, 28, 63, 35, 42, 59, 24, 8, 183, 187, 21, 111, 56, 98, 101, 15, 16, 47, 93, 45, 14, 70, 10, 49, 178, 99, 60, 40, 85, 223, 6, 33, 391, 20, 1, 41, 147, 55, 80, 379, 150, 61, 330, 174, 107, 96, 18, 62, 13, 30, 120, 27, 207, 71, 2, 76, 125, 5, 9, 224, 53, 83, 84, 12, ...]</td>\n",
       "    </tr>\n",
       "    <tr>\n",
       "      <th>6</th>\n",
       "      <td>customer_type</td>\n",
       "      <td>4</td>\n",
       "      <td>[Transient-Party, Transient, Contract, Group]</td>\n",
       "    </tr>\n",
       "    <tr>\n",
       "      <th>7</th>\n",
       "      <td>reserved_room_type</td>\n",
       "      <td>10</td>\n",
       "      <td>[A, E, D, F, B, G, C, H, L, P]</td>\n",
       "    </tr>\n",
       "    <tr>\n",
       "      <th>8</th>\n",
       "      <td>required_car_parking_spaces</td>\n",
       "      <td>5</td>\n",
       "      <td>[0, 1, 2, 8, 3]</td>\n",
       "    </tr>\n",
       "    <tr>\n",
       "      <th>9</th>\n",
       "      <td>total_of_special_requests</td>\n",
       "      <td>6</td>\n",
       "      <td>[0, 2, 1, 3, 4, 5]</td>\n",
       "    </tr>\n",
       "    <tr>\n",
       "      <th>10</th>\n",
       "      <td>is_canceled</td>\n",
       "      <td>2</td>\n",
       "      <td>[0, 1]</td>\n",
       "    </tr>\n",
       "  </tbody>\n",
       "</table>\n",
       "</div>"
      ],
      "text/plain": [
       "                    Column Name  Number of Unique  \\\n",
       "0                       country               162   \n",
       "1                market_segment                 8   \n",
       "2        previous_cancellations                15   \n",
       "3               booking_changes                19   \n",
       "4                  deposit_type                 3   \n",
       "5          days_in_waiting_list               115   \n",
       "6                 customer_type                 4   \n",
       "7            reserved_room_type                10   \n",
       "8   required_car_parking_spaces                 5   \n",
       "9     total_of_special_requests                 6   \n",
       "10                  is_canceled                 2   \n",
       "\n",
       "                                                                                                                                                                                                                                                                                                                                                                                                                                                                                                               Unique Sample  \n",
       "0   [IRL, FRA, PRT, NLD, ESP, UMI, CN, LUX, BRA, BEL, JPN, DEU, ITA, CHE, GBR, AGO, SRB, COL, CHN, SWE, AUT, CIV, CZE, POL, USA, SGP, RUS, ROU, DNK, IND, MAR, PHL, ARG, ISL, ZAF, LBN, MOZ, TUR, BGD, MEX, CAF, NOR, FIN, UKR, EGY, ISR, nan, KOR, AZE, HUN, AUS, EST, CHL, SVN, PRY, ABW, ALB, LTU, ARE, HRV, SAU, NZL, LVA, ATA, KAZ, DZA, TWN, CRI, BIH, BGR, IRQ, OMN, VEN, IDN, GEO, MLT, IRN, BLR, URY, LBY, TUN, BEN, MYS, MWI, GRC, CYP, CPV, HKG, PRI, MKD, MUS, IMN, PAN, NGA, GLP, KHM, PER, QAT, SEN, MAC, ...]  \n",
       "1                                                                                                                                                                                                                                                                                                                                                                                                                                  [Offline TA/TO, Online TA, Direct, Groups, Corporate, Complementary, Aviation, Undefined]  \n",
       "2                                                                                                                                                                                                                                                                                                                                                                                                                                                                      [0, 1, 25, 2, 3, 11, 24, 13, 6, 26, 14, 4, 19, 5, 21]  \n",
       "3                                                                                                                                                                                                                                                                                                                                                                                                                                                         [0, 1, 2, 5, 3, 4, 6, 7, 9, 8, 17, 10, 13, 12, 14, 21, 16, 20, 15]  \n",
       "4                                                                                                                                                                                                                                                                                                                                                                                                                                                                                       [No Deposit, Non Refund, Refundable]  \n",
       "5                                                                                     [0, 3, 39, 87, 77, 215, 97, 162, 46, 79, 4, 31, 122, 34, 57, 259, 50, 17, 32, 43, 75, 69, 44, 22, 113, 58, 38, 65, 48, 236, 176, 25, 108, 91, 19, 160, 68, 28, 63, 35, 42, 59, 24, 8, 183, 187, 21, 111, 56, 98, 101, 15, 16, 47, 93, 45, 14, 70, 10, 49, 178, 99, 60, 40, 85, 223, 6, 33, 391, 20, 1, 41, 147, 55, 80, 379, 150, 61, 330, 174, 107, 96, 18, 62, 13, 30, 120, 27, 207, 71, 2, 76, 125, 5, 9, 224, 53, 83, 84, 12, ...]  \n",
       "6                                                                                                                                                                                                                                                                                                                                                                                                                                                                              [Transient-Party, Transient, Contract, Group]  \n",
       "7                                                                                                                                                                                                                                                                                                                                                                                                                                                                                             [A, E, D, F, B, G, C, H, L, P]  \n",
       "8                                                                                                                                                                                                                                                                                                                                                                                                                                                                                                            [0, 1, 2, 8, 3]  \n",
       "9                                                                                                                                                                                                                                                                                                                                                                                                                                                                                                         [0, 2, 1, 3, 4, 5]  \n",
       "10                                                                                                                                                                                                                                                                                                                                                                                                                                                                                                                    [0, 1]  "
      ]
     },
     "execution_count": 6,
     "metadata": {},
     "output_type": "execute_result"
    }
   ],
   "source": [
    "listItem = []\n",
    "for col in df.columns :\n",
    "    listItem.append( [col, df[col].nunique(), df[col].unique()])\n",
    "\n",
    "unique_values = pd.DataFrame(columns=['Column Name', 'Number of Unique', 'Unique Sample'],\n",
    "                     data=listItem)\n",
    "unique_values"
   ]
  },
  {
   "cell_type": "markdown",
   "metadata": {},
   "source": [
    "### Missing Values"
   ]
  },
  {
   "cell_type": "code",
   "execution_count": 7,
   "metadata": {},
   "outputs": [],
   "source": [
    "def missing_values(df):\n",
    "    missing_values = df.isnull().sum().to_frame().reset_index()\n",
    "    missing_values = missing_values.rename(columns = {'index': 'column', 0: 'number of missing values'})\n",
    "    missing_values['% missing values'] = (missing_values['number of missing values']/df.shape[0]*100).round(2)\n",
    "    \n",
    "    return missing_values\n"
   ]
  },
  {
   "cell_type": "code",
   "execution_count": 8,
   "metadata": {},
   "outputs": [
    {
     "data": {
      "text/html": [
       "<div>\n",
       "<style scoped>\n",
       "    .dataframe tbody tr th:only-of-type {\n",
       "        vertical-align: middle;\n",
       "    }\n",
       "\n",
       "    .dataframe tbody tr th {\n",
       "        vertical-align: top;\n",
       "    }\n",
       "\n",
       "    .dataframe thead th {\n",
       "        text-align: right;\n",
       "    }\n",
       "</style>\n",
       "<table border=\"1\" class=\"dataframe\">\n",
       "  <thead>\n",
       "    <tr style=\"text-align: right;\">\n",
       "      <th></th>\n",
       "      <th>column</th>\n",
       "      <th>number of missing values</th>\n",
       "      <th>% missing values</th>\n",
       "    </tr>\n",
       "  </thead>\n",
       "  <tbody>\n",
       "    <tr>\n",
       "      <th>0</th>\n",
       "      <td>country</td>\n",
       "      <td>351</td>\n",
       "      <td>0.42</td>\n",
       "    </tr>\n",
       "    <tr>\n",
       "      <th>1</th>\n",
       "      <td>market_segment</td>\n",
       "      <td>0</td>\n",
       "      <td>0.00</td>\n",
       "    </tr>\n",
       "    <tr>\n",
       "      <th>2</th>\n",
       "      <td>previous_cancellations</td>\n",
       "      <td>0</td>\n",
       "      <td>0.00</td>\n",
       "    </tr>\n",
       "    <tr>\n",
       "      <th>3</th>\n",
       "      <td>booking_changes</td>\n",
       "      <td>0</td>\n",
       "      <td>0.00</td>\n",
       "    </tr>\n",
       "    <tr>\n",
       "      <th>4</th>\n",
       "      <td>deposit_type</td>\n",
       "      <td>0</td>\n",
       "      <td>0.00</td>\n",
       "    </tr>\n",
       "    <tr>\n",
       "      <th>5</th>\n",
       "      <td>days_in_waiting_list</td>\n",
       "      <td>0</td>\n",
       "      <td>0.00</td>\n",
       "    </tr>\n",
       "    <tr>\n",
       "      <th>6</th>\n",
       "      <td>customer_type</td>\n",
       "      <td>0</td>\n",
       "      <td>0.00</td>\n",
       "    </tr>\n",
       "    <tr>\n",
       "      <th>7</th>\n",
       "      <td>reserved_room_type</td>\n",
       "      <td>0</td>\n",
       "      <td>0.00</td>\n",
       "    </tr>\n",
       "    <tr>\n",
       "      <th>8</th>\n",
       "      <td>required_car_parking_spaces</td>\n",
       "      <td>0</td>\n",
       "      <td>0.00</td>\n",
       "    </tr>\n",
       "    <tr>\n",
       "      <th>9</th>\n",
       "      <td>total_of_special_requests</td>\n",
       "      <td>0</td>\n",
       "      <td>0.00</td>\n",
       "    </tr>\n",
       "    <tr>\n",
       "      <th>10</th>\n",
       "      <td>is_canceled</td>\n",
       "      <td>0</td>\n",
       "      <td>0.00</td>\n",
       "    </tr>\n",
       "  </tbody>\n",
       "</table>\n",
       "</div>"
      ],
      "text/plain": [
       "                         column  number of missing values  % missing values\n",
       "0                       country                       351              0.42\n",
       "1                market_segment                         0              0.00\n",
       "2        previous_cancellations                         0              0.00\n",
       "3               booking_changes                         0              0.00\n",
       "4                  deposit_type                         0              0.00\n",
       "5          days_in_waiting_list                         0              0.00\n",
       "6                 customer_type                         0              0.00\n",
       "7            reserved_room_type                         0              0.00\n",
       "8   required_car_parking_spaces                         0              0.00\n",
       "9     total_of_special_requests                         0              0.00\n",
       "10                  is_canceled                         0              0.00"
      ]
     },
     "execution_count": 8,
     "metadata": {},
     "output_type": "execute_result"
    }
   ],
   "source": [
    "missing_values(df)"
   ]
  },
  {
   "cell_type": "markdown",
   "metadata": {},
   "source": [
    "There are some missing values in the `country` column. The number is quite small, so we can drop them or fill them with 'Other'. We will decide later on the preprocessing step."
   ]
  },
  {
   "cell_type": "markdown",
   "metadata": {},
   "source": [
    "### Duplicates"
   ]
  },
  {
   "cell_type": "code",
   "execution_count": 9,
   "metadata": {},
   "outputs": [
    {
     "name": "stdout",
     "output_type": "stream",
     "text": [
      "Number of duplicates = 73371\n"
     ]
    }
   ],
   "source": [
    "duplicates = df.duplicated().sum()\n",
    "\n",
    "print('Number of duplicates =', duplicates)"
   ]
  },
  {
   "cell_type": "code",
   "execution_count": 10,
   "metadata": {},
   "outputs": [
    {
     "name": "stdout",
     "output_type": "stream",
     "text": [
      "Percent of duplicates = 87.79270817129934\n"
     ]
    }
   ],
   "source": [
    "percent_duplicates = df.duplicated().sum()/len(df)*100\n",
    "\n",
    "print('Percent of duplicates =', percent_duplicates)"
   ]
  },
  {
   "cell_type": "code",
   "execution_count": 11,
   "metadata": {},
   "outputs": [
    {
     "data": {
      "text/html": [
       "<div>\n",
       "<style scoped>\n",
       "    .dataframe tbody tr th:only-of-type {\n",
       "        vertical-align: middle;\n",
       "    }\n",
       "\n",
       "    .dataframe tbody tr th {\n",
       "        vertical-align: top;\n",
       "    }\n",
       "\n",
       "    .dataframe thead th {\n",
       "        text-align: right;\n",
       "    }\n",
       "</style>\n",
       "<table border=\"1\" class=\"dataframe\">\n",
       "  <thead>\n",
       "    <tr style=\"text-align: right;\">\n",
       "      <th></th>\n",
       "      <th>country</th>\n",
       "      <th>market_segment</th>\n",
       "      <th>previous_cancellations</th>\n",
       "      <th>booking_changes</th>\n",
       "      <th>deposit_type</th>\n",
       "      <th>days_in_waiting_list</th>\n",
       "      <th>customer_type</th>\n",
       "      <th>reserved_room_type</th>\n",
       "      <th>required_car_parking_spaces</th>\n",
       "      <th>total_of_special_requests</th>\n",
       "      <th>is_canceled</th>\n",
       "    </tr>\n",
       "  </thead>\n",
       "  <tbody>\n",
       "    <tr>\n",
       "      <th>7</th>\n",
       "      <td>PRT</td>\n",
       "      <td>Groups</td>\n",
       "      <td>0</td>\n",
       "      <td>0</td>\n",
       "      <td>Non Refund</td>\n",
       "      <td>0</td>\n",
       "      <td>Transient</td>\n",
       "      <td>A</td>\n",
       "      <td>0</td>\n",
       "      <td>0</td>\n",
       "      <td>1</td>\n",
       "    </tr>\n",
       "    <tr>\n",
       "      <th>22</th>\n",
       "      <td>PRT</td>\n",
       "      <td>Groups</td>\n",
       "      <td>0</td>\n",
       "      <td>0</td>\n",
       "      <td>Non Refund</td>\n",
       "      <td>0</td>\n",
       "      <td>Transient</td>\n",
       "      <td>A</td>\n",
       "      <td>0</td>\n",
       "      <td>0</td>\n",
       "      <td>1</td>\n",
       "    </tr>\n",
       "    <tr>\n",
       "      <th>29</th>\n",
       "      <td>PRT</td>\n",
       "      <td>Online TA</td>\n",
       "      <td>0</td>\n",
       "      <td>0</td>\n",
       "      <td>No Deposit</td>\n",
       "      <td>0</td>\n",
       "      <td>Transient</td>\n",
       "      <td>A</td>\n",
       "      <td>0</td>\n",
       "      <td>1</td>\n",
       "      <td>0</td>\n",
       "    </tr>\n",
       "    <tr>\n",
       "      <th>34</th>\n",
       "      <td>PRT</td>\n",
       "      <td>Groups</td>\n",
       "      <td>0</td>\n",
       "      <td>0</td>\n",
       "      <td>Non Refund</td>\n",
       "      <td>0</td>\n",
       "      <td>Transient</td>\n",
       "      <td>A</td>\n",
       "      <td>0</td>\n",
       "      <td>0</td>\n",
       "      <td>1</td>\n",
       "    </tr>\n",
       "    <tr>\n",
       "      <th>44</th>\n",
       "      <td>PRT</td>\n",
       "      <td>Groups</td>\n",
       "      <td>0</td>\n",
       "      <td>0</td>\n",
       "      <td>Non Refund</td>\n",
       "      <td>0</td>\n",
       "      <td>Transient</td>\n",
       "      <td>A</td>\n",
       "      <td>0</td>\n",
       "      <td>0</td>\n",
       "      <td>1</td>\n",
       "    </tr>\n",
       "    <tr>\n",
       "      <th>...</th>\n",
       "      <td>...</td>\n",
       "      <td>...</td>\n",
       "      <td>...</td>\n",
       "      <td>...</td>\n",
       "      <td>...</td>\n",
       "      <td>...</td>\n",
       "      <td>...</td>\n",
       "      <td>...</td>\n",
       "      <td>...</td>\n",
       "      <td>...</td>\n",
       "      <td>...</td>\n",
       "    </tr>\n",
       "    <tr>\n",
       "      <th>83568</th>\n",
       "      <td>PRT</td>\n",
       "      <td>Online TA</td>\n",
       "      <td>0</td>\n",
       "      <td>0</td>\n",
       "      <td>No Deposit</td>\n",
       "      <td>0</td>\n",
       "      <td>Contract</td>\n",
       "      <td>A</td>\n",
       "      <td>0</td>\n",
       "      <td>3</td>\n",
       "      <td>1</td>\n",
       "    </tr>\n",
       "    <tr>\n",
       "      <th>83569</th>\n",
       "      <td>FRA</td>\n",
       "      <td>Online TA</td>\n",
       "      <td>0</td>\n",
       "      <td>0</td>\n",
       "      <td>No Deposit</td>\n",
       "      <td>0</td>\n",
       "      <td>Transient</td>\n",
       "      <td>D</td>\n",
       "      <td>0</td>\n",
       "      <td>2</td>\n",
       "      <td>0</td>\n",
       "    </tr>\n",
       "    <tr>\n",
       "      <th>83570</th>\n",
       "      <td>PRT</td>\n",
       "      <td>Online TA</td>\n",
       "      <td>0</td>\n",
       "      <td>1</td>\n",
       "      <td>No Deposit</td>\n",
       "      <td>0</td>\n",
       "      <td>Transient</td>\n",
       "      <td>D</td>\n",
       "      <td>0</td>\n",
       "      <td>3</td>\n",
       "      <td>0</td>\n",
       "    </tr>\n",
       "    <tr>\n",
       "      <th>83571</th>\n",
       "      <td>CN</td>\n",
       "      <td>Offline TA/TO</td>\n",
       "      <td>0</td>\n",
       "      <td>0</td>\n",
       "      <td>No Deposit</td>\n",
       "      <td>0</td>\n",
       "      <td>Transient-Party</td>\n",
       "      <td>A</td>\n",
       "      <td>0</td>\n",
       "      <td>0</td>\n",
       "      <td>0</td>\n",
       "    </tr>\n",
       "    <tr>\n",
       "      <th>83572</th>\n",
       "      <td>PRT</td>\n",
       "      <td>Groups</td>\n",
       "      <td>0</td>\n",
       "      <td>0</td>\n",
       "      <td>Non Refund</td>\n",
       "      <td>0</td>\n",
       "      <td>Transient</td>\n",
       "      <td>A</td>\n",
       "      <td>0</td>\n",
       "      <td>0</td>\n",
       "      <td>1</td>\n",
       "    </tr>\n",
       "  </tbody>\n",
       "</table>\n",
       "<p>73371 rows × 11 columns</p>\n",
       "</div>"
      ],
      "text/plain": [
       "      country market_segment  previous_cancellations  booking_changes  \\\n",
       "7         PRT         Groups                       0                0   \n",
       "22        PRT         Groups                       0                0   \n",
       "29        PRT      Online TA                       0                0   \n",
       "34        PRT         Groups                       0                0   \n",
       "44        PRT         Groups                       0                0   \n",
       "...       ...            ...                     ...              ...   \n",
       "83568     PRT      Online TA                       0                0   \n",
       "83569     FRA      Online TA                       0                0   \n",
       "83570     PRT      Online TA                       0                1   \n",
       "83571      CN  Offline TA/TO                       0                0   \n",
       "83572     PRT         Groups                       0                0   \n",
       "\n",
       "      deposit_type  days_in_waiting_list    customer_type reserved_room_type  \\\n",
       "7       Non Refund                     0        Transient                  A   \n",
       "22      Non Refund                     0        Transient                  A   \n",
       "29      No Deposit                     0        Transient                  A   \n",
       "34      Non Refund                     0        Transient                  A   \n",
       "44      Non Refund                     0        Transient                  A   \n",
       "...            ...                   ...              ...                ...   \n",
       "83568   No Deposit                     0         Contract                  A   \n",
       "83569   No Deposit                     0        Transient                  D   \n",
       "83570   No Deposit                     0        Transient                  D   \n",
       "83571   No Deposit                     0  Transient-Party                  A   \n",
       "83572   Non Refund                     0        Transient                  A   \n",
       "\n",
       "       required_car_parking_spaces  total_of_special_requests  is_canceled  \n",
       "7                                0                          0            1  \n",
       "22                               0                          0            1  \n",
       "29                               0                          1            0  \n",
       "34                               0                          0            1  \n",
       "44                               0                          0            1  \n",
       "...                            ...                        ...          ...  \n",
       "83568                            0                          3            1  \n",
       "83569                            0                          2            0  \n",
       "83570                            0                          3            0  \n",
       "83571                            0                          0            0  \n",
       "83572                            0                          0            1  \n",
       "\n",
       "[73371 rows x 11 columns]"
      ]
     },
     "execution_count": 11,
     "metadata": {},
     "output_type": "execute_result"
    }
   ],
   "source": [
    "df[df.duplicated()]"
   ]
  },
  {
   "cell_type": "markdown",
   "metadata": {},
   "source": [
    "There are 87.79% duplicates in our data. Since each row represents a booking, it's natural if a booking happens to have the same details with another booking. Because we don't have information about the booking ID to identify wheter a booking is duplicated or not, we just assume that our data has no duplicate bookings. So, we will leave the duplicates in our data and use them for modeling."
   ]
  },
  {
   "cell_type": "markdown",
   "metadata": {},
   "source": [
    "## EDA"
   ]
  },
  {
   "cell_type": "code",
   "execution_count": 12,
   "metadata": {},
   "outputs": [],
   "source": [
    "categorical_cols = list(df.select_dtypes(['object','category']).columns)\n",
    "numerical_cols = list(set(df.drop('is_canceled', axis=1).columns)-set(categorical_cols))"
   ]
  },
  {
   "cell_type": "markdown",
   "metadata": {},
   "source": [
    "### Number of bookings which are canceled"
   ]
  },
  {
   "cell_type": "code",
   "execution_count": 13,
   "metadata": {},
   "outputs": [
    {
     "data": {
      "image/png": "[encoded data removed]",
      "text/plain": [
       "<Figure size 480x720 with 1 Axes>"
      ]
     },
     "metadata": {
      "needs_background": "light"
     },
     "output_type": "display_data"
    }
   ],
   "source": [
    "plt.figure(figsize=(8,12), dpi=60)\n",
    "fig = sns.countplot(data= df, x = 'is_canceled', order=df['is_canceled'].value_counts().index)\n",
    "\n",
    "percentage = df['is_canceled'].value_counts()/len(df)*100\n",
    "label = ['{:,.1f} K\\n({:.1f} %)'.format(x, y) for x, y in zip(fig.containers[0].datavalues/1000,percentage)]\n",
    "fig.bar_label(fig.containers[0], labels=label, padding=3)\n",
    "\n",
    "ytick_label = ['{:,.0f} K'.format(x) for x in (fig.get_yticks()[:-1]/1000)]\n",
    "fig.set_yticks(range(0, 50001, 10000))\n",
    "fig.set_yticklabels(ytick_label)\n",
    "\n",
    "plt.ylabel('Number of Bookings')\n",
    "plt.xlabel('Booking Status')\n",
    "plt.title('Number of Bookings Which are Canceled')\n",
    "\n",
    "plt.show()"
   ]
  },
  {
   "cell_type": "markdown",
   "metadata": {},
   "source": [
    "We can see that our data has **imbalance target**. The figure shows that **63.2%** of the bookings are **not canceled** and **36.8%** of the bookings are **canceled**."
   ]
  },
  {
   "cell_type": "markdown",
   "metadata": {},
   "source": [
    "### Data Distribution"
   ]
  },
  {
   "cell_type": "code",
   "execution_count": 14,
   "metadata": {},
   "outputs": [
    {
     "data": {
      "image/png": "[encoded data removed]",
      "text/plain": [
       "<Figure size 1728x576 with 6 Axes>"
      ]
     },
     "metadata": {
      "needs_background": "light"
     },
     "output_type": "display_data"
    }
   ],
   "source": [
    "fig, axes = plt.subplots(2, 3, figsize=(24,8))\n",
    "\n",
    "for i, j in zip(numerical_cols, axes.flatten()):\n",
    "    sns.boxplot(data=df, x= i, ax= j)\n",
    "\n",
    "plt.gca().axis('off')\n",
    "\n",
    "plt.show()"
   ]
  },
  {
   "cell_type": "code",
   "execution_count": 15,
   "metadata": {},
   "outputs": [
    {
     "data": {
      "image/png": "[encoded data removed]",
      "text/plain": [
       "<Figure size 1728x576 with 6 Axes>"
      ]
     },
     "metadata": {
      "needs_background": "light"
     },
     "output_type": "display_data"
    }
   ],
   "source": [
    "fig, axes = plt.subplots(2, 3, figsize=(24,8))\n",
    "\n",
    "for i, j in zip(numerical_cols, axes.flatten()):\n",
    "    sns.histplot(data=df, x= i, ax= j)\n",
    "\n",
    "plt.gca().axis('off')\n",
    "\n",
    "plt.show()"
   ]
  },
  {
   "cell_type": "code",
   "execution_count": 16,
   "metadata": {},
   "outputs": [
    {
     "data": {
      "image/png": "[encoded data removed]",
      "text/plain": [
       "<Figure size 864x432 with 4 Axes>"
      ]
     },
     "metadata": {
      "needs_background": "light"
     },
     "output_type": "display_data"
    }
   ],
   "source": [
    "fig, axes = plt.subplots(2, 2, figsize=(12, 6))\n",
    "\n",
    "for i, j in zip([cols for cols in categorical_cols if cols != 'country'], axes.flatten()):\n",
    "    sns.countplot(data=df, y= i, ax= j, order=df[i].value_counts().index)\n",
    "\n",
    "\n",
    "plt.tight_layout()\n",
    "plt.show()\n"
   ]
  },
  {
   "cell_type": "code",
   "execution_count": 17,
   "metadata": {},
   "outputs": [
    {
     "data": {
      "text/html": [
       "<div>\n",
       "<style scoped>\n",
       "    .dataframe tbody tr th:only-of-type {\n",
       "        vertical-align: middle;\n",
       "    }\n",
       "\n",
       "    .dataframe tbody tr th {\n",
       "        vertical-align: top;\n",
       "    }\n",
       "\n",
       "    .dataframe thead th {\n",
       "        text-align: right;\n",
       "    }\n",
       "</style>\n",
       "<table border=\"1\" class=\"dataframe\">\n",
       "  <thead>\n",
       "    <tr style=\"text-align: right;\">\n",
       "      <th></th>\n",
       "      <th>Country</th>\n",
       "      <th>Number of Bookings</th>\n",
       "    </tr>\n",
       "  </thead>\n",
       "  <tbody>\n",
       "    <tr>\n",
       "      <th>0</th>\n",
       "      <td>PRT</td>\n",
       "      <td>34097</td>\n",
       "    </tr>\n",
       "    <tr>\n",
       "      <th>1</th>\n",
       "      <td>GBR</td>\n",
       "      <td>8495</td>\n",
       "    </tr>\n",
       "    <tr>\n",
       "      <th>2</th>\n",
       "      <td>FRA</td>\n",
       "      <td>7307</td>\n",
       "    </tr>\n",
       "    <tr>\n",
       "      <th>3</th>\n",
       "      <td>ESP</td>\n",
       "      <td>5996</td>\n",
       "    </tr>\n",
       "    <tr>\n",
       "      <th>4</th>\n",
       "      <td>DEU</td>\n",
       "      <td>5116</td>\n",
       "    </tr>\n",
       "    <tr>\n",
       "      <th>5</th>\n",
       "      <td>ITA</td>\n",
       "      <td>2658</td>\n",
       "    </tr>\n",
       "    <tr>\n",
       "      <th>6</th>\n",
       "      <td>IRL</td>\n",
       "      <td>2340</td>\n",
       "    </tr>\n",
       "    <tr>\n",
       "      <th>7</th>\n",
       "      <td>BEL</td>\n",
       "      <td>1648</td>\n",
       "    </tr>\n",
       "    <tr>\n",
       "      <th>8</th>\n",
       "      <td>BRA</td>\n",
       "      <td>1553</td>\n",
       "    </tr>\n",
       "    <tr>\n",
       "      <th>9</th>\n",
       "      <td>USA</td>\n",
       "      <td>1472</td>\n",
       "    </tr>\n",
       "  </tbody>\n",
       "</table>\n",
       "</div>"
      ],
      "text/plain": [
       "  Country  Number of Bookings\n",
       "0     PRT               34097\n",
       "1     GBR                8495\n",
       "2     FRA                7307\n",
       "3     ESP                5996\n",
       "4     DEU                5116\n",
       "5     ITA                2658\n",
       "6     IRL                2340\n",
       "7     BEL                1648\n",
       "8     BRA                1553\n",
       "9     USA                1472"
      ]
     },
     "execution_count": 17,
     "metadata": {},
     "output_type": "execute_result"
    }
   ],
   "source": [
    "top10_country = df['country'].value_counts().to_frame().reset_index().head(10)\n",
    "top10_country = top10_country.rename(columns={'country':'Number of Bookings', 'index': 'Country'})\n",
    "top10_country"
   ]
  },
  {
   "cell_type": "code",
   "execution_count": 18,
   "metadata": {},
   "outputs": [
    {
     "data": {
      "text/plain": [
       "<AxesSubplot:xlabel='Country', ylabel='Number of Bookings'>"
      ]
     },
     "execution_count": 18,
     "metadata": {},
     "output_type": "execute_result"
    },
    {
     "data": {
      "image/png": "[encoded data removed]",
      "text/plain": [
       "<Figure size 432x288 with 1 Axes>"
      ]
     },
     "metadata": {
      "needs_background": "light"
     },
     "output_type": "display_data"
    }
   ],
   "source": [
    "sns.barplot(data = top10_country, x='Country', y='Number of Bookings')"
   ]
  },
  {
   "cell_type": "markdown",
   "metadata": {},
   "source": [
    "**Summary**:\n",
    "- Most of the bookings have **no** special request, booking changes, or previous cancellations. They also spend **no** days in waiting list and **don't** require car parking spaces.\n",
    "- The biggest market segment comes from **online travel agency** and the customer type is **transient**.\n",
    "- The bookings mostly reserve **room type A** and require **no deposit**.\n",
    "- The top 5 countries of the bookings come from **Europe** with **Portugal** as the most common one."
   ]
  },
  {
   "cell_type": "markdown",
   "metadata": {},
   "source": [
    "### Bivariate Analysis"
   ]
  },
  {
   "cell_type": "code",
   "execution_count": 19,
   "metadata": {},
   "outputs": [
    {
     "data": {
      "image/png": "[encoded data removed]",
      "text/plain": [
       "<Figure size 1296x576 with 6 Axes>"
      ]
     },
     "metadata": {
      "needs_background": "light"
     },
     "output_type": "display_data"
    }
   ],
   "source": [
    "fig, axes = plt.subplots(2, 3, figsize=(18, 8))\n",
    "\n",
    "for i, j in zip(numerical_cols, axes.flatten()):\n",
    "    graph = sns.barplot(data=df, x= 'is_canceled', y= i , ax= j, ci=0)\n",
    "    graph.set_xlabel('Booking Status')\n",
    "\n",
    "plt.gca().axis('off')\n",
    "plt.show()"
   ]
  },
  {
   "cell_type": "code",
   "execution_count": 20,
   "metadata": {},
   "outputs": [
    {
     "data": {
      "image/png": "[encoded data removed]",
      "text/plain": [
       "<Figure size 864x576 with 4 Axes>"
      ]
     },
     "metadata": {
      "needs_background": "light"
     },
     "output_type": "display_data"
    }
   ],
   "source": [
    "fig, axes = plt.subplots(2, 2, figsize=(12, 8))\n",
    "\n",
    "for i, j in zip([cols for cols in categorical_cols if cols != 'country'], axes.flatten()):\n",
    "    sns.countplot(data=df, y= i, ax= j, hue='is_canceled', order=df[i].value_counts().index)\n",
    "\n",
    "plt.tight_layout()\n",
    "plt.show()\n"
   ]
  },
  {
   "cell_type": "code",
   "execution_count": 21,
   "metadata": {},
   "outputs": [
    {
     "data": {
      "text/plain": [
       "<AxesSubplot:xlabel='count', ylabel='country'>"
      ]
     },
     "execution_count": 21,
     "metadata": {},
     "output_type": "execute_result"
    },
    {
     "data": {
      "image/png": "[encoded data removed]",
      "text/plain": [
       "<Figure size 432x288 with 1 Axes>"
      ]
     },
     "metadata": {
      "needs_background": "light"
     },
     "output_type": "display_data"
    }
   ],
   "source": [
    "df_country = df[df['country'].isin(top10_country['Country'])]\n",
    "\n",
    "sns.countplot(data=df_country, y= 'country', hue='is_canceled', order= df_country['country'].value_counts().index)\n"
   ]
  },
  {
   "cell_type": "code",
   "execution_count": 22,
   "metadata": {},
   "outputs": [
    {
     "data": {
      "text/plain": [
       "<AxesSubplot:title={'center':'Correlation Matrix'}>"
      ]
     },
     "execution_count": 22,
     "metadata": {},
     "output_type": "execute_result"
    },
    {
     "data": {
      "image/png": "[encoded data removed]",
      "text/plain": [
       "<Figure size 576x432 with 2 Axes>"
      ]
     },
     "metadata": {
      "needs_background": "light"
     },
     "output_type": "display_data"
    }
   ],
   "source": [
    "plt.figure(figsize=(8,6))\n",
    "plt.title('Correlation Matrix', fontsize=24)\n",
    "sns.heatmap(df.corr(), annot=True, fmt='.2f', cmap= 'vlag', center=0)"
   ]
  },
  {
   "cell_type": "markdown",
   "metadata": {},
   "source": [
    "**Summary**:\n",
    "- The canceled bookings tend to have **higher** days in waiting list and previous cancellations.\n",
    "- The **group** market segment has the highest proportion of canceled bookings \n",
    "- The **non refund** bookings also have the highest proportion of canceled bookings.\n",
    "- Most of the canceled bookings come from **Portugal**.\n",
    "- The canceled bookings have a **weak correlation** with number of special requests."
   ]
  },
  {
   "cell_type": "markdown",
   "metadata": {},
   "source": [
    "### Multivariate Analysis"
   ]
  },
  {
   "cell_type": "code",
   "execution_count": 23,
   "metadata": {},
   "outputs": [
    {
     "data": {
      "image/png": "[encoded data removed]",
      "text/plain": [
       "<Figure size 1296x576 with 6 Axes>"
      ]
     },
     "metadata": {
      "needs_background": "light"
     },
     "output_type": "display_data"
    }
   ],
   "source": [
    "fig, axes = plt.subplots(2, 3, figsize=(18, 8))\n",
    "\n",
    "for i, j in zip(numerical_cols, axes.flatten()):\n",
    "    graph = sns.scatterplot(data=df, x='previous_cancellations', y= i, hue='is_canceled', alpha=0.2 , ax= j)\n",
    "\n",
    "plt.gca().axis('off')\n",
    "plt.show()"
   ]
  },
  {
   "cell_type": "code",
   "execution_count": 24,
   "metadata": {},
   "outputs": [
    {
     "data": {
      "image/png": "[encoded data removed]",
      "text/plain": [
       "<Figure size 1296x576 with 6 Axes>"
      ]
     },
     "metadata": {
      "needs_background": "light"
     },
     "output_type": "display_data"
    }
   ],
   "source": [
    "fig, axes = plt.subplots(2, 3, figsize=(18, 8))\n",
    "\n",
    "for i, j in zip(numerical_cols, axes.flatten()):\n",
    "    graph = sns.scatterplot(data=df, x='days_in_waiting_list', y= i, hue='is_canceled', alpha=0.2, ax= j)\n",
    "\n",
    "plt.gca().axis('off')\n",
    "plt.show()"
   ]
  },
  {
   "cell_type": "markdown",
   "metadata": {},
   "source": [
    "From the graph, we can not really see any obvious pattern in our data. So, we will just move on to the next step."
   ]
  },
  {
   "cell_type": "markdown",
   "metadata": {},
   "source": [
    "## Handling Outliers\n",
    "\n",
    "Because we don't have enough domain knowledge to identify the outliers in our data, we will not do anything to the outliers."
   ]
  },
  {
   "cell_type": "markdown",
   "metadata": {},
   "source": [
    "## Define features"
   ]
  },
  {
   "cell_type": "markdown",
   "metadata": {},
   "source": [
    "We will use all the columns for our features. We don't do feature selection because we don't have many columns from the beginning."
   ]
  },
  {
   "cell_type": "code",
   "execution_count": 25,
   "metadata": {},
   "outputs": [],
   "source": [
    "X = df.drop('is_canceled', axis=1)\n",
    "y = df['is_canceled']"
   ]
  },
  {
   "cell_type": "markdown",
   "metadata": {},
   "source": [
    "## Data Splitting"
   ]
  },
  {
   "cell_type": "code",
   "execution_count": 26,
   "metadata": {},
   "outputs": [],
   "source": [
    "X_train, X_test, y_train, y_test = train_test_split(X, y, random_state=0, stratify=y)"
   ]
  },
  {
   "cell_type": "markdown",
   "metadata": {},
   "source": [
    "## Preprocessing\n",
    "\n",
    "We will do several steps for our preprocessing:\n",
    "- Impute missing values\n",
    "    - `country`: constant (Other)\n",
    "        <br>\n",
    "        We will fill the missing values in the `country` column with 'Other' because we can't guess where the bookings come from. So, it will make more sense to fill them with 'Other'.\n",
    "- Encoding\n",
    "    - `country`: binary encoding\n",
    "       <br>\n",
    "        We will use binary encoding for the `country` column because it has a large number of uniques\n",
    "    - `market_segment`, `deposit_type`, `customer_type`, `reserved_room_type` : one-hot encoding\n",
    "      <br>\n",
    "        For the other category columns, we will use one-hot encoding because the data is nominal not ordinal and they don't have large number of uniques.  \n",
    "- Scaling : Robust Scaler\n",
    "   <br>\n",
    "    We use Robust Scaler because our data has outliers and Robust Scaler won't be affected by outliers. We can tune the scaler later to find the best scaler.\n"
   ]
  },
  {
   "cell_type": "code",
   "execution_count": 27,
   "metadata": {},
   "outputs": [
    {
     "data": {
      "text/html": [
       "<style>#sk-container-id-1 {color: black;background-color: white;}#sk-container-id-1 pre{padding: 0;}#sk-container-id-1 div.sk-toggleable {background-color: white;}#sk-container-id-1 label.sk-toggleable__label {cursor: pointer;display: block;width: 100%;margin-bottom: 0;padding: 0.3em;box-sizing: border-box;text-align: center;}#sk-container-id-1 label.sk-toggleable__label-arrow:before {content: \"▸\";float: left;margin-right: 0.25em;color: #696969;}#sk-container-id-1 label.sk-toggleable__label-arrow:hover:before {color: black;}#sk-container-id-1 div.sk-estimator:hover label.sk-toggleable__label-arrow:before {color: black;}#sk-container-id-1 div.sk-toggleable__content {max-height: 0;max-width: 0;overflow: hidden;text-align: left;background-color: #f0f8ff;}#sk-container-id-1 div.sk-toggleable__content pre {margin: 0.2em;color: black;border-radius: 0.25em;background-color: #f0f8ff;}#sk-container-id-1 input.sk-toggleable__control:checked~div.sk-toggleable__content {max-height: 200px;max-width: 100%;overflow: auto;}#sk-container-id-1 input.sk-toggleable__control:checked~label.sk-toggleable__label-arrow:before {content: \"▾\";}#sk-container-id-1 div.sk-estimator input.sk-toggleable__control:checked~label.sk-toggleable__label {background-color: #d4ebff;}#sk-container-id-1 div.sk-label input.sk-toggleable__control:checked~label.sk-toggleable__label {background-color: #d4ebff;}#sk-container-id-1 input.sk-hidden--visually {border: 0;clip: rect(1px 1px 1px 1px);clip: rect(1px, 1px, 1px, 1px);height: 1px;margin: -1px;overflow: hidden;padding: 0;position: absolute;width: 1px;}#sk-container-id-1 div.sk-estimator {font-family: monospace;background-color: #f0f8ff;border: 1px dotted black;border-radius: 0.25em;box-sizing: border-box;margin-bottom: 0.5em;}#sk-container-id-1 div.sk-estimator:hover {background-color: #d4ebff;}#sk-container-id-1 div.sk-parallel-item::after {content: \"\";width: 100%;border-bottom: 1px solid gray;flex-grow: 1;}#sk-container-id-1 div.sk-label:hover label.sk-toggleable__label {background-color: #d4ebff;}#sk-container-id-1 div.sk-serial::before {content: \"\";position: absolute;border-left: 1px solid gray;box-sizing: border-box;top: 0;bottom: 0;left: 50%;z-index: 0;}#sk-container-id-1 div.sk-serial {display: flex;flex-direction: column;align-items: center;background-color: white;padding-right: 0.2em;padding-left: 0.2em;position: relative;}#sk-container-id-1 div.sk-item {position: relative;z-index: 1;}#sk-container-id-1 div.sk-parallel {display: flex;align-items: stretch;justify-content: center;background-color: white;position: relative;}#sk-container-id-1 div.sk-item::before, #sk-container-id-1 div.sk-parallel-item::before {content: \"\";position: absolute;border-left: 1px solid gray;box-sizing: border-box;top: 0;bottom: 0;left: 50%;z-index: -1;}#sk-container-id-1 div.sk-parallel-item {display: flex;flex-direction: column;z-index: 1;position: relative;background-color: white;}#sk-container-id-1 div.sk-parallel-item:first-child::after {align-self: flex-end;width: 50%;}#sk-container-id-1 div.sk-parallel-item:last-child::after {align-self: flex-start;width: 50%;}#sk-container-id-1 div.sk-parallel-item:only-child::after {width: 0;}#sk-container-id-1 div.sk-dashed-wrapped {border: 1px dashed gray;margin: 0 0.4em 0.5em 0.4em;box-sizing: border-box;padding-bottom: 0.4em;background-color: white;}#sk-container-id-1 div.sk-label label {font-family: monospace;font-weight: bold;display: inline-block;line-height: 1.2em;}#sk-container-id-1 div.sk-label-container {text-align: center;}#sk-container-id-1 div.sk-container {/* jupyter's `normalize.less` sets `[hidden] { display: none; }` but bootstrap.min.css set `[hidden] { display: none !important; }` so we also need the `!important` here to be able to override the default hidden behavior on the sphinx rendered scikit-learn.org. See: https://github.com/scikit-learn/scikit-learn/issues/21755 */display: inline-block !important;position: relative;}#sk-container-id-1 div.sk-text-repr-fallback {display: none;}</style><div id=\"sk-container-id-1\" class=\"sk-top-container\"><div class=\"sk-text-repr-fallback\"><pre>Pipeline(steps=[(&#x27;constant&#x27;,\n",
       "                 SimpleImputer(fill_value=&#x27;Other&#x27;, strategy=&#x27;constant&#x27;)),\n",
       "                (&#x27;binary&#x27;, BinaryEncoder(handle_unknown=&#x27;indicator&#x27;))])</pre><b>In a Jupyter environment, please rerun this cell to show the HTML representation or trust the notebook. <br />On GitHub, the HTML representation is unable to render, please try loading this page with nbviewer.org.</b></div><div class=\"sk-container\" hidden><div class=\"sk-item sk-dashed-wrapped\"><div class=\"sk-label-container\"><div class=\"sk-label sk-toggleable\"><input class=\"sk-toggleable__control sk-hidden--visually\" id=\"sk-estimator-id-1\" type=\"checkbox\" ><label for=\"sk-estimator-id-1\" class=\"sk-toggleable__label sk-toggleable__label-arrow\">Pipeline</label><div class=\"sk-toggleable__content\"><pre>Pipeline(steps=[(&#x27;constant&#x27;,\n",
       "                 SimpleImputer(fill_value=&#x27;Other&#x27;, strategy=&#x27;constant&#x27;)),\n",
       "                (&#x27;binary&#x27;, BinaryEncoder(handle_unknown=&#x27;indicator&#x27;))])</pre></div></div></div><div class=\"sk-serial\"><div class=\"sk-item\"><div class=\"sk-estimator sk-toggleable\"><input class=\"sk-toggleable__control sk-hidden--visually\" id=\"sk-estimator-id-2\" type=\"checkbox\" ><label for=\"sk-estimator-id-2\" class=\"sk-toggleable__label sk-toggleable__label-arrow\">SimpleImputer</label><div class=\"sk-toggleable__content\"><pre>SimpleImputer(fill_value=&#x27;Other&#x27;, strategy=&#x27;constant&#x27;)</pre></div></div></div><div class=\"sk-item\"><div class=\"sk-estimator sk-toggleable\"><input class=\"sk-toggleable__control sk-hidden--visually\" id=\"sk-estimator-id-3\" type=\"checkbox\" ><label for=\"sk-estimator-id-3\" class=\"sk-toggleable__label sk-toggleable__label-arrow\">BinaryEncoder</label><div class=\"sk-toggleable__content\"><pre>BinaryEncoder(handle_unknown=&#x27;indicator&#x27;)</pre></div></div></div></div></div></div></div>"
      ],
      "text/plain": [
       "Pipeline(steps=[('constant',\n",
       "                 SimpleImputer(fill_value='Other', strategy='constant')),\n",
       "                ('binary', BinaryEncoder(handle_unknown='indicator'))])"
      ]
     },
     "execution_count": 27,
     "metadata": {},
     "output_type": "execute_result"
    }
   ],
   "source": [
    "imp_binary = Pipeline([\n",
    "    ('constant', SimpleImputer(strategy='constant', fill_value='Other')),\n",
    "    ('binary', ce.BinaryEncoder(handle_unknown='indicator'))\n",
    "    ])\n",
    "\n",
    "imp_binary"
   ]
  },
  {
   "cell_type": "code",
   "execution_count": 28,
   "metadata": {},
   "outputs": [
    {
     "data": {
      "text/html": [
       "<style>#sk-container-id-2 {color: black;background-color: white;}#sk-container-id-2 pre{padding: 0;}#sk-container-id-2 div.sk-toggleable {background-color: white;}#sk-container-id-2 label.sk-toggleable__label {cursor: pointer;display: block;width: 100%;margin-bottom: 0;padding: 0.3em;box-sizing: border-box;text-align: center;}#sk-container-id-2 label.sk-toggleable__label-arrow:before {content: \"▸\";float: left;margin-right: 0.25em;color: #696969;}#sk-container-id-2 label.sk-toggleable__label-arrow:hover:before {color: black;}#sk-container-id-2 div.sk-estimator:hover label.sk-toggleable__label-arrow:before {color: black;}#sk-container-id-2 div.sk-toggleable__content {max-height: 0;max-width: 0;overflow: hidden;text-align: left;background-color: #f0f8ff;}#sk-container-id-2 div.sk-toggleable__content pre {margin: 0.2em;color: black;border-radius: 0.25em;background-color: #f0f8ff;}#sk-container-id-2 input.sk-toggleable__control:checked~div.sk-toggleable__content {max-height: 200px;max-width: 100%;overflow: auto;}#sk-container-id-2 input.sk-toggleable__control:checked~label.sk-toggleable__label-arrow:before {content: \"▾\";}#sk-container-id-2 div.sk-estimator input.sk-toggleable__control:checked~label.sk-toggleable__label {background-color: #d4ebff;}#sk-container-id-2 div.sk-label input.sk-toggleable__control:checked~label.sk-toggleable__label {background-color: #d4ebff;}#sk-container-id-2 input.sk-hidden--visually {border: 0;clip: rect(1px 1px 1px 1px);clip: rect(1px, 1px, 1px, 1px);height: 1px;margin: -1px;overflow: hidden;padding: 0;position: absolute;width: 1px;}#sk-container-id-2 div.sk-estimator {font-family: monospace;background-color: #f0f8ff;border: 1px dotted black;border-radius: 0.25em;box-sizing: border-box;margin-bottom: 0.5em;}#sk-container-id-2 div.sk-estimator:hover {background-color: #d4ebff;}#sk-container-id-2 div.sk-parallel-item::after {content: \"\";width: 100%;border-bottom: 1px solid gray;flex-grow: 1;}#sk-container-id-2 div.sk-label:hover label.sk-toggleable__label {background-color: #d4ebff;}#sk-container-id-2 div.sk-serial::before {content: \"\";position: absolute;border-left: 1px solid gray;box-sizing: border-box;top: 0;bottom: 0;left: 50%;z-index: 0;}#sk-container-id-2 div.sk-serial {display: flex;flex-direction: column;align-items: center;background-color: white;padding-right: 0.2em;padding-left: 0.2em;position: relative;}#sk-container-id-2 div.sk-item {position: relative;z-index: 1;}#sk-container-id-2 div.sk-parallel {display: flex;align-items: stretch;justify-content: center;background-color: white;position: relative;}#sk-container-id-2 div.sk-item::before, #sk-container-id-2 div.sk-parallel-item::before {content: \"\";position: absolute;border-left: 1px solid gray;box-sizing: border-box;top: 0;bottom: 0;left: 50%;z-index: -1;}#sk-container-id-2 div.sk-parallel-item {display: flex;flex-direction: column;z-index: 1;position: relative;background-color: white;}#sk-container-id-2 div.sk-parallel-item:first-child::after {align-self: flex-end;width: 50%;}#sk-container-id-2 div.sk-parallel-item:last-child::after {align-self: flex-start;width: 50%;}#sk-container-id-2 div.sk-parallel-item:only-child::after {width: 0;}#sk-container-id-2 div.sk-dashed-wrapped {border: 1px dashed gray;margin: 0 0.4em 0.5em 0.4em;box-sizing: border-box;padding-bottom: 0.4em;background-color: white;}#sk-container-id-2 div.sk-label label {font-family: monospace;font-weight: bold;display: inline-block;line-height: 1.2em;}#sk-container-id-2 div.sk-label-container {text-align: center;}#sk-container-id-2 div.sk-container {/* jupyter's `normalize.less` sets `[hidden] { display: none; }` but bootstrap.min.css set `[hidden] { display: none !important; }` so we also need the `!important` here to be able to override the default hidden behavior on the sphinx rendered scikit-learn.org. See: https://github.com/scikit-learn/scikit-learn/issues/21755 */display: inline-block !important;position: relative;}#sk-container-id-2 div.sk-text-repr-fallback {display: none;}</style><div id=\"sk-container-id-2\" class=\"sk-top-container\"><div class=\"sk-text-repr-fallback\"><pre>ColumnTransformer(remainder=&#x27;passthrough&#x27;,\n",
       "                  transformers=[(&#x27;imp_binary&#x27;,\n",
       "                                 Pipeline(steps=[(&#x27;constant&#x27;,\n",
       "                                                  SimpleImputer(fill_value=&#x27;Other&#x27;,\n",
       "                                                                strategy=&#x27;constant&#x27;)),\n",
       "                                                 (&#x27;binary&#x27;,\n",
       "                                                  BinaryEncoder(handle_unknown=&#x27;indicator&#x27;))]),\n",
       "                                 [&#x27;country&#x27;]),\n",
       "                                (&#x27;one hot&#x27;,\n",
       "                                 OneHotEncoder(handle_unknown=&#x27;infrequent_if_exist&#x27;,\n",
       "                                               min_frequency=6),\n",
       "                                 [&#x27;market_segment&#x27;, &#x27;deposit_type&#x27;,\n",
       "                                  &#x27;customer_type&#x27;, &#x27;reserved_room_type&#x27;])])</pre><b>In a Jupyter environment, please rerun this cell to show the HTML representation or trust the notebook. <br />On GitHub, the HTML representation is unable to render, please try loading this page with nbviewer.org.</b></div><div class=\"sk-container\" hidden><div class=\"sk-item sk-dashed-wrapped\"><div class=\"sk-label-container\"><div class=\"sk-label sk-toggleable\"><input class=\"sk-toggleable__control sk-hidden--visually\" id=\"sk-estimator-id-4\" type=\"checkbox\" ><label for=\"sk-estimator-id-4\" class=\"sk-toggleable__label sk-toggleable__label-arrow\">ColumnTransformer</label><div class=\"sk-toggleable__content\"><pre>ColumnTransformer(remainder=&#x27;passthrough&#x27;,\n",
       "                  transformers=[(&#x27;imp_binary&#x27;,\n",
       "                                 Pipeline(steps=[(&#x27;constant&#x27;,\n",
       "                                                  SimpleImputer(fill_value=&#x27;Other&#x27;,\n",
       "                                                                strategy=&#x27;constant&#x27;)),\n",
       "                                                 (&#x27;binary&#x27;,\n",
       "                                                  BinaryEncoder(handle_unknown=&#x27;indicator&#x27;))]),\n",
       "                                 [&#x27;country&#x27;]),\n",
       "                                (&#x27;one hot&#x27;,\n",
       "                                 OneHotEncoder(handle_unknown=&#x27;infrequent_if_exist&#x27;,\n",
       "                                               min_frequency=6),\n",
       "                                 [&#x27;market_segment&#x27;, &#x27;deposit_type&#x27;,\n",
       "                                  &#x27;customer_type&#x27;, &#x27;reserved_room_type&#x27;])])</pre></div></div></div><div class=\"sk-parallel\"><div class=\"sk-parallel-item\"><div class=\"sk-item\"><div class=\"sk-label-container\"><div class=\"sk-label sk-toggleable\"><input class=\"sk-toggleable__control sk-hidden--visually\" id=\"sk-estimator-id-5\" type=\"checkbox\" ><label for=\"sk-estimator-id-5\" class=\"sk-toggleable__label sk-toggleable__label-arrow\">imp_binary</label><div class=\"sk-toggleable__content\"><pre>[&#x27;country&#x27;]</pre></div></div></div><div class=\"sk-serial\"><div class=\"sk-item\"><div class=\"sk-serial\"><div class=\"sk-item\"><div class=\"sk-estimator sk-toggleable\"><input class=\"sk-toggleable__control sk-hidden--visually\" id=\"sk-estimator-id-6\" type=\"checkbox\" ><label for=\"sk-estimator-id-6\" class=\"sk-toggleable__label sk-toggleable__label-arrow\">SimpleImputer</label><div class=\"sk-toggleable__content\"><pre>SimpleImputer(fill_value=&#x27;Other&#x27;, strategy=&#x27;constant&#x27;)</pre></div></div></div><div class=\"sk-item\"><div class=\"sk-estimator sk-toggleable\"><input class=\"sk-toggleable__control sk-hidden--visually\" id=\"sk-estimator-id-7\" type=\"checkbox\" ><label for=\"sk-estimator-id-7\" class=\"sk-toggleable__label sk-toggleable__label-arrow\">BinaryEncoder</label><div class=\"sk-toggleable__content\"><pre>BinaryEncoder(handle_unknown=&#x27;indicator&#x27;)</pre></div></div></div></div></div></div></div></div><div class=\"sk-parallel-item\"><div class=\"sk-item\"><div class=\"sk-label-container\"><div class=\"sk-label sk-toggleable\"><input class=\"sk-toggleable__control sk-hidden--visually\" id=\"sk-estimator-id-8\" type=\"checkbox\" ><label for=\"sk-estimator-id-8\" class=\"sk-toggleable__label sk-toggleable__label-arrow\">one hot</label><div class=\"sk-toggleable__content\"><pre>[&#x27;market_segment&#x27;, &#x27;deposit_type&#x27;, &#x27;customer_type&#x27;, &#x27;reserved_room_type&#x27;]</pre></div></div></div><div class=\"sk-serial\"><div class=\"sk-item\"><div class=\"sk-estimator sk-toggleable\"><input class=\"sk-toggleable__control sk-hidden--visually\" id=\"sk-estimator-id-9\" type=\"checkbox\" ><label for=\"sk-estimator-id-9\" class=\"sk-toggleable__label sk-toggleable__label-arrow\">OneHotEncoder</label><div class=\"sk-toggleable__content\"><pre>OneHotEncoder(handle_unknown=&#x27;infrequent_if_exist&#x27;, min_frequency=6)</pre></div></div></div></div></div></div><div class=\"sk-parallel-item\"><div class=\"sk-item\"><div class=\"sk-label-container\"><div class=\"sk-label sk-toggleable\"><input class=\"sk-toggleable__control sk-hidden--visually\" id=\"sk-estimator-id-10\" type=\"checkbox\" ><label for=\"sk-estimator-id-10\" class=\"sk-toggleable__label sk-toggleable__label-arrow\">remainder</label><div class=\"sk-toggleable__content\"><pre></pre></div></div></div><div class=\"sk-serial\"><div class=\"sk-item\"><div class=\"sk-estimator sk-toggleable\"><input class=\"sk-toggleable__control sk-hidden--visually\" id=\"sk-estimator-id-11\" type=\"checkbox\" ><label for=\"sk-estimator-id-11\" class=\"sk-toggleable__label sk-toggleable__label-arrow\">passthrough</label><div class=\"sk-toggleable__content\"><pre>passthrough</pre></div></div></div></div></div></div></div></div></div></div>"
      ],
      "text/plain": [
       "ColumnTransformer(remainder='passthrough',\n",
       "                  transformers=[('imp_binary',\n",
       "                                 Pipeline(steps=[('constant',\n",
       "                                                  SimpleImputer(fill_value='Other',\n",
       "                                                                strategy='constant')),\n",
       "                                                 ('binary',\n",
       "                                                  BinaryEncoder(handle_unknown='indicator'))]),\n",
       "                                 ['country']),\n",
       "                                ('one hot',\n",
       "                                 OneHotEncoder(handle_unknown='infrequent_if_exist',\n",
       "                                               min_frequency=6),\n",
       "                                 ['market_segment', 'deposit_type',\n",
       "                                  'customer_type', 'reserved_room_type'])])"
      ]
     },
     "execution_count": 28,
     "metadata": {},
     "output_type": "execute_result"
    }
   ],
   "source": [
    "transformer = ColumnTransformer([\n",
    "    ('imp_binary', imp_binary, ['country']),\n",
    "    ('one hot', OneHotEncoder(handle_unknown='infrequent_if_exist', min_frequency=6), [col for col in categorical_cols if col != 'country'])\n",
    "], remainder = 'passthrough')\n",
    "\n",
    "transformer"
   ]
  },
  {
   "cell_type": "code",
   "execution_count": 29,
   "metadata": {},
   "outputs": [],
   "source": [
    "scaler = RobustScaler()"
   ]
  },
  {
   "cell_type": "markdown",
   "metadata": {},
   "source": [
    "## Benchmark Model\n",
    "\n",
    "Model benchmarking is a method to evaluate and compare ML algorithms regarding their ability to learn the data. The metric that will be used to measure our models' performance is f0.5 score. This metric is chosen because the positive target is more important and we want to put more weight on precision. We will decide our best model base on the f0.5 score and its training time."
   ]
  },
  {
   "cell_type": "markdown",
   "metadata": {},
   "source": [
    "#### Models"
   ]
  },
  {
   "cell_type": "code",
   "execution_count": 30,
   "metadata": {},
   "outputs": [],
   "source": [
    "logreg = LogisticRegression(random_state=0, solver='liblinear')\n",
    "knn = KNeighborsClassifier(n_neighbors=5)\n",
    "dtree = DecisionTreeClassifier(random_state=0, max_depth=5)\n",
    "rf = RandomForestClassifier(random_state=0)\n",
    "ada = AdaBoostClassifier(random_state=0)\n",
    "gbm = GradientBoostingClassifier(random_state=0)\n",
    "lgbm = lgb.LGBMClassifier()\n",
    "xgboost = XGBClassifier()\n",
    "\n",
    "\n",
    "models = [\n",
    "    ('Logistic Regression', logreg), \n",
    "    ('KNN', knn),\n",
    "    ('Decision Tree', dtree),\n",
    "    ('Random Forest', rf), \n",
    "    ('AdaBoost', ada),\n",
    "    ('Gradient Boosting', gbm),\n",
    "    ('Light GBM', lgbm),\n",
    "    ('Xgboost', xgboost)\n",
    "    ]"
   ]
  },
  {
   "cell_type": "code",
   "execution_count": 31,
   "metadata": {},
   "outputs": [],
   "source": [
    "scoring_f05 = make_scorer(fbeta_score, beta=0.5)"
   ]
  },
  {
   "cell_type": "code",
   "execution_count": 32,
   "metadata": {},
   "outputs": [],
   "source": [
    "def cross_val(X_train, y_train, models, metric):\n",
    "\n",
    "    list_name = []\n",
    "    list_mean = []\n",
    "    list_std = []\n",
    "    cross_val = []\n",
    "    list_fit_time = []\n",
    "    list_score_time = []\n",
    "\n",
    "    for name, model in models:\n",
    "        pipe_model = Pipeline([\n",
    "            ('preprocessing', transformer),\n",
    "            ('scaler', scaler),\n",
    "            ('algo', model)\n",
    "        ])\n",
    "\n",
    "        skfold = StratifiedKFold(n_splits=5, shuffle=True, random_state=0)\n",
    "\n",
    "        model_cv = cross_validate(\n",
    "            estimator= pipe_model,\n",
    "            X= X_train,\n",
    "            y= y_train,\n",
    "            cv= skfold,\n",
    "            scoring= metric\n",
    "        )\n",
    "\n",
    "        if type(metric) == str:\n",
    "            metric_name = metric\n",
    "        else:\n",
    "            metric_name = 'f0.5' \n",
    "        \n",
    "        list_name.append(name)\n",
    "        list_fit_time.append(round(model_cv['fit_time'].mean(), 3))\n",
    "        list_score_time.append(round(model_cv['score_time'].mean(), 3))\n",
    "        list_mean.append(round(model_cv['test_score'].mean(), 3))\n",
    "        list_std.append(round(model_cv['test_score'].std(), 3))\n",
    "        cross_val.append(np.round_(model_cv['test_score'],3))\n",
    "\n",
    "    result = pd.DataFrame({\n",
    "        'model' : list_name,\n",
    "        f'mean {metric_name}' : list_mean,\n",
    "        'std' : list_std,\n",
    "        'fit time' : list_fit_time,\n",
    "        'score time' : list_score_time,\n",
    "        f'{metric_name}' : cross_val\n",
    "    })    \n",
    "\n",
    "    return result.sort_values(f'mean {metric_name}', ascending=False)"
   ]
  },
  {
   "cell_type": "code",
   "execution_count": 33,
   "metadata": {},
   "outputs": [
    {
     "data": {
      "text/html": [
       "<div>\n",
       "<style scoped>\n",
       "    .dataframe tbody tr th:only-of-type {\n",
       "        vertical-align: middle;\n",
       "    }\n",
       "\n",
       "    .dataframe tbody tr th {\n",
       "        vertical-align: top;\n",
       "    }\n",
       "\n",
       "    .dataframe thead th {\n",
       "        text-align: right;\n",
       "    }\n",
       "</style>\n",
       "<table border=\"1\" class=\"dataframe\">\n",
       "  <thead>\n",
       "    <tr style=\"text-align: right;\">\n",
       "      <th></th>\n",
       "      <th>model</th>\n",
       "      <th>mean f0.5</th>\n",
       "      <th>std</th>\n",
       "      <th>fit time</th>\n",
       "      <th>score time</th>\n",
       "      <th>f0.5</th>\n",
       "    </tr>\n",
       "  </thead>\n",
       "  <tbody>\n",
       "    <tr>\n",
       "      <th>7</th>\n",
       "      <td>Xgboost</td>\n",
       "      <td>0.759</td>\n",
       "      <td>0.003</td>\n",
       "      <td>2.748</td>\n",
       "      <td>0.096</td>\n",
       "      <td>[0.763, 0.762, 0.758, 0.756, 0.756]</td>\n",
       "    </tr>\n",
       "    <tr>\n",
       "      <th>5</th>\n",
       "      <td>Gradient Boosting</td>\n",
       "      <td>0.758</td>\n",
       "      <td>0.004</td>\n",
       "      <td>9.538</td>\n",
       "      <td>0.060</td>\n",
       "      <td>[0.761, 0.759, 0.75, 0.759, 0.761]</td>\n",
       "    </tr>\n",
       "    <tr>\n",
       "      <th>6</th>\n",
       "      <td>Light GBM</td>\n",
       "      <td>0.757</td>\n",
       "      <td>0.003</td>\n",
       "      <td>0.715</td>\n",
       "      <td>0.110</td>\n",
       "      <td>[0.761, 0.76, 0.753, 0.756, 0.754]</td>\n",
       "    </tr>\n",
       "    <tr>\n",
       "      <th>3</th>\n",
       "      <td>Random Forest</td>\n",
       "      <td>0.748</td>\n",
       "      <td>0.003</td>\n",
       "      <td>3.791</td>\n",
       "      <td>0.261</td>\n",
       "      <td>[0.751, 0.751, 0.749, 0.743, 0.747]</td>\n",
       "    </tr>\n",
       "    <tr>\n",
       "      <th>4</th>\n",
       "      <td>AdaBoost</td>\n",
       "      <td>0.743</td>\n",
       "      <td>0.005</td>\n",
       "      <td>2.970</td>\n",
       "      <td>0.181</td>\n",
       "      <td>[0.748, 0.744, 0.736, 0.74, 0.75]</td>\n",
       "    </tr>\n",
       "    <tr>\n",
       "      <th>2</th>\n",
       "      <td>Decision Tree</td>\n",
       "      <td>0.735</td>\n",
       "      <td>0.008</td>\n",
       "      <td>0.457</td>\n",
       "      <td>0.036</td>\n",
       "      <td>[0.736, 0.732, 0.724, 0.748, 0.734]</td>\n",
       "    </tr>\n",
       "    <tr>\n",
       "      <th>0</th>\n",
       "      <td>Logistic Regression</td>\n",
       "      <td>0.725</td>\n",
       "      <td>0.003</td>\n",
       "      <td>0.753</td>\n",
       "      <td>0.039</td>\n",
       "      <td>[0.726, 0.721, 0.726, 0.721, 0.729]</td>\n",
       "    </tr>\n",
       "    <tr>\n",
       "      <th>1</th>\n",
       "      <td>KNN</td>\n",
       "      <td>0.712</td>\n",
       "      <td>0.003</td>\n",
       "      <td>0.389</td>\n",
       "      <td>1.799</td>\n",
       "      <td>[0.715, 0.708, 0.713, 0.709, 0.714]</td>\n",
       "    </tr>\n",
       "  </tbody>\n",
       "</table>\n",
       "</div>"
      ],
      "text/plain": [
       "                 model  mean f0.5    std  fit time  score time  \\\n",
       "7              Xgboost      0.759  0.003     2.748       0.096   \n",
       "5    Gradient Boosting      0.758  0.004     9.538       0.060   \n",
       "6            Light GBM      0.757  0.003     0.715       0.110   \n",
       "3        Random Forest      0.748  0.003     3.791       0.261   \n",
       "4             AdaBoost      0.743  0.005     2.970       0.181   \n",
       "2        Decision Tree      0.735  0.008     0.457       0.036   \n",
       "0  Logistic Regression      0.725  0.003     0.753       0.039   \n",
       "1                  KNN      0.712  0.003     0.389       1.799   \n",
       "\n",
       "                                  f0.5  \n",
       "7  [0.763, 0.762, 0.758, 0.756, 0.756]  \n",
       "5   [0.761, 0.759, 0.75, 0.759, 0.761]  \n",
       "6   [0.761, 0.76, 0.753, 0.756, 0.754]  \n",
       "3  [0.751, 0.751, 0.749, 0.743, 0.747]  \n",
       "4    [0.748, 0.744, 0.736, 0.74, 0.75]  \n",
       "2  [0.736, 0.732, 0.724, 0.748, 0.734]  \n",
       "0  [0.726, 0.721, 0.726, 0.721, 0.729]  \n",
       "1  [0.715, 0.708, 0.713, 0.709, 0.714]  "
      ]
     },
     "execution_count": 33,
     "metadata": {},
     "output_type": "execute_result"
    }
   ],
   "source": [
    "cross_val(X_train, y_train, models, scoring_f05)"
   ]
  },
  {
   "cell_type": "code",
   "execution_count": 34,
   "metadata": {},
   "outputs": [
    {
     "data": {
      "text/html": [
       "<div>\n",
       "<style scoped>\n",
       "    .dataframe tbody tr th:only-of-type {\n",
       "        vertical-align: middle;\n",
       "    }\n",
       "\n",
       "    .dataframe tbody tr th {\n",
       "        vertical-align: top;\n",
       "    }\n",
       "\n",
       "    .dataframe thead th {\n",
       "        text-align: right;\n",
       "    }\n",
       "</style>\n",
       "<table border=\"1\" class=\"dataframe\">\n",
       "  <thead>\n",
       "    <tr style=\"text-align: right;\">\n",
       "      <th></th>\n",
       "      <th>model</th>\n",
       "      <th>mean precision</th>\n",
       "      <th>std</th>\n",
       "      <th>fit time</th>\n",
       "      <th>score time</th>\n",
       "      <th>precision</th>\n",
       "    </tr>\n",
       "  </thead>\n",
       "  <tbody>\n",
       "    <tr>\n",
       "      <th>4</th>\n",
       "      <td>AdaBoost</td>\n",
       "      <td>0.810</td>\n",
       "      <td>0.009</td>\n",
       "      <td>3.379</td>\n",
       "      <td>0.212</td>\n",
       "      <td>[0.824, 0.807, 0.8, 0.804, 0.814]</td>\n",
       "    </tr>\n",
       "    <tr>\n",
       "      <th>5</th>\n",
       "      <td>Gradient Boosting</td>\n",
       "      <td>0.809</td>\n",
       "      <td>0.007</td>\n",
       "      <td>9.656</td>\n",
       "      <td>0.057</td>\n",
       "      <td>[0.815, 0.811, 0.798, 0.803, 0.816]</td>\n",
       "    </tr>\n",
       "    <tr>\n",
       "      <th>0</th>\n",
       "      <td>Logistic Regression</td>\n",
       "      <td>0.783</td>\n",
       "      <td>0.008</td>\n",
       "      <td>0.688</td>\n",
       "      <td>0.036</td>\n",
       "      <td>[0.784, 0.774, 0.795, 0.775, 0.788]</td>\n",
       "    </tr>\n",
       "    <tr>\n",
       "      <th>7</th>\n",
       "      <td>Xgboost</td>\n",
       "      <td>0.781</td>\n",
       "      <td>0.010</td>\n",
       "      <td>2.922</td>\n",
       "      <td>0.101</td>\n",
       "      <td>[0.799, 0.779, 0.782, 0.77, 0.774]</td>\n",
       "    </tr>\n",
       "    <tr>\n",
       "      <th>6</th>\n",
       "      <td>Light GBM</td>\n",
       "      <td>0.774</td>\n",
       "      <td>0.005</td>\n",
       "      <td>0.697</td>\n",
       "      <td>0.110</td>\n",
       "      <td>[0.784, 0.775, 0.773, 0.77, 0.771]</td>\n",
       "    </tr>\n",
       "    <tr>\n",
       "      <th>2</th>\n",
       "      <td>Decision Tree</td>\n",
       "      <td>0.768</td>\n",
       "      <td>0.010</td>\n",
       "      <td>0.480</td>\n",
       "      <td>0.036</td>\n",
       "      <td>[0.77, 0.761, 0.756, 0.785, 0.767]</td>\n",
       "    </tr>\n",
       "    <tr>\n",
       "      <th>3</th>\n",
       "      <td>Random Forest</td>\n",
       "      <td>0.763</td>\n",
       "      <td>0.009</td>\n",
       "      <td>3.850</td>\n",
       "      <td>0.264</td>\n",
       "      <td>[0.777, 0.763, 0.766, 0.75, 0.76]</td>\n",
       "    </tr>\n",
       "    <tr>\n",
       "      <th>1</th>\n",
       "      <td>KNN</td>\n",
       "      <td>0.725</td>\n",
       "      <td>0.004</td>\n",
       "      <td>0.339</td>\n",
       "      <td>1.802</td>\n",
       "      <td>[0.723, 0.72, 0.732, 0.722, 0.726]</td>\n",
       "    </tr>\n",
       "  </tbody>\n",
       "</table>\n",
       "</div>"
      ],
      "text/plain": [
       "                 model  mean precision    std  fit time  score time  \\\n",
       "4             AdaBoost           0.810  0.009     3.379       0.212   \n",
       "5    Gradient Boosting           0.809  0.007     9.656       0.057   \n",
       "0  Logistic Regression           0.783  0.008     0.688       0.036   \n",
       "7              Xgboost           0.781  0.010     2.922       0.101   \n",
       "6            Light GBM           0.774  0.005     0.697       0.110   \n",
       "2        Decision Tree           0.768  0.010     0.480       0.036   \n",
       "3        Random Forest           0.763  0.009     3.850       0.264   \n",
       "1                  KNN           0.725  0.004     0.339       1.802   \n",
       "\n",
       "                             precision  \n",
       "4    [0.824, 0.807, 0.8, 0.804, 0.814]  \n",
       "5  [0.815, 0.811, 0.798, 0.803, 0.816]  \n",
       "0  [0.784, 0.774, 0.795, 0.775, 0.788]  \n",
       "7   [0.799, 0.779, 0.782, 0.77, 0.774]  \n",
       "6   [0.784, 0.775, 0.773, 0.77, 0.771]  \n",
       "2   [0.77, 0.761, 0.756, 0.785, 0.767]  \n",
       "3    [0.777, 0.763, 0.766, 0.75, 0.76]  \n",
       "1   [0.723, 0.72, 0.732, 0.722, 0.726]  "
      ]
     },
     "execution_count": 34,
     "metadata": {},
     "output_type": "execute_result"
    }
   ],
   "source": [
    "cross_val(X_train, y_train, models, 'precision')"
   ]
  },
  {
   "cell_type": "code",
   "execution_count": 35,
   "metadata": {},
   "outputs": [
    {
     "data": {
      "text/html": [
       "<div>\n",
       "<style scoped>\n",
       "    .dataframe tbody tr th:only-of-type {\n",
       "        vertical-align: middle;\n",
       "    }\n",
       "\n",
       "    .dataframe tbody tr th {\n",
       "        vertical-align: top;\n",
       "    }\n",
       "\n",
       "    .dataframe thead th {\n",
       "        text-align: right;\n",
       "    }\n",
       "</style>\n",
       "<table border=\"1\" class=\"dataframe\">\n",
       "  <thead>\n",
       "    <tr style=\"text-align: right;\">\n",
       "      <th></th>\n",
       "      <th>model</th>\n",
       "      <th>mean recall</th>\n",
       "      <th>std</th>\n",
       "      <th>fit time</th>\n",
       "      <th>score time</th>\n",
       "      <th>recall</th>\n",
       "    </tr>\n",
       "  </thead>\n",
       "  <tbody>\n",
       "    <tr>\n",
       "      <th>3</th>\n",
       "      <td>Random Forest</td>\n",
       "      <td>0.695</td>\n",
       "      <td>0.018</td>\n",
       "      <td>3.975</td>\n",
       "      <td>0.263</td>\n",
       "      <td>[0.664, 0.708, 0.687, 0.715, 0.7]</td>\n",
       "    </tr>\n",
       "    <tr>\n",
       "      <th>6</th>\n",
       "      <td>Light GBM</td>\n",
       "      <td>0.694</td>\n",
       "      <td>0.009</td>\n",
       "      <td>0.740</td>\n",
       "      <td>0.107</td>\n",
       "      <td>[0.682, 0.703, 0.686, 0.706, 0.692]</td>\n",
       "    </tr>\n",
       "    <tr>\n",
       "      <th>7</th>\n",
       "      <td>Xgboost</td>\n",
       "      <td>0.684</td>\n",
       "      <td>0.021</td>\n",
       "      <td>3.148</td>\n",
       "      <td>0.111</td>\n",
       "      <td>[0.647, 0.7, 0.676, 0.705, 0.692]</td>\n",
       "    </tr>\n",
       "    <tr>\n",
       "      <th>1</th>\n",
       "      <td>KNN</td>\n",
       "      <td>0.666</td>\n",
       "      <td>0.012</td>\n",
       "      <td>0.330</td>\n",
       "      <td>1.879</td>\n",
       "      <td>[0.685, 0.663, 0.647, 0.662, 0.67]</td>\n",
       "    </tr>\n",
       "    <tr>\n",
       "      <th>2</th>\n",
       "      <td>Decision Tree</td>\n",
       "      <td>0.628</td>\n",
       "      <td>0.004</td>\n",
       "      <td>0.442</td>\n",
       "      <td>0.035</td>\n",
       "      <td>[0.627, 0.634, 0.621, 0.629, 0.627]</td>\n",
       "    </tr>\n",
       "    <tr>\n",
       "      <th>5</th>\n",
       "      <td>Gradient Boosting</td>\n",
       "      <td>0.607</td>\n",
       "      <td>0.008</td>\n",
       "      <td>9.779</td>\n",
       "      <td>0.057</td>\n",
       "      <td>[0.602, 0.604, 0.605, 0.622, 0.601]</td>\n",
       "    </tr>\n",
       "    <tr>\n",
       "      <th>4</th>\n",
       "      <td>AdaBoost</td>\n",
       "      <td>0.560</td>\n",
       "      <td>0.009</td>\n",
       "      <td>3.175</td>\n",
       "      <td>0.184</td>\n",
       "      <td>[0.544, 0.566, 0.556, 0.561, 0.571]</td>\n",
       "    </tr>\n",
       "    <tr>\n",
       "      <th>0</th>\n",
       "      <td>Logistic Regression</td>\n",
       "      <td>0.558</td>\n",
       "      <td>0.009</td>\n",
       "      <td>0.677</td>\n",
       "      <td>0.034</td>\n",
       "      <td>[0.56, 0.566, 0.539, 0.562, 0.56]</td>\n",
       "    </tr>\n",
       "  </tbody>\n",
       "</table>\n",
       "</div>"
      ],
      "text/plain": [
       "                 model  mean recall    std  fit time  score time  \\\n",
       "3        Random Forest        0.695  0.018     3.975       0.263   \n",
       "6            Light GBM        0.694  0.009     0.740       0.107   \n",
       "7              Xgboost        0.684  0.021     3.148       0.111   \n",
       "1                  KNN        0.666  0.012     0.330       1.879   \n",
       "2        Decision Tree        0.628  0.004     0.442       0.035   \n",
       "5    Gradient Boosting        0.607  0.008     9.779       0.057   \n",
       "4             AdaBoost        0.560  0.009     3.175       0.184   \n",
       "0  Logistic Regression        0.558  0.009     0.677       0.034   \n",
       "\n",
       "                                recall  \n",
       "3    [0.664, 0.708, 0.687, 0.715, 0.7]  \n",
       "6  [0.682, 0.703, 0.686, 0.706, 0.692]  \n",
       "7    [0.647, 0.7, 0.676, 0.705, 0.692]  \n",
       "1   [0.685, 0.663, 0.647, 0.662, 0.67]  \n",
       "2  [0.627, 0.634, 0.621, 0.629, 0.627]  \n",
       "5  [0.602, 0.604, 0.605, 0.622, 0.601]  \n",
       "4  [0.544, 0.566, 0.556, 0.561, 0.571]  \n",
       "0    [0.56, 0.566, 0.539, 0.562, 0.56]  "
      ]
     },
     "execution_count": 35,
     "metadata": {},
     "output_type": "execute_result"
    }
   ],
   "source": [
    "cross_val(X_train, y_train, models, 'recall')"
   ]
  },
  {
   "cell_type": "markdown",
   "metadata": {},
   "source": [
    "If we look at the f0.5 score the top 3 algorithms are Xgboost, Gradient Boosting, and Light GBM. But, if we go deeper into the precision score, it turns out Adaboost has the highest score and Xgboost only rank 4th. So, why is Xgboost rank 1st in the f0.5 score? The answer is clear when we look into the recall score. Xgboost has quite big difference in recall score with Adaboost. The difference in precision score between Xgboost and Adaboost is much smaller than the difference in recall score. Although, f0.5 score put more weight on precision score, but it also put recall score into consideration. This is also why we chose f.05 score as our main metric. If we chose precision as our metric, we might think Adaboost is our best algorithm. But it turns out its recall score is pretty bad. We want to quite balance it out, so the algorithm will have a good precision score and also pretty decent recall score.\n",
    "\n",
    "\n",
    "Next, we will look into the training time (fit time) of the top 3 algorithms. The top 3 algorithms have a really close f0.5 scores, but Xgboost and Gradient Boosting takes a lot longer in training time. In this case, we will try to tune Xgboost and Light GBM only because it will take too much time trying to train Gradient Boosting."
   ]
  },
  {
   "cell_type": "markdown",
   "metadata": {},
   "source": [
    "**Summary**\n",
    "\n",
    "The top 3 algorithms based on f0.5 score:\n",
    "\n",
    "No | Algorithm | Mean f0.5 | Mean Precision | Mean Recall |\n",
    "|--- |--- | --- | --- | --- |\n",
    "1 | Xgboost | 0.759 | 0.781 | 0.684 |\n",
    "2 | Gradient Boosting | 0.758 | 0.809 | 0.607 |\n",
    "3 | Light GBM | 0.757 | 0.774 | 0.694 |"
   ]
  },
  {
   "cell_type": "markdown",
   "metadata": {},
   "source": [
    "## Benchmark Model on Test Data\n",
    "\n",
    "Now, we will try to benchmark model using the test set to compare our model performannces."
   ]
  },
  {
   "cell_type": "code",
   "execution_count": 36,
   "metadata": {},
   "outputs": [
    {
     "data": {
      "text/html": [
       "<div>\n",
       "<style scoped>\n",
       "    .dataframe tbody tr th:only-of-type {\n",
       "        vertical-align: middle;\n",
       "    }\n",
       "\n",
       "    .dataframe tbody tr th {\n",
       "        vertical-align: top;\n",
       "    }\n",
       "\n",
       "    .dataframe thead th {\n",
       "        text-align: right;\n",
       "    }\n",
       "</style>\n",
       "<table border=\"1\" class=\"dataframe\">\n",
       "  <thead>\n",
       "    <tr style=\"text-align: right;\">\n",
       "      <th></th>\n",
       "      <th>model</th>\n",
       "      <th>f.05 score</th>\n",
       "      <th>precision</th>\n",
       "      <th>recall</th>\n",
       "      <th>fit time</th>\n",
       "      <th>score time</th>\n",
       "    </tr>\n",
       "  </thead>\n",
       "  <tbody>\n",
       "    <tr>\n",
       "      <th>5</th>\n",
       "      <td>Gradient Boosting</td>\n",
       "      <td>0.755</td>\n",
       "      <td>0.805</td>\n",
       "      <td>0.605</td>\n",
       "      <td>13.219</td>\n",
       "      <td>0.074</td>\n",
       "    </tr>\n",
       "    <tr>\n",
       "      <th>6</th>\n",
       "      <td>Light GBM</td>\n",
       "      <td>0.753</td>\n",
       "      <td>0.773</td>\n",
       "      <td>0.684</td>\n",
       "      <td>0.868</td>\n",
       "      <td>0.132</td>\n",
       "    </tr>\n",
       "    <tr>\n",
       "      <th>7</th>\n",
       "      <td>Xgboost</td>\n",
       "      <td>0.753</td>\n",
       "      <td>0.771</td>\n",
       "      <td>0.688</td>\n",
       "      <td>3.283</td>\n",
       "      <td>0.117</td>\n",
       "    </tr>\n",
       "    <tr>\n",
       "      <th>3</th>\n",
       "      <td>Random Forest</td>\n",
       "      <td>0.745</td>\n",
       "      <td>0.758</td>\n",
       "      <td>0.700</td>\n",
       "      <td>5.224</td>\n",
       "      <td>0.416</td>\n",
       "    </tr>\n",
       "    <tr>\n",
       "      <th>4</th>\n",
       "      <td>AdaBoost</td>\n",
       "      <td>0.736</td>\n",
       "      <td>0.799</td>\n",
       "      <td>0.560</td>\n",
       "      <td>3.943</td>\n",
       "      <td>0.304</td>\n",
       "    </tr>\n",
       "    <tr>\n",
       "      <th>2</th>\n",
       "      <td>Decision Tree</td>\n",
       "      <td>0.729</td>\n",
       "      <td>0.759</td>\n",
       "      <td>0.627</td>\n",
       "      <td>0.665</td>\n",
       "      <td>0.052</td>\n",
       "    </tr>\n",
       "    <tr>\n",
       "      <th>1</th>\n",
       "      <td>KNN</td>\n",
       "      <td>0.719</td>\n",
       "      <td>0.730</td>\n",
       "      <td>0.676</td>\n",
       "      <td>0.460</td>\n",
       "      <td>4.003</td>\n",
       "    </tr>\n",
       "    <tr>\n",
       "      <th>0</th>\n",
       "      <td>Logistic Regression</td>\n",
       "      <td>0.716</td>\n",
       "      <td>0.773</td>\n",
       "      <td>0.551</td>\n",
       "      <td>1.002</td>\n",
       "      <td>0.115</td>\n",
       "    </tr>\n",
       "  </tbody>\n",
       "</table>\n",
       "</div>"
      ],
      "text/plain": [
       "                 model  f.05 score  precision  recall  fit time  score time\n",
       "5    Gradient Boosting       0.755      0.805   0.605    13.219       0.074\n",
       "6            Light GBM       0.753      0.773   0.684     0.868       0.132\n",
       "7              Xgboost       0.753      0.771   0.688     3.283       0.117\n",
       "3        Random Forest       0.745      0.758   0.700     5.224       0.416\n",
       "4             AdaBoost       0.736      0.799   0.560     3.943       0.304\n",
       "2        Decision Tree       0.729      0.759   0.627     0.665       0.052\n",
       "1                  KNN       0.719      0.730   0.676     0.460       4.003\n",
       "0  Logistic Regression       0.716      0.773   0.551     1.002       0.115"
      ]
     },
     "execution_count": 36,
     "metadata": {},
     "output_type": "execute_result"
    }
   ],
   "source": [
    "list_model = []\n",
    "list_f05 = []\n",
    "list_precision = []\n",
    "list_recall = []\n",
    "fit_time = []\n",
    "score_time = []\n",
    "\n",
    "for name, model in models:\n",
    "        pipe_model = Pipeline([\n",
    "                ('preprocessing', transformer),\n",
    "                ('scaler', scaler),\n",
    "                ('algo', model)\n",
    "            ])\n",
    "        \n",
    "        start = time.time()\n",
    "        pipe_model.fit(X_train, y_train)\n",
    "        stop = time.time()\n",
    "        fit_time.append(round((stop-start), 3))\n",
    "\n",
    "        start = time.time()        \n",
    "        y_pred = pipe_model.predict(X_test)\n",
    "        stop = time.time()\n",
    "        score_time.append(round((stop-start), 3))\n",
    "\n",
    "\n",
    "        list_model.append(name)\n",
    "        list_f05.append(round(fbeta_score(y_test, y_pred, beta=0.5), 3))\n",
    "        list_precision.append(round(precision_score(y_test, y_pred), 3))\n",
    "        list_recall.append(round(recall_score(y_test, y_pred), 3))\n",
    "\n",
    "pd.DataFrame({\n",
    "    'model': list_model,\n",
    "    'f.05 score': list_f05,\n",
    "    'precision' : list_precision,\n",
    "    'recall' : list_recall,\n",
    "    'fit time': fit_time,\n",
    "    'score time': score_time\n",
    "}).sort_values('f.05 score', ascending=False)    "
   ]
  },
  {
   "cell_type": "markdown",
   "metadata": {},
   "source": [
    "When we try benchmarking on the test data, it shows that Gradient Boosting has the highest f0.5 score. Although if we look into the precision and recall score, they're quite imbalance. I prefer Light GBM or Xgboost more because it has more balance in precision and recall score. Also considering the training time, I decide to only tune Light GBM and Xgboost."
   ]
  },
  {
   "cell_type": "markdown",
   "metadata": {},
   "source": [
    "## Benchmark Model with Oversampling\n",
    "\n",
    "We will try oversampling in our benchmark models because our target is imbalanced and to see if the model performances will be improved. I will try using SMOTE for oversampling because it has more advanced algorithm than just duplicating our data. But, we can always tune it later to chose the best oversampler for our model."
   ]
  },
  {
   "cell_type": "code",
   "execution_count": 37,
   "metadata": {},
   "outputs": [],
   "source": [
    "def cross_val_oversampling(X_train, y_train, models, metric):\n",
    "\n",
    "    list_name = []\n",
    "    list_mean = []\n",
    "    list_std = []\n",
    "    cross_val = []\n",
    "    list_fit_time = []\n",
    "    list_score_time = []\n",
    "\n",
    "    for name, model in models:\n",
    "        pipe_model = Pipeline([\n",
    "            ('preprocessing', transformer),\n",
    "            ('resampling', resampler),\n",
    "            ('scaler', scaler),\n",
    "            ('algo', model)\n",
    "        ])\n",
    "\n",
    "        skfold = StratifiedKFold(n_splits=5, shuffle=True, random_state=0)\n",
    "\n",
    "        model_cv = cross_validate(\n",
    "            estimator= pipe_model,\n",
    "            X= X_train,\n",
    "            y= y_train,\n",
    "            cv= skfold,\n",
    "            scoring= metric\n",
    "        )\n",
    "\n",
    "        if type(metric) == str:\n",
    "            metric_name = metric\n",
    "        else:\n",
    "            metric_name = 'f0.5' \n",
    "        \n",
    "        list_name.append(name)\n",
    "        list_fit_time.append(round(model_cv['fit_time'].mean(), 3))\n",
    "        list_score_time.append(round(model_cv['score_time'].mean(), 3))\n",
    "        list_mean.append(round(model_cv['test_score'].mean(), 3))\n",
    "        list_std.append(round(model_cv['test_score'].std(), 3))\n",
    "        cross_val.append(np.round_(model_cv['test_score'],3))\n",
    "\n",
    "\n",
    "    result = pd.DataFrame({\n",
    "        'model' : list_name,\n",
    "        f'mean {metric_name}' : list_mean,\n",
    "        'std' : list_std,\n",
    "        'fit time' : list_fit_time,\n",
    "        'score time' : list_score_time,\n",
    "        f'{metric_name}' : cross_val\n",
    "    })    \n",
    "\n",
    "    return result.sort_values(f'mean {metric_name}', ascending=False)"
   ]
  },
  {
   "cell_type": "code",
   "execution_count": 38,
   "metadata": {},
   "outputs": [
    {
     "data": {
      "text/html": [
       "<div>\n",
       "<style scoped>\n",
       "    .dataframe tbody tr th:only-of-type {\n",
       "        vertical-align: middle;\n",
       "    }\n",
       "\n",
       "    .dataframe tbody tr th {\n",
       "        vertical-align: top;\n",
       "    }\n",
       "\n",
       "    .dataframe thead th {\n",
       "        text-align: right;\n",
       "    }\n",
       "</style>\n",
       "<table border=\"1\" class=\"dataframe\">\n",
       "  <thead>\n",
       "    <tr style=\"text-align: right;\">\n",
       "      <th></th>\n",
       "      <th>model</th>\n",
       "      <th>mean f0.5</th>\n",
       "      <th>std</th>\n",
       "      <th>fit time</th>\n",
       "      <th>score time</th>\n",
       "      <th>f0.5</th>\n",
       "    </tr>\n",
       "  </thead>\n",
       "  <tbody>\n",
       "    <tr>\n",
       "      <th>2</th>\n",
       "      <td>Decision Tree</td>\n",
       "      <td>0.744</td>\n",
       "      <td>0.004</td>\n",
       "      <td>1.418</td>\n",
       "      <td>0.043</td>\n",
       "      <td>[0.749, 0.746, 0.738, 0.742, 0.744]</td>\n",
       "    </tr>\n",
       "    <tr>\n",
       "      <th>6</th>\n",
       "      <td>Light GBM</td>\n",
       "      <td>0.723</td>\n",
       "      <td>0.006</td>\n",
       "      <td>1.779</td>\n",
       "      <td>0.123</td>\n",
       "      <td>[0.731, 0.718, 0.726, 0.715, 0.724]</td>\n",
       "    </tr>\n",
       "    <tr>\n",
       "      <th>7</th>\n",
       "      <td>Xgboost</td>\n",
       "      <td>0.723</td>\n",
       "      <td>0.006</td>\n",
       "      <td>5.803</td>\n",
       "      <td>0.122</td>\n",
       "      <td>[0.733, 0.72, 0.725, 0.715, 0.722]</td>\n",
       "    </tr>\n",
       "    <tr>\n",
       "      <th>5</th>\n",
       "      <td>Gradient Boosting</td>\n",
       "      <td>0.718</td>\n",
       "      <td>0.005</td>\n",
       "      <td>15.405</td>\n",
       "      <td>0.062</td>\n",
       "      <td>[0.728, 0.713, 0.715, 0.718, 0.718]</td>\n",
       "    </tr>\n",
       "    <tr>\n",
       "      <th>3</th>\n",
       "      <td>Random Forest</td>\n",
       "      <td>0.711</td>\n",
       "      <td>0.005</td>\n",
       "      <td>6.690</td>\n",
       "      <td>0.314</td>\n",
       "      <td>[0.719, 0.706, 0.708, 0.708, 0.711]</td>\n",
       "    </tr>\n",
       "    <tr>\n",
       "      <th>1</th>\n",
       "      <td>KNN</td>\n",
       "      <td>0.705</td>\n",
       "      <td>0.002</td>\n",
       "      <td>1.252</td>\n",
       "      <td>2.420</td>\n",
       "      <td>[0.707, 0.702, 0.705, 0.702, 0.707]</td>\n",
       "    </tr>\n",
       "    <tr>\n",
       "      <th>4</th>\n",
       "      <td>AdaBoost</td>\n",
       "      <td>0.701</td>\n",
       "      <td>0.005</td>\n",
       "      <td>6.298</td>\n",
       "      <td>0.250</td>\n",
       "      <td>[0.709, 0.697, 0.701, 0.695, 0.704]</td>\n",
       "    </tr>\n",
       "    <tr>\n",
       "      <th>0</th>\n",
       "      <td>Logistic Regression</td>\n",
       "      <td>0.677</td>\n",
       "      <td>0.008</td>\n",
       "      <td>1.777</td>\n",
       "      <td>0.041</td>\n",
       "      <td>[0.672, 0.674, 0.67, 0.677, 0.693]</td>\n",
       "    </tr>\n",
       "  </tbody>\n",
       "</table>\n",
       "</div>"
      ],
      "text/plain": [
       "                 model  mean f0.5    std  fit time  score time  \\\n",
       "2        Decision Tree      0.744  0.004     1.418       0.043   \n",
       "6            Light GBM      0.723  0.006     1.779       0.123   \n",
       "7              Xgboost      0.723  0.006     5.803       0.122   \n",
       "5    Gradient Boosting      0.718  0.005    15.405       0.062   \n",
       "3        Random Forest      0.711  0.005     6.690       0.314   \n",
       "1                  KNN      0.705  0.002     1.252       2.420   \n",
       "4             AdaBoost      0.701  0.005     6.298       0.250   \n",
       "0  Logistic Regression      0.677  0.008     1.777       0.041   \n",
       "\n",
       "                                  f0.5  \n",
       "2  [0.749, 0.746, 0.738, 0.742, 0.744]  \n",
       "6  [0.731, 0.718, 0.726, 0.715, 0.724]  \n",
       "7   [0.733, 0.72, 0.725, 0.715, 0.722]  \n",
       "5  [0.728, 0.713, 0.715, 0.718, 0.718]  \n",
       "3  [0.719, 0.706, 0.708, 0.708, 0.711]  \n",
       "1  [0.707, 0.702, 0.705, 0.702, 0.707]  \n",
       "4  [0.709, 0.697, 0.701, 0.695, 0.704]  \n",
       "0   [0.672, 0.674, 0.67, 0.677, 0.693]  "
      ]
     },
     "execution_count": 38,
     "metadata": {},
     "output_type": "execute_result"
    }
   ],
   "source": [
    "resampler = SMOTE(random_state=0)\n",
    "cross_val_oversampling(X_train, y_train, models, scoring_f05)"
   ]
  },
  {
   "cell_type": "code",
   "execution_count": 39,
   "metadata": {},
   "outputs": [
    {
     "data": {
      "text/html": [
       "<div>\n",
       "<style scoped>\n",
       "    .dataframe tbody tr th:only-of-type {\n",
       "        vertical-align: middle;\n",
       "    }\n",
       "\n",
       "    .dataframe tbody tr th {\n",
       "        vertical-align: top;\n",
       "    }\n",
       "\n",
       "    .dataframe thead th {\n",
       "        text-align: right;\n",
       "    }\n",
       "</style>\n",
       "<table border=\"1\" class=\"dataframe\">\n",
       "  <thead>\n",
       "    <tr style=\"text-align: right;\">\n",
       "      <th></th>\n",
       "      <th>model</th>\n",
       "      <th>mean precision</th>\n",
       "      <th>std</th>\n",
       "      <th>fit time</th>\n",
       "      <th>score time</th>\n",
       "      <th>precision</th>\n",
       "    </tr>\n",
       "  </thead>\n",
       "  <tbody>\n",
       "    <tr>\n",
       "      <th>2</th>\n",
       "      <td>Decision Tree</td>\n",
       "      <td>0.782</td>\n",
       "      <td>0.005</td>\n",
       "      <td>1.662</td>\n",
       "      <td>0.042</td>\n",
       "      <td>[0.792, 0.783, 0.777, 0.777, 0.784]</td>\n",
       "    </tr>\n",
       "    <tr>\n",
       "      <th>1</th>\n",
       "      <td>KNN</td>\n",
       "      <td>0.713</td>\n",
       "      <td>0.003</td>\n",
       "      <td>1.409</td>\n",
       "      <td>2.746</td>\n",
       "      <td>[0.711, 0.711, 0.719, 0.711, 0.715]</td>\n",
       "    </tr>\n",
       "    <tr>\n",
       "      <th>6</th>\n",
       "      <td>Light GBM</td>\n",
       "      <td>0.711</td>\n",
       "      <td>0.009</td>\n",
       "      <td>1.639</td>\n",
       "      <td>0.114</td>\n",
       "      <td>[0.723, 0.703, 0.717, 0.7, 0.71]</td>\n",
       "    </tr>\n",
       "    <tr>\n",
       "      <th>5</th>\n",
       "      <td>Gradient Boosting</td>\n",
       "      <td>0.710</td>\n",
       "      <td>0.009</td>\n",
       "      <td>14.017</td>\n",
       "      <td>0.054</td>\n",
       "      <td>[0.728, 0.7, 0.708, 0.709, 0.706]</td>\n",
       "    </tr>\n",
       "    <tr>\n",
       "      <th>7</th>\n",
       "      <td>Xgboost</td>\n",
       "      <td>0.710</td>\n",
       "      <td>0.009</td>\n",
       "      <td>5.323</td>\n",
       "      <td>0.119</td>\n",
       "      <td>[0.726, 0.705, 0.715, 0.699, 0.706]</td>\n",
       "    </tr>\n",
       "    <tr>\n",
       "      <th>4</th>\n",
       "      <td>AdaBoost</td>\n",
       "      <td>0.704</td>\n",
       "      <td>0.007</td>\n",
       "      <td>4.914</td>\n",
       "      <td>0.189</td>\n",
       "      <td>[0.716, 0.698, 0.708, 0.695, 0.704]</td>\n",
       "    </tr>\n",
       "    <tr>\n",
       "      <th>3</th>\n",
       "      <td>Random Forest</td>\n",
       "      <td>0.692</td>\n",
       "      <td>0.007</td>\n",
       "      <td>7.045</td>\n",
       "      <td>0.322</td>\n",
       "      <td>[0.705, 0.685, 0.689, 0.688, 0.691]</td>\n",
       "    </tr>\n",
       "    <tr>\n",
       "      <th>0</th>\n",
       "      <td>Logistic Regression</td>\n",
       "      <td>0.671</td>\n",
       "      <td>0.009</td>\n",
       "      <td>1.920</td>\n",
       "      <td>0.040</td>\n",
       "      <td>[0.665, 0.666, 0.663, 0.672, 0.689]</td>\n",
       "    </tr>\n",
       "  </tbody>\n",
       "</table>\n",
       "</div>"
      ],
      "text/plain": [
       "                 model  mean precision    std  fit time  score time  \\\n",
       "2        Decision Tree           0.782  0.005     1.662       0.042   \n",
       "1                  KNN           0.713  0.003     1.409       2.746   \n",
       "6            Light GBM           0.711  0.009     1.639       0.114   \n",
       "5    Gradient Boosting           0.710  0.009    14.017       0.054   \n",
       "7              Xgboost           0.710  0.009     5.323       0.119   \n",
       "4             AdaBoost           0.704  0.007     4.914       0.189   \n",
       "3        Random Forest           0.692  0.007     7.045       0.322   \n",
       "0  Logistic Regression           0.671  0.009     1.920       0.040   \n",
       "\n",
       "                             precision  \n",
       "2  [0.792, 0.783, 0.777, 0.777, 0.784]  \n",
       "1  [0.711, 0.711, 0.719, 0.711, 0.715]  \n",
       "6     [0.723, 0.703, 0.717, 0.7, 0.71]  \n",
       "5    [0.728, 0.7, 0.708, 0.709, 0.706]  \n",
       "7  [0.726, 0.705, 0.715, 0.699, 0.706]  \n",
       "4  [0.716, 0.698, 0.708, 0.695, 0.704]  \n",
       "3  [0.705, 0.685, 0.689, 0.688, 0.691]  \n",
       "0  [0.665, 0.666, 0.663, 0.672, 0.689]  "
      ]
     },
     "execution_count": 39,
     "metadata": {},
     "output_type": "execute_result"
    }
   ],
   "source": [
    "cross_val_oversampling(X_train, y_train, models, 'precision')"
   ]
  },
  {
   "cell_type": "code",
   "execution_count": 40,
   "metadata": {},
   "outputs": [
    {
     "data": {
      "text/html": [
       "<div>\n",
       "<style scoped>\n",
       "    .dataframe tbody tr th:only-of-type {\n",
       "        vertical-align: middle;\n",
       "    }\n",
       "\n",
       "    .dataframe tbody tr th {\n",
       "        vertical-align: top;\n",
       "    }\n",
       "\n",
       "    .dataframe thead th {\n",
       "        text-align: right;\n",
       "    }\n",
       "</style>\n",
       "<table border=\"1\" class=\"dataframe\">\n",
       "  <thead>\n",
       "    <tr style=\"text-align: right;\">\n",
       "      <th></th>\n",
       "      <th>model</th>\n",
       "      <th>mean recall</th>\n",
       "      <th>std</th>\n",
       "      <th>fit time</th>\n",
       "      <th>score time</th>\n",
       "      <th>recall</th>\n",
       "    </tr>\n",
       "  </thead>\n",
       "  <tbody>\n",
       "    <tr>\n",
       "      <th>3</th>\n",
       "      <td>Random Forest</td>\n",
       "      <td>0.798</td>\n",
       "      <td>0.009</td>\n",
       "      <td>5.973</td>\n",
       "      <td>0.280</td>\n",
       "      <td>[0.781, 0.808, 0.797, 0.802, 0.802]</td>\n",
       "    </tr>\n",
       "    <tr>\n",
       "      <th>7</th>\n",
       "      <td>Xgboost</td>\n",
       "      <td>0.780</td>\n",
       "      <td>0.010</td>\n",
       "      <td>5.043</td>\n",
       "      <td>0.116</td>\n",
       "      <td>[0.766, 0.784, 0.769, 0.791, 0.789]</td>\n",
       "    </tr>\n",
       "    <tr>\n",
       "      <th>6</th>\n",
       "      <td>Light GBM</td>\n",
       "      <td>0.777</td>\n",
       "      <td>0.011</td>\n",
       "      <td>1.609</td>\n",
       "      <td>0.110</td>\n",
       "      <td>[0.761, 0.786, 0.767, 0.784, 0.787]</td>\n",
       "    </tr>\n",
       "    <tr>\n",
       "      <th>5</th>\n",
       "      <td>Gradient Boosting</td>\n",
       "      <td>0.754</td>\n",
       "      <td>0.015</td>\n",
       "      <td>13.683</td>\n",
       "      <td>0.056</td>\n",
       "      <td>[0.729, 0.768, 0.745, 0.757, 0.77]</td>\n",
       "    </tr>\n",
       "    <tr>\n",
       "      <th>0</th>\n",
       "      <td>Logistic Regression</td>\n",
       "      <td>0.703</td>\n",
       "      <td>0.005</td>\n",
       "      <td>1.758</td>\n",
       "      <td>0.040</td>\n",
       "      <td>[0.7, 0.709, 0.702, 0.697, 0.709]</td>\n",
       "    </tr>\n",
       "    <tr>\n",
       "      <th>4</th>\n",
       "      <td>AdaBoost</td>\n",
       "      <td>0.689</td>\n",
       "      <td>0.012</td>\n",
       "      <td>4.661</td>\n",
       "      <td>0.188</td>\n",
       "      <td>[0.681, 0.693, 0.673, 0.694, 0.706]</td>\n",
       "    </tr>\n",
       "    <tr>\n",
       "      <th>1</th>\n",
       "      <td>KNN</td>\n",
       "      <td>0.673</td>\n",
       "      <td>0.012</td>\n",
       "      <td>1.236</td>\n",
       "      <td>2.395</td>\n",
       "      <td>[0.692, 0.669, 0.655, 0.671, 0.677]</td>\n",
       "    </tr>\n",
       "    <tr>\n",
       "      <th>2</th>\n",
       "      <td>Decision Tree</td>\n",
       "      <td>0.621</td>\n",
       "      <td>0.006</td>\n",
       "      <td>1.396</td>\n",
       "      <td>0.036</td>\n",
       "      <td>[0.618, 0.626, 0.614, 0.629, 0.618]</td>\n",
       "    </tr>\n",
       "  </tbody>\n",
       "</table>\n",
       "</div>"
      ],
      "text/plain": [
       "                 model  mean recall    std  fit time  score time  \\\n",
       "3        Random Forest        0.798  0.009     5.973       0.280   \n",
       "7              Xgboost        0.780  0.010     5.043       0.116   \n",
       "6            Light GBM        0.777  0.011     1.609       0.110   \n",
       "5    Gradient Boosting        0.754  0.015    13.683       0.056   \n",
       "0  Logistic Regression        0.703  0.005     1.758       0.040   \n",
       "4             AdaBoost        0.689  0.012     4.661       0.188   \n",
       "1                  KNN        0.673  0.012     1.236       2.395   \n",
       "2        Decision Tree        0.621  0.006     1.396       0.036   \n",
       "\n",
       "                                recall  \n",
       "3  [0.781, 0.808, 0.797, 0.802, 0.802]  \n",
       "7  [0.766, 0.784, 0.769, 0.791, 0.789]  \n",
       "6  [0.761, 0.786, 0.767, 0.784, 0.787]  \n",
       "5   [0.729, 0.768, 0.745, 0.757, 0.77]  \n",
       "0    [0.7, 0.709, 0.702, 0.697, 0.709]  \n",
       "4  [0.681, 0.693, 0.673, 0.694, 0.706]  \n",
       "1  [0.692, 0.669, 0.655, 0.671, 0.677]  \n",
       "2  [0.618, 0.626, 0.614, 0.629, 0.618]  "
      ]
     },
     "execution_count": 40,
     "metadata": {},
     "output_type": "execute_result"
    }
   ],
   "source": [
    "cross_val_oversampling(X_train, y_train, models, 'recall')"
   ]
  },
  {
   "cell_type": "markdown",
   "metadata": {},
   "source": [
    "We can see from the f0.5 score, oversampling doesn't improve our model performance. Why does this happen? This happens because oversampling increase the recall score of our models. As we know, if recall score increase, then precision score must be decreased. Because f0.5 score put more weight in precision, the increased recall score can't increase the overall f0.5 score. This is why oversampling doesn't seem to improve our model performance. Since, we want to put more attention to the precision score, I decide not to use oversampling in our model."
   ]
  },
  {
   "cell_type": "markdown",
   "metadata": {},
   "source": [
    "**Summary**\n",
    "\n",
    "Top3 algorithms wuth oversampling base on f0.5 score:\n",
    "No | Algorithm | Mean f0.5 | Mean Precision | Mean Recall |\n",
    "|--- |--- | --- | --- | --- |\n",
    "1 | Decision Tree | 0.744 | 0.782 | 0.621 |\n",
    "2 | Light GBM| 0.723 | 0.711 | 0.777 |\n",
    "3 | Xgboost | 0.723 | 0.710 | 0.780 |"
   ]
  },
  {
   "cell_type": "markdown",
   "metadata": {},
   "source": [
    "## Hyperparameter Tuning"
   ]
  },
  {
   "cell_type": "markdown",
   "metadata": {},
   "source": [
    "### Xgboost Tuning\n",
    "\n",
    "There are a lot of [paramaters](https://xgboost.readthedocs.io/en/stable/parameter.html) that can be tuned in Xgboost. But for now, we will choose :\n",
    "- **max_bin** = maximum number of discrete bins to bucket continuous features.\n",
    "- **n_estimators** = number of runs XGBoost will try to learn. Increasing this number improves the optimality of splits at the cost of higher computation time.\n",
    "- **eta** (learning rate) = Step size shrinkage used in update to prevents overfitting. \n",
    "- **gamma** (min_split_loss) = Minimum loss reduction required to make a further partition on a leaf node of the tree.The larger gamma is, the more conservative the algorithm will be.\n",
    "- **max_depth** = Maximum depth of a tree. Increasing this value will make the model more complex and more likely to overfit."
   ]
  },
  {
   "cell_type": "code",
   "execution_count": 41,
   "metadata": {},
   "outputs": [
    {
     "data": {
      "text/html": [
       "<style>#sk-container-id-3 {color: black;background-color: white;}#sk-container-id-3 pre{padding: 0;}#sk-container-id-3 div.sk-toggleable {background-color: white;}#sk-container-id-3 label.sk-toggleable__label {cursor: pointer;display: block;width: 100%;margin-bottom: 0;padding: 0.3em;box-sizing: border-box;text-align: center;}#sk-container-id-3 label.sk-toggleable__label-arrow:before {content: \"▸\";float: left;margin-right: 0.25em;color: #696969;}#sk-container-id-3 label.sk-toggleable__label-arrow:hover:before {color: black;}#sk-container-id-3 div.sk-estimator:hover label.sk-toggleable__label-arrow:before {color: black;}#sk-container-id-3 div.sk-toggleable__content {max-height: 0;max-width: 0;overflow: hidden;text-align: left;background-color: #f0f8ff;}#sk-container-id-3 div.sk-toggleable__content pre {margin: 0.2em;color: black;border-radius: 0.25em;background-color: #f0f8ff;}#sk-container-id-3 input.sk-toggleable__control:checked~div.sk-toggleable__content {max-height: 200px;max-width: 100%;overflow: auto;}#sk-container-id-3 input.sk-toggleable__control:checked~label.sk-toggleable__label-arrow:before {content: \"▾\";}#sk-container-id-3 div.sk-estimator input.sk-toggleable__control:checked~label.sk-toggleable__label {background-color: #d4ebff;}#sk-container-id-3 div.sk-label input.sk-toggleable__control:checked~label.sk-toggleable__label {background-color: #d4ebff;}#sk-container-id-3 input.sk-hidden--visually {border: 0;clip: rect(1px 1px 1px 1px);clip: rect(1px, 1px, 1px, 1px);height: 1px;margin: -1px;overflow: hidden;padding: 0;position: absolute;width: 1px;}#sk-container-id-3 div.sk-estimator {font-family: monospace;background-color: #f0f8ff;border: 1px dotted black;border-radius: 0.25em;box-sizing: border-box;margin-bottom: 0.5em;}#sk-container-id-3 div.sk-estimator:hover {background-color: #d4ebff;}#sk-container-id-3 div.sk-parallel-item::after {content: \"\";width: 100%;border-bottom: 1px solid gray;flex-grow: 1;}#sk-container-id-3 div.sk-label:hover label.sk-toggleable__label {background-color: #d4ebff;}#sk-container-id-3 div.sk-serial::before {content: \"\";position: absolute;border-left: 1px solid gray;box-sizing: border-box;top: 0;bottom: 0;left: 50%;z-index: 0;}#sk-container-id-3 div.sk-serial {display: flex;flex-direction: column;align-items: center;background-color: white;padding-right: 0.2em;padding-left: 0.2em;position: relative;}#sk-container-id-3 div.sk-item {position: relative;z-index: 1;}#sk-container-id-3 div.sk-parallel {display: flex;align-items: stretch;justify-content: center;background-color: white;position: relative;}#sk-container-id-3 div.sk-item::before, #sk-container-id-3 div.sk-parallel-item::before {content: \"\";position: absolute;border-left: 1px solid gray;box-sizing: border-box;top: 0;bottom: 0;left: 50%;z-index: -1;}#sk-container-id-3 div.sk-parallel-item {display: flex;flex-direction: column;z-index: 1;position: relative;background-color: white;}#sk-container-id-3 div.sk-parallel-item:first-child::after {align-self: flex-end;width: 50%;}#sk-container-id-3 div.sk-parallel-item:last-child::after {align-self: flex-start;width: 50%;}#sk-container-id-3 div.sk-parallel-item:only-child::after {width: 0;}#sk-container-id-3 div.sk-dashed-wrapped {border: 1px dashed gray;margin: 0 0.4em 0.5em 0.4em;box-sizing: border-box;padding-bottom: 0.4em;background-color: white;}#sk-container-id-3 div.sk-label label {font-family: monospace;font-weight: bold;display: inline-block;line-height: 1.2em;}#sk-container-id-3 div.sk-label-container {text-align: center;}#sk-container-id-3 div.sk-container {/* jupyter's `normalize.less` sets `[hidden] { display: none; }` but bootstrap.min.css set `[hidden] { display: none !important; }` so we also need the `!important` here to be able to override the default hidden behavior on the sphinx rendered scikit-learn.org. See: https://github.com/scikit-learn/scikit-learn/issues/21755 */display: inline-block !important;position: relative;}#sk-container-id-3 div.sk-text-repr-fallback {display: none;}</style><div id=\"sk-container-id-3\" class=\"sk-top-container\"><div class=\"sk-text-repr-fallback\"><pre>RandomizedSearchCV(cv=StratifiedKFold(n_splits=5, random_state=0, shuffle=True),\n",
       "                   estimator=Pipeline(steps=[(&#x27;preprocessing&#x27;,\n",
       "                                              ColumnTransformer(remainder=&#x27;passthrough&#x27;,\n",
       "                                                                transformers=[(&#x27;imp_binary&#x27;,\n",
       "                                                                               Pipeline(steps=[(&#x27;constant&#x27;,\n",
       "                                                                                                SimpleImputer(fill_value=&#x27;Other&#x27;,\n",
       "                                                                                                              strategy=&#x27;constant&#x27;)),\n",
       "                                                                                               (&#x27;binary&#x27;,\n",
       "                                                                                                BinaryEncoder(handle_unknown=&#x27;indicator&#x27;))]),\n",
       "                                                                               [&#x27;country&#x27;]),\n",
       "                                                                              (&#x27;one &#x27;\n",
       "                                                                               &#x27;h...\n",
       "                                                            random_state=0,\n",
       "                                                            reg_alpha=0,\n",
       "                                                            reg_lambda=1, ...))]),\n",
       "                   n_iter=50, n_jobs=-1,\n",
       "                   param_distributions={&#x27;algo__eta&#x27;: [0.2, 0.1, 0.05],\n",
       "                                        &#x27;algo__gamma&#x27;: [0, 0.1, 0.2],\n",
       "                                        &#x27;algo__max_bin&#x27;: [255, 275, 300, 350],\n",
       "                                        &#x27;algo__max_depth&#x27;: range(5, 11),\n",
       "                                        &#x27;algo__n_estimators&#x27;: range(70, 101, 5),\n",
       "                                        &#x27;scaler&#x27;: [RobustScaler(),\n",
       "                                                   MinMaxScaler(),\n",
       "                                                   StandardScaler()]},\n",
       "                   random_state=0, scoring=make_scorer(fbeta_score, beta=0.5))</pre><b>In a Jupyter environment, please rerun this cell to show the HTML representation or trust the notebook. <br />On GitHub, the HTML representation is unable to render, please try loading this page with nbviewer.org.</b></div><div class=\"sk-container\" hidden><div class=\"sk-item sk-dashed-wrapped\"><div class=\"sk-label-container\"><div class=\"sk-label sk-toggleable\"><input class=\"sk-toggleable__control sk-hidden--visually\" id=\"sk-estimator-id-12\" type=\"checkbox\" ><label for=\"sk-estimator-id-12\" class=\"sk-toggleable__label sk-toggleable__label-arrow\">RandomizedSearchCV</label><div class=\"sk-toggleable__content\"><pre>RandomizedSearchCV(cv=StratifiedKFold(n_splits=5, random_state=0, shuffle=True),\n",
       "                   estimator=Pipeline(steps=[(&#x27;preprocessing&#x27;,\n",
       "                                              ColumnTransformer(remainder=&#x27;passthrough&#x27;,\n",
       "                                                                transformers=[(&#x27;imp_binary&#x27;,\n",
       "                                                                               Pipeline(steps=[(&#x27;constant&#x27;,\n",
       "                                                                                                SimpleImputer(fill_value=&#x27;Other&#x27;,\n",
       "                                                                                                              strategy=&#x27;constant&#x27;)),\n",
       "                                                                                               (&#x27;binary&#x27;,\n",
       "                                                                                                BinaryEncoder(handle_unknown=&#x27;indicator&#x27;))]),\n",
       "                                                                               [&#x27;country&#x27;]),\n",
       "                                                                              (&#x27;one &#x27;\n",
       "                                                                               &#x27;h...\n",
       "                                                            random_state=0,\n",
       "                                                            reg_alpha=0,\n",
       "                                                            reg_lambda=1, ...))]),\n",
       "                   n_iter=50, n_jobs=-1,\n",
       "                   param_distributions={&#x27;algo__eta&#x27;: [0.2, 0.1, 0.05],\n",
       "                                        &#x27;algo__gamma&#x27;: [0, 0.1, 0.2],\n",
       "                                        &#x27;algo__max_bin&#x27;: [255, 275, 300, 350],\n",
       "                                        &#x27;algo__max_depth&#x27;: range(5, 11),\n",
       "                                        &#x27;algo__n_estimators&#x27;: range(70, 101, 5),\n",
       "                                        &#x27;scaler&#x27;: [RobustScaler(),\n",
       "                                                   MinMaxScaler(),\n",
       "                                                   StandardScaler()]},\n",
       "                   random_state=0, scoring=make_scorer(fbeta_score, beta=0.5))</pre></div></div></div><div class=\"sk-parallel\"><div class=\"sk-parallel-item\"><div class=\"sk-item\"><div class=\"sk-label-container\"><div class=\"sk-label sk-toggleable\"><input class=\"sk-toggleable__control sk-hidden--visually\" id=\"sk-estimator-id-13\" type=\"checkbox\" ><label for=\"sk-estimator-id-13\" class=\"sk-toggleable__label sk-toggleable__label-arrow\">estimator: Pipeline</label><div class=\"sk-toggleable__content\"><pre>Pipeline(steps=[(&#x27;preprocessing&#x27;,\n",
       "                 ColumnTransformer(remainder=&#x27;passthrough&#x27;,\n",
       "                                   transformers=[(&#x27;imp_binary&#x27;,\n",
       "                                                  Pipeline(steps=[(&#x27;constant&#x27;,\n",
       "                                                                   SimpleImputer(fill_value=&#x27;Other&#x27;,\n",
       "                                                                                 strategy=&#x27;constant&#x27;)),\n",
       "                                                                  (&#x27;binary&#x27;,\n",
       "                                                                   BinaryEncoder(handle_unknown=&#x27;indicator&#x27;))]),\n",
       "                                                  [&#x27;country&#x27;]),\n",
       "                                                 (&#x27;one hot&#x27;,\n",
       "                                                  OneHotEncoder(handle_unknown=&#x27;infrequent_if_exist&#x27;,\n",
       "                                                                min_frequency=6),\n",
       "                                                  [&#x27;market_segment&#x27;,...\n",
       "                               gamma=0, gpu_id=-1, grow_policy=&#x27;depthwise&#x27;,\n",
       "                               importance_type=None, interaction_constraints=&#x27;&#x27;,\n",
       "                               learning_rate=0.300000012, max_bin=256,\n",
       "                               max_cat_to_onehot=4, max_delta_step=0,\n",
       "                               max_depth=6, max_leaves=0, min_child_weight=1,\n",
       "                               missing=nan, monotone_constraints=&#x27;()&#x27;,\n",
       "                               n_estimators=100, n_jobs=0, num_parallel_tree=1,\n",
       "                               predictor=&#x27;auto&#x27;, random_state=0, reg_alpha=0,\n",
       "                               reg_lambda=1, ...))])</pre></div></div></div><div class=\"sk-serial\"><div class=\"sk-item\"><div class=\"sk-serial\"><div class=\"sk-item sk-dashed-wrapped\"><div class=\"sk-label-container\"><div class=\"sk-label sk-toggleable\"><input class=\"sk-toggleable__control sk-hidden--visually\" id=\"sk-estimator-id-14\" type=\"checkbox\" ><label for=\"sk-estimator-id-14\" class=\"sk-toggleable__label sk-toggleable__label-arrow\">preprocessing: ColumnTransformer</label><div class=\"sk-toggleable__content\"><pre>ColumnTransformer(remainder=&#x27;passthrough&#x27;,\n",
       "                  transformers=[(&#x27;imp_binary&#x27;,\n",
       "                                 Pipeline(steps=[(&#x27;constant&#x27;,\n",
       "                                                  SimpleImputer(fill_value=&#x27;Other&#x27;,\n",
       "                                                                strategy=&#x27;constant&#x27;)),\n",
       "                                                 (&#x27;binary&#x27;,\n",
       "                                                  BinaryEncoder(handle_unknown=&#x27;indicator&#x27;))]),\n",
       "                                 [&#x27;country&#x27;]),\n",
       "                                (&#x27;one hot&#x27;,\n",
       "                                 OneHotEncoder(handle_unknown=&#x27;infrequent_if_exist&#x27;,\n",
       "                                               min_frequency=6),\n",
       "                                 [&#x27;market_segment&#x27;, &#x27;deposit_type&#x27;,\n",
       "                                  &#x27;customer_type&#x27;, &#x27;reserved_room_type&#x27;])])</pre></div></div></div><div class=\"sk-parallel\"><div class=\"sk-parallel-item\"><div class=\"sk-item\"><div class=\"sk-label-container\"><div class=\"sk-label sk-toggleable\"><input class=\"sk-toggleable__control sk-hidden--visually\" id=\"sk-estimator-id-15\" type=\"checkbox\" ><label for=\"sk-estimator-id-15\" class=\"sk-toggleable__label sk-toggleable__label-arrow\">imp_binary</label><div class=\"sk-toggleable__content\"><pre>[&#x27;country&#x27;]</pre></div></div></div><div class=\"sk-serial\"><div class=\"sk-item\"><div class=\"sk-serial\"><div class=\"sk-item\"><div class=\"sk-estimator sk-toggleable\"><input class=\"sk-toggleable__control sk-hidden--visually\" id=\"sk-estimator-id-16\" type=\"checkbox\" ><label for=\"sk-estimator-id-16\" class=\"sk-toggleable__label sk-toggleable__label-arrow\">SimpleImputer</label><div class=\"sk-toggleable__content\"><pre>SimpleImputer(fill_value=&#x27;Other&#x27;, strategy=&#x27;constant&#x27;)</pre></div></div></div><div class=\"sk-item\"><div class=\"sk-estimator sk-toggleable\"><input class=\"sk-toggleable__control sk-hidden--visually\" id=\"sk-estimator-id-17\" type=\"checkbox\" ><label for=\"sk-estimator-id-17\" class=\"sk-toggleable__label sk-toggleable__label-arrow\">BinaryEncoder</label><div class=\"sk-toggleable__content\"><pre>BinaryEncoder(handle_unknown=&#x27;indicator&#x27;)</pre></div></div></div></div></div></div></div></div><div class=\"sk-parallel-item\"><div class=\"sk-item\"><div class=\"sk-label-container\"><div class=\"sk-label sk-toggleable\"><input class=\"sk-toggleable__control sk-hidden--visually\" id=\"sk-estimator-id-18\" type=\"checkbox\" ><label for=\"sk-estimator-id-18\" class=\"sk-toggleable__label sk-toggleable__label-arrow\">one hot</label><div class=\"sk-toggleable__content\"><pre>[&#x27;market_segment&#x27;, &#x27;deposit_type&#x27;, &#x27;customer_type&#x27;, &#x27;reserved_room_type&#x27;]</pre></div></div></div><div class=\"sk-serial\"><div class=\"sk-item\"><div class=\"sk-estimator sk-toggleable\"><input class=\"sk-toggleable__control sk-hidden--visually\" id=\"sk-estimator-id-19\" type=\"checkbox\" ><label for=\"sk-estimator-id-19\" class=\"sk-toggleable__label sk-toggleable__label-arrow\">OneHotEncoder</label><div class=\"sk-toggleable__content\"><pre>OneHotEncoder(handle_unknown=&#x27;infrequent_if_exist&#x27;, min_frequency=6)</pre></div></div></div></div></div></div><div class=\"sk-parallel-item\"><div class=\"sk-item\"><div class=\"sk-label-container\"><div class=\"sk-label sk-toggleable\"><input class=\"sk-toggleable__control sk-hidden--visually\" id=\"sk-estimator-id-20\" type=\"checkbox\" ><label for=\"sk-estimator-id-20\" class=\"sk-toggleable__label sk-toggleable__label-arrow\">remainder</label><div class=\"sk-toggleable__content\"><pre>[&#x27;previous_cancellations&#x27;, &#x27;booking_changes&#x27;, &#x27;days_in_waiting_list&#x27;, &#x27;required_car_parking_spaces&#x27;, &#x27;total_of_special_requests&#x27;]</pre></div></div></div><div class=\"sk-serial\"><div class=\"sk-item\"><div class=\"sk-estimator sk-toggleable\"><input class=\"sk-toggleable__control sk-hidden--visually\" id=\"sk-estimator-id-21\" type=\"checkbox\" ><label for=\"sk-estimator-id-21\" class=\"sk-toggleable__label sk-toggleable__label-arrow\">passthrough</label><div class=\"sk-toggleable__content\"><pre>passthrough</pre></div></div></div></div></div></div></div></div><div class=\"sk-item\"><div class=\"sk-estimator sk-toggleable\"><input class=\"sk-toggleable__control sk-hidden--visually\" id=\"sk-estimator-id-22\" type=\"checkbox\" ><label for=\"sk-estimator-id-22\" class=\"sk-toggleable__label sk-toggleable__label-arrow\">RobustScaler</label><div class=\"sk-toggleable__content\"><pre>RobustScaler()</pre></div></div></div><div class=\"sk-item\"><div class=\"sk-estimator sk-toggleable\"><input class=\"sk-toggleable__control sk-hidden--visually\" id=\"sk-estimator-id-23\" type=\"checkbox\" ><label for=\"sk-estimator-id-23\" class=\"sk-toggleable__label sk-toggleable__label-arrow\">XGBClassifier</label><div class=\"sk-toggleable__content\"><pre>XGBClassifier(base_score=0.5, booster=&#x27;gbtree&#x27;, callbacks=None,\n",
       "              colsample_bylevel=1, colsample_bynode=1, colsample_bytree=1,\n",
       "              early_stopping_rounds=None, enable_categorical=False,\n",
       "              eval_metric=None, gamma=0, gpu_id=-1, grow_policy=&#x27;depthwise&#x27;,\n",
       "              importance_type=None, interaction_constraints=&#x27;&#x27;,\n",
       "              learning_rate=0.300000012, max_bin=256, max_cat_to_onehot=4,\n",
       "              max_delta_step=0, max_depth=6, max_leaves=0, min_child_weight=1,\n",
       "              missing=nan, monotone_constraints=&#x27;()&#x27;, n_estimators=100,\n",
       "              n_jobs=0, num_parallel_tree=1, predictor=&#x27;auto&#x27;, random_state=0,\n",
       "              reg_alpha=0, reg_lambda=1, ...)</pre></div></div></div></div></div></div></div></div></div></div></div></div>"
      ],
      "text/plain": [
       "RandomizedSearchCV(cv=StratifiedKFold(n_splits=5, random_state=0, shuffle=True),\n",
       "                   estimator=Pipeline(steps=[('preprocessing',\n",
       "                                              ColumnTransformer(remainder='passthrough',\n",
       "                                                                transformers=[('imp_binary',\n",
       "                                                                               Pipeline(steps=[('constant',\n",
       "                                                                                                SimpleImputer(fill_value='Other',\n",
       "                                                                                                              strategy='constant')),\n",
       "                                                                                               ('binary',\n",
       "                                                                                                BinaryEncoder(handle_unknown='indicator'))]),\n",
       "                                                                               ['country']),\n",
       "                                                                              ('one '\n",
       "                                                                               'h...\n",
       "                                                            random_state=0,\n",
       "                                                            reg_alpha=0,\n",
       "                                                            reg_lambda=1, ...))]),\n",
       "                   n_iter=50, n_jobs=-1,\n",
       "                   param_distributions={'algo__eta': [0.2, 0.1, 0.05],\n",
       "                                        'algo__gamma': [0, 0.1, 0.2],\n",
       "                                        'algo__max_bin': [255, 275, 300, 350],\n",
       "                                        'algo__max_depth': range(5, 11),\n",
       "                                        'algo__n_estimators': range(70, 101, 5),\n",
       "                                        'scaler': [RobustScaler(),\n",
       "                                                   MinMaxScaler(),\n",
       "                                                   StandardScaler()]},\n",
       "                   random_state=0, scoring=make_scorer(fbeta_score, beta=0.5))"
      ]
     },
     "execution_count": 41,
     "metadata": {},
     "output_type": "execute_result"
    }
   ],
   "source": [
    "hyperparam_space = {\n",
    "    'algo__max_bin': [255, 275, 300, 350],\n",
    "    'algo__n_estimators': range(70, 101, 5),\n",
    "    'algo__eta': [0.2, 0.1, 0.05],\n",
    "    'algo__gamma': [0, 0.1, 0.2],\n",
    "    'algo__max_depth' : range(5, 11),\n",
    "    'scaler': [RobustScaler(),MinMaxScaler(),StandardScaler()]\n",
    "}\n",
    "\n",
    "pipe_model = Pipeline([\n",
    "        ('preprocessing', transformer),\n",
    "        ('scaler', scaler),\n",
    "        ('algo', xgboost)          \n",
    "    ])\n",
    "\n",
    "skfold = StratifiedKFold(n_splits=5, shuffle=True, random_state=0)\n",
    "\n",
    "xgboost_tuning = RandomizedSearchCV(\n",
    "    estimator= pipe_model,\n",
    "    param_distributions= hyperparam_space,\n",
    "    cv= skfold,\n",
    "    scoring= scoring_f05,\n",
    "    n_jobs= -1,\n",
    "    n_iter= 50,\n",
    "    random_state= 0\n",
    ")\n",
    "\n",
    "xgboost_tuning.fit(X_train, y_train)"
   ]
  },
  {
   "cell_type": "code",
   "execution_count": 42,
   "metadata": {},
   "outputs": [
    {
     "data": {
      "text/plain": [
       "{'scaler': MinMaxScaler(),\n",
       " 'algo__n_estimators': 70,\n",
       " 'algo__max_depth': 6,\n",
       " 'algo__max_bin': 350,\n",
       " 'algo__gamma': 0,\n",
       " 'algo__eta': 0.1}"
      ]
     },
     "execution_count": 42,
     "metadata": {},
     "output_type": "execute_result"
    }
   ],
   "source": [
    "xgboost_tuning.best_params_"
   ]
  },
  {
   "cell_type": "code",
   "execution_count": 43,
   "metadata": {},
   "outputs": [
    {
     "data": {
      "text/plain": [
       "0.7625940437730201"
      ]
     },
     "execution_count": 43,
     "metadata": {},
     "output_type": "execute_result"
    }
   ],
   "source": [
    "xgboost_tuning.best_score_"
   ]
  },
  {
   "cell_type": "code",
   "execution_count": 44,
   "metadata": {},
   "outputs": [
    {
     "data": {
      "text/plain": [
       "0.0015271818991150104"
      ]
     },
     "execution_count": 44,
     "metadata": {},
     "output_type": "execute_result"
    }
   ],
   "source": [
    "xgboost_tuning.cv_results_['std_test_score'][xgboost_tuning.best_index_]"
   ]
  },
  {
   "cell_type": "markdown",
   "metadata": {},
   "source": [
    "**Summary**\n",
    "\n",
    "| Model | Mean f0.5 | stdev\n",
    "|--- | --- | --- |\n",
    "| Xgboost benchmark | 0.759 | 0.003 |\n",
    "| Xgboost tuned | 0.763 | 0.002 |\n",
    "\n",
    "The model performance slightly improve after being tuned. The best parameter for our Xgboost model are \n",
    "- scaler: Min Max Scaler\n",
    "- n_estimators: 70\n",
    "- max_depth: 6\n",
    "- max_bin: 350\n",
    "- gamma: 0\n",
    "- eta: 0.1\n",
    "\n",
    "If we want to optimize the models more, we can try :\n",
    "- increasing the max_bin (the model might run slower)\n",
    "- lower the learning rate with higher number of iteration\n",
    "- increasing the max depth (might cause overfitting)\n",
    "- adjusting gamma to prevent overfitting\n",
    "\n",
    "Because we have limited time and features, we will not go any further with the tuning."
   ]
  },
  {
   "cell_type": "markdown",
   "metadata": {},
   "source": [
    "### Light GBM Tuning\n",
    "\n",
    "The [official documentation of Light GBM](https://lightgbm.readthedocs.io/en/latest/Parameters-Tuning.html) stated that for better accuracy, we can try:\n",
    "- Using large max_bin (may be slower)\n",
    "- Using small learning_rate with large num_iterations\n",
    "- Using large num_leaves (may cause over-fitting)\n",
    "- Using bigger training data\n",
    "- Try dart\n",
    "\n",
    "We will no try the dart algorithm, so the parameters that will be tuned are:\n",
    "- **max_bin** = max number of bins that feature values will be bucketed in.\n",
    "- **n_estimators** = number of boosting iterations. Increasing this number improves the optimality of splits at the cost of higher computation time.\n",
    "- **learning rate** = shrinkage rate to prevents overfitting. \n",
    "- **num_leaves** (min_split_loss) = max number of leaves in one tree\n"
   ]
  },
  {
   "cell_type": "code",
   "execution_count": 45,
   "metadata": {},
   "outputs": [
    {
     "data": {
      "text/html": [
       "<style>#sk-container-id-4 {color: black;background-color: white;}#sk-container-id-4 pre{padding: 0;}#sk-container-id-4 div.sk-toggleable {background-color: white;}#sk-container-id-4 label.sk-toggleable__label {cursor: pointer;display: block;width: 100%;margin-bottom: 0;padding: 0.3em;box-sizing: border-box;text-align: center;}#sk-container-id-4 label.sk-toggleable__label-arrow:before {content: \"▸\";float: left;margin-right: 0.25em;color: #696969;}#sk-container-id-4 label.sk-toggleable__label-arrow:hover:before {color: black;}#sk-container-id-4 div.sk-estimator:hover label.sk-toggleable__label-arrow:before {color: black;}#sk-container-id-4 div.sk-toggleable__content {max-height: 0;max-width: 0;overflow: hidden;text-align: left;background-color: #f0f8ff;}#sk-container-id-4 div.sk-toggleable__content pre {margin: 0.2em;color: black;border-radius: 0.25em;background-color: #f0f8ff;}#sk-container-id-4 input.sk-toggleable__control:checked~div.sk-toggleable__content {max-height: 200px;max-width: 100%;overflow: auto;}#sk-container-id-4 input.sk-toggleable__control:checked~label.sk-toggleable__label-arrow:before {content: \"▾\";}#sk-container-id-4 div.sk-estimator input.sk-toggleable__control:checked~label.sk-toggleable__label {background-color: #d4ebff;}#sk-container-id-4 div.sk-label input.sk-toggleable__control:checked~label.sk-toggleable__label {background-color: #d4ebff;}#sk-container-id-4 input.sk-hidden--visually {border: 0;clip: rect(1px 1px 1px 1px);clip: rect(1px, 1px, 1px, 1px);height: 1px;margin: -1px;overflow: hidden;padding: 0;position: absolute;width: 1px;}#sk-container-id-4 div.sk-estimator {font-family: monospace;background-color: #f0f8ff;border: 1px dotted black;border-radius: 0.25em;box-sizing: border-box;margin-bottom: 0.5em;}#sk-container-id-4 div.sk-estimator:hover {background-color: #d4ebff;}#sk-container-id-4 div.sk-parallel-item::after {content: \"\";width: 100%;border-bottom: 1px solid gray;flex-grow: 1;}#sk-container-id-4 div.sk-label:hover label.sk-toggleable__label {background-color: #d4ebff;}#sk-container-id-4 div.sk-serial::before {content: \"\";position: absolute;border-left: 1px solid gray;box-sizing: border-box;top: 0;bottom: 0;left: 50%;z-index: 0;}#sk-container-id-4 div.sk-serial {display: flex;flex-direction: column;align-items: center;background-color: white;padding-right: 0.2em;padding-left: 0.2em;position: relative;}#sk-container-id-4 div.sk-item {position: relative;z-index: 1;}#sk-container-id-4 div.sk-parallel {display: flex;align-items: stretch;justify-content: center;background-color: white;position: relative;}#sk-container-id-4 div.sk-item::before, #sk-container-id-4 div.sk-parallel-item::before {content: \"\";position: absolute;border-left: 1px solid gray;box-sizing: border-box;top: 0;bottom: 0;left: 50%;z-index: -1;}#sk-container-id-4 div.sk-parallel-item {display: flex;flex-direction: column;z-index: 1;position: relative;background-color: white;}#sk-container-id-4 div.sk-parallel-item:first-child::after {align-self: flex-end;width: 50%;}#sk-container-id-4 div.sk-parallel-item:last-child::after {align-self: flex-start;width: 50%;}#sk-container-id-4 div.sk-parallel-item:only-child::after {width: 0;}#sk-container-id-4 div.sk-dashed-wrapped {border: 1px dashed gray;margin: 0 0.4em 0.5em 0.4em;box-sizing: border-box;padding-bottom: 0.4em;background-color: white;}#sk-container-id-4 div.sk-label label {font-family: monospace;font-weight: bold;display: inline-block;line-height: 1.2em;}#sk-container-id-4 div.sk-label-container {text-align: center;}#sk-container-id-4 div.sk-container {/* jupyter's `normalize.less` sets `[hidden] { display: none; }` but bootstrap.min.css set `[hidden] { display: none !important; }` so we also need the `!important` here to be able to override the default hidden behavior on the sphinx rendered scikit-learn.org. See: https://github.com/scikit-learn/scikit-learn/issues/21755 */display: inline-block !important;position: relative;}#sk-container-id-4 div.sk-text-repr-fallback {display: none;}</style><div id=\"sk-container-id-4\" class=\"sk-top-container\"><div class=\"sk-text-repr-fallback\"><pre>RandomizedSearchCV(cv=StratifiedKFold(n_splits=5, random_state=0, shuffle=True),\n",
       "                   estimator=Pipeline(steps=[(&#x27;preprocessing&#x27;,\n",
       "                                              ColumnTransformer(remainder=&#x27;passthrough&#x27;,\n",
       "                                                                transformers=[(&#x27;imp_binary&#x27;,\n",
       "                                                                               Pipeline(steps=[(&#x27;constant&#x27;,\n",
       "                                                                                                SimpleImputer(fill_value=&#x27;Other&#x27;,\n",
       "                                                                                                              strategy=&#x27;constant&#x27;)),\n",
       "                                                                                               (&#x27;binary&#x27;,\n",
       "                                                                                                BinaryEncoder(handle_unknown=&#x27;indicator&#x27;))]),\n",
       "                                                                               [&#x27;country&#x27;]),\n",
       "                                                                              (&#x27;one &#x27;\n",
       "                                                                               &#x27;h...\n",
       "                                             (&#x27;scaler&#x27;, RobustScaler()),\n",
       "                                             (&#x27;algo&#x27;, LGBMClassifier())]),\n",
       "                   n_iter=100, n_jobs=-1,\n",
       "                   param_distributions={&#x27;algo__learning_rate&#x27;: [0.1, 0.05, 0.03,\n",
       "                                                                0.01],\n",
       "                                        &#x27;algo__max_bin&#x27;: [255, 275, 300, 350],\n",
       "                                        &#x27;algo__n_estimators&#x27;: range(70, 121, 10),\n",
       "                                        &#x27;algo__num_leaves&#x27;: [51, 61, 71, 81],\n",
       "                                        &#x27;scaler&#x27;: [RobustScaler(),\n",
       "                                                   MinMaxScaler(),\n",
       "                                                   StandardScaler()]},\n",
       "                   random_state=0, scoring=make_scorer(fbeta_score, beta=0.5))</pre><b>In a Jupyter environment, please rerun this cell to show the HTML representation or trust the notebook. <br />On GitHub, the HTML representation is unable to render, please try loading this page with nbviewer.org.</b></div><div class=\"sk-container\" hidden><div class=\"sk-item sk-dashed-wrapped\"><div class=\"sk-label-container\"><div class=\"sk-label sk-toggleable\"><input class=\"sk-toggleable__control sk-hidden--visually\" id=\"sk-estimator-id-24\" type=\"checkbox\" ><label for=\"sk-estimator-id-24\" class=\"sk-toggleable__label sk-toggleable__label-arrow\">RandomizedSearchCV</label><div class=\"sk-toggleable__content\"><pre>RandomizedSearchCV(cv=StratifiedKFold(n_splits=5, random_state=0, shuffle=True),\n",
       "                   estimator=Pipeline(steps=[(&#x27;preprocessing&#x27;,\n",
       "                                              ColumnTransformer(remainder=&#x27;passthrough&#x27;,\n",
       "                                                                transformers=[(&#x27;imp_binary&#x27;,\n",
       "                                                                               Pipeline(steps=[(&#x27;constant&#x27;,\n",
       "                                                                                                SimpleImputer(fill_value=&#x27;Other&#x27;,\n",
       "                                                                                                              strategy=&#x27;constant&#x27;)),\n",
       "                                                                                               (&#x27;binary&#x27;,\n",
       "                                                                                                BinaryEncoder(handle_unknown=&#x27;indicator&#x27;))]),\n",
       "                                                                               [&#x27;country&#x27;]),\n",
       "                                                                              (&#x27;one &#x27;\n",
       "                                                                               &#x27;h...\n",
       "                                             (&#x27;scaler&#x27;, RobustScaler()),\n",
       "                                             (&#x27;algo&#x27;, LGBMClassifier())]),\n",
       "                   n_iter=100, n_jobs=-1,\n",
       "                   param_distributions={&#x27;algo__learning_rate&#x27;: [0.1, 0.05, 0.03,\n",
       "                                                                0.01],\n",
       "                                        &#x27;algo__max_bin&#x27;: [255, 275, 300, 350],\n",
       "                                        &#x27;algo__n_estimators&#x27;: range(70, 121, 10),\n",
       "                                        &#x27;algo__num_leaves&#x27;: [51, 61, 71, 81],\n",
       "                                        &#x27;scaler&#x27;: [RobustScaler(),\n",
       "                                                   MinMaxScaler(),\n",
       "                                                   StandardScaler()]},\n",
       "                   random_state=0, scoring=make_scorer(fbeta_score, beta=0.5))</pre></div></div></div><div class=\"sk-parallel\"><div class=\"sk-parallel-item\"><div class=\"sk-item\"><div class=\"sk-label-container\"><div class=\"sk-label sk-toggleable\"><input class=\"sk-toggleable__control sk-hidden--visually\" id=\"sk-estimator-id-25\" type=\"checkbox\" ><label for=\"sk-estimator-id-25\" class=\"sk-toggleable__label sk-toggleable__label-arrow\">estimator: Pipeline</label><div class=\"sk-toggleable__content\"><pre>Pipeline(steps=[(&#x27;preprocessing&#x27;,\n",
       "                 ColumnTransformer(remainder=&#x27;passthrough&#x27;,\n",
       "                                   transformers=[(&#x27;imp_binary&#x27;,\n",
       "                                                  Pipeline(steps=[(&#x27;constant&#x27;,\n",
       "                                                                   SimpleImputer(fill_value=&#x27;Other&#x27;,\n",
       "                                                                                 strategy=&#x27;constant&#x27;)),\n",
       "                                                                  (&#x27;binary&#x27;,\n",
       "                                                                   BinaryEncoder(handle_unknown=&#x27;indicator&#x27;))]),\n",
       "                                                  [&#x27;country&#x27;]),\n",
       "                                                 (&#x27;one hot&#x27;,\n",
       "                                                  OneHotEncoder(handle_unknown=&#x27;infrequent_if_exist&#x27;,\n",
       "                                                                min_frequency=6),\n",
       "                                                  [&#x27;market_segment&#x27;,\n",
       "                                                   &#x27;deposit_type&#x27;,\n",
       "                                                   &#x27;customer_type&#x27;,\n",
       "                                                   &#x27;reserved_room_type&#x27;])])),\n",
       "                (&#x27;scaler&#x27;, RobustScaler()), (&#x27;algo&#x27;, LGBMClassifier())])</pre></div></div></div><div class=\"sk-serial\"><div class=\"sk-item\"><div class=\"sk-serial\"><div class=\"sk-item sk-dashed-wrapped\"><div class=\"sk-label-container\"><div class=\"sk-label sk-toggleable\"><input class=\"sk-toggleable__control sk-hidden--visually\" id=\"sk-estimator-id-26\" type=\"checkbox\" ><label for=\"sk-estimator-id-26\" class=\"sk-toggleable__label sk-toggleable__label-arrow\">preprocessing: ColumnTransformer</label><div class=\"sk-toggleable__content\"><pre>ColumnTransformer(remainder=&#x27;passthrough&#x27;,\n",
       "                  transformers=[(&#x27;imp_binary&#x27;,\n",
       "                                 Pipeline(steps=[(&#x27;constant&#x27;,\n",
       "                                                  SimpleImputer(fill_value=&#x27;Other&#x27;,\n",
       "                                                                strategy=&#x27;constant&#x27;)),\n",
       "                                                 (&#x27;binary&#x27;,\n",
       "                                                  BinaryEncoder(handle_unknown=&#x27;indicator&#x27;))]),\n",
       "                                 [&#x27;country&#x27;]),\n",
       "                                (&#x27;one hot&#x27;,\n",
       "                                 OneHotEncoder(handle_unknown=&#x27;infrequent_if_exist&#x27;,\n",
       "                                               min_frequency=6),\n",
       "                                 [&#x27;market_segment&#x27;, &#x27;deposit_type&#x27;,\n",
       "                                  &#x27;customer_type&#x27;, &#x27;reserved_room_type&#x27;])])</pre></div></div></div><div class=\"sk-parallel\"><div class=\"sk-parallel-item\"><div class=\"sk-item\"><div class=\"sk-label-container\"><div class=\"sk-label sk-toggleable\"><input class=\"sk-toggleable__control sk-hidden--visually\" id=\"sk-estimator-id-27\" type=\"checkbox\" ><label for=\"sk-estimator-id-27\" class=\"sk-toggleable__label sk-toggleable__label-arrow\">imp_binary</label><div class=\"sk-toggleable__content\"><pre>[&#x27;country&#x27;]</pre></div></div></div><div class=\"sk-serial\"><div class=\"sk-item\"><div class=\"sk-serial\"><div class=\"sk-item\"><div class=\"sk-estimator sk-toggleable\"><input class=\"sk-toggleable__control sk-hidden--visually\" id=\"sk-estimator-id-28\" type=\"checkbox\" ><label for=\"sk-estimator-id-28\" class=\"sk-toggleable__label sk-toggleable__label-arrow\">SimpleImputer</label><div class=\"sk-toggleable__content\"><pre>SimpleImputer(fill_value=&#x27;Other&#x27;, strategy=&#x27;constant&#x27;)</pre></div></div></div><div class=\"sk-item\"><div class=\"sk-estimator sk-toggleable\"><input class=\"sk-toggleable__control sk-hidden--visually\" id=\"sk-estimator-id-29\" type=\"checkbox\" ><label for=\"sk-estimator-id-29\" class=\"sk-toggleable__label sk-toggleable__label-arrow\">BinaryEncoder</label><div class=\"sk-toggleable__content\"><pre>BinaryEncoder(handle_unknown=&#x27;indicator&#x27;)</pre></div></div></div></div></div></div></div></div><div class=\"sk-parallel-item\"><div class=\"sk-item\"><div class=\"sk-label-container\"><div class=\"sk-label sk-toggleable\"><input class=\"sk-toggleable__control sk-hidden--visually\" id=\"sk-estimator-id-30\" type=\"checkbox\" ><label for=\"sk-estimator-id-30\" class=\"sk-toggleable__label sk-toggleable__label-arrow\">one hot</label><div class=\"sk-toggleable__content\"><pre>[&#x27;market_segment&#x27;, &#x27;deposit_type&#x27;, &#x27;customer_type&#x27;, &#x27;reserved_room_type&#x27;]</pre></div></div></div><div class=\"sk-serial\"><div class=\"sk-item\"><div class=\"sk-estimator sk-toggleable\"><input class=\"sk-toggleable__control sk-hidden--visually\" id=\"sk-estimator-id-31\" type=\"checkbox\" ><label for=\"sk-estimator-id-31\" class=\"sk-toggleable__label sk-toggleable__label-arrow\">OneHotEncoder</label><div class=\"sk-toggleable__content\"><pre>OneHotEncoder(handle_unknown=&#x27;infrequent_if_exist&#x27;, min_frequency=6)</pre></div></div></div></div></div></div><div class=\"sk-parallel-item\"><div class=\"sk-item\"><div class=\"sk-label-container\"><div class=\"sk-label sk-toggleable\"><input class=\"sk-toggleable__control sk-hidden--visually\" id=\"sk-estimator-id-32\" type=\"checkbox\" ><label for=\"sk-estimator-id-32\" class=\"sk-toggleable__label sk-toggleable__label-arrow\">remainder</label><div class=\"sk-toggleable__content\"><pre>[&#x27;previous_cancellations&#x27;, &#x27;booking_changes&#x27;, &#x27;days_in_waiting_list&#x27;, &#x27;required_car_parking_spaces&#x27;, &#x27;total_of_special_requests&#x27;]</pre></div></div></div><div class=\"sk-serial\"><div class=\"sk-item\"><div class=\"sk-estimator sk-toggleable\"><input class=\"sk-toggleable__control sk-hidden--visually\" id=\"sk-estimator-id-33\" type=\"checkbox\" ><label for=\"sk-estimator-id-33\" class=\"sk-toggleable__label sk-toggleable__label-arrow\">passthrough</label><div class=\"sk-toggleable__content\"><pre>passthrough</pre></div></div></div></div></div></div></div></div><div class=\"sk-item\"><div class=\"sk-estimator sk-toggleable\"><input class=\"sk-toggleable__control sk-hidden--visually\" id=\"sk-estimator-id-34\" type=\"checkbox\" ><label for=\"sk-estimator-id-34\" class=\"sk-toggleable__label sk-toggleable__label-arrow\">RobustScaler</label><div class=\"sk-toggleable__content\"><pre>RobustScaler()</pre></div></div></div><div class=\"sk-item\"><div class=\"sk-estimator sk-toggleable\"><input class=\"sk-toggleable__control sk-hidden--visually\" id=\"sk-estimator-id-35\" type=\"checkbox\" ><label for=\"sk-estimator-id-35\" class=\"sk-toggleable__label sk-toggleable__label-arrow\">LGBMClassifier</label><div class=\"sk-toggleable__content\"><pre>LGBMClassifier()</pre></div></div></div></div></div></div></div></div></div></div></div></div>"
      ],
      "text/plain": [
       "RandomizedSearchCV(cv=StratifiedKFold(n_splits=5, random_state=0, shuffle=True),\n",
       "                   estimator=Pipeline(steps=[('preprocessing',\n",
       "                                              ColumnTransformer(remainder='passthrough',\n",
       "                                                                transformers=[('imp_binary',\n",
       "                                                                               Pipeline(steps=[('constant',\n",
       "                                                                                                SimpleImputer(fill_value='Other',\n",
       "                                                                                                              strategy='constant')),\n",
       "                                                                                               ('binary',\n",
       "                                                                                                BinaryEncoder(handle_unknown='indicator'))]),\n",
       "                                                                               ['country']),\n",
       "                                                                              ('one '\n",
       "                                                                               'h...\n",
       "                                             ('scaler', RobustScaler()),\n",
       "                                             ('algo', LGBMClassifier())]),\n",
       "                   n_iter=100, n_jobs=-1,\n",
       "                   param_distributions={'algo__learning_rate': [0.1, 0.05, 0.03,\n",
       "                                                                0.01],\n",
       "                                        'algo__max_bin': [255, 275, 300, 350],\n",
       "                                        'algo__n_estimators': range(70, 121, 10),\n",
       "                                        'algo__num_leaves': [51, 61, 71, 81],\n",
       "                                        'scaler': [RobustScaler(),\n",
       "                                                   MinMaxScaler(),\n",
       "                                                   StandardScaler()]},\n",
       "                   random_state=0, scoring=make_scorer(fbeta_score, beta=0.5))"
      ]
     },
     "execution_count": 45,
     "metadata": {},
     "output_type": "execute_result"
    }
   ],
   "source": [
    "hyperparam_space = {\n",
    "    'algo__max_bin': [255, 275, 300, 350],\n",
    "    'algo__num_leaves':[51, 61, 71, 81],\n",
    "    'algo__n_estimators': range(70, 121, 10),\n",
    "    'algo__learning_rate': [0.1, 0.05, 0.03, 0.01],\n",
    "    'scaler': [RobustScaler(),MinMaxScaler(),StandardScaler()]\n",
    "}\n",
    "\n",
    "pipe_model = Pipeline([\n",
    "        ('preprocessing', transformer),\n",
    "        ('scaler', scaler),\n",
    "        ('algo', lgbm)          \n",
    "    ])\n",
    "\n",
    "skfold = StratifiedKFold(n_splits=5, shuffle=True, random_state=0)\n",
    "\n",
    "lgbm_tuning = RandomizedSearchCV(\n",
    "    estimator= pipe_model,\n",
    "    param_distributions= hyperparam_space,\n",
    "    cv= skfold,\n",
    "    scoring= scoring_f05,\n",
    "    n_jobs= -1,\n",
    "    n_iter= 100,\n",
    "    random_state= 0\n",
    ")\n",
    "\n",
    "lgbm_tuning.fit(X_train, y_train)"
   ]
  },
  {
   "cell_type": "code",
   "execution_count": 46,
   "metadata": {},
   "outputs": [
    {
     "data": {
      "text/plain": [
       "{'scaler': RobustScaler(),\n",
       " 'algo__num_leaves': 81,\n",
       " 'algo__n_estimators': 90,\n",
       " 'algo__max_bin': 255,\n",
       " 'algo__learning_rate': 0.01}"
      ]
     },
     "execution_count": 46,
     "metadata": {},
     "output_type": "execute_result"
    }
   ],
   "source": [
    "lgbm_tuning.best_params_"
   ]
  },
  {
   "cell_type": "code",
   "execution_count": 47,
   "metadata": {},
   "outputs": [
    {
     "data": {
      "text/plain": [
       "0.7678342493060777"
      ]
     },
     "execution_count": 47,
     "metadata": {},
     "output_type": "execute_result"
    }
   ],
   "source": [
    "lgbm_tuning.best_score_"
   ]
  },
  {
   "cell_type": "code",
   "execution_count": 48,
   "metadata": {},
   "outputs": [
    {
     "data": {
      "text/plain": [
       "0.002694279251710687"
      ]
     },
     "execution_count": 48,
     "metadata": {},
     "output_type": "execute_result"
    }
   ],
   "source": [
    "lgbm_tuning.cv_results_['std_test_score'][lgbm_tuning.best_index_]"
   ]
  },
  {
   "cell_type": "markdown",
   "metadata": {},
   "source": [
    "**Summary**\n",
    "\n",
    "| Model | Mean f0.5 | stdev\n",
    "|--- | --- | --- |\n",
    "| Light GBM benchmark | 0.757 | 0.003 |\n",
    "| Light GBM tuned | 0.768 | 0.003 |\n",
    "\n",
    "The model performance slightly improve after being tuned. The best parameter for our Light GBM model are \n",
    "- scaler: Robust Scaler\n",
    "- num_leaves: 81\n",
    "- n_estimators: 90\n",
    "- max_bin: 255\n",
    "- learning_rate: 0.01\n",
    "\n",
    "Next we will try to compare the tuned models on test data."
   ]
  },
  {
   "cell_type": "markdown",
   "metadata": {},
   "source": [
    "## Prediction on Test Set\n",
    "\n",
    "For the final predictions, we will compare Light GBM and Xgboost algorithms before and after tuning."
   ]
  },
  {
   "cell_type": "code",
   "execution_count": 49,
   "metadata": {},
   "outputs": [],
   "source": [
    "tuned_xgboost = xgboost_tuning.best_estimator_\n",
    "tuned_lgbm = lgbm_tuning.best_estimator_\n",
    "\n",
    "pipe_xgboost = pipe_model = Pipeline([\n",
    "                ('preprocessing', transformer),\n",
    "                ('scaler', scaler),\n",
    "                ('algo', xgboost)\n",
    "            ])\n",
    "\n",
    "pipe_lgbm = pipe_model = Pipeline([\n",
    "                ('preprocessing', transformer),\n",
    "                ('scaler', scaler),\n",
    "                ('algo', lgbm)\n",
    "            ])\n",
    "\n",
    "prediction_models = {\n",
    "    ('Xgboost benchmark', pipe_xgboost),\n",
    "    ('Light GBM benchmark', pipe_lgbm),\n",
    "    ('Xgboost tuned', tuned_xgboost),\n",
    "    ('Light GBM tuned', tuned_lgbm)\n",
    "}"
   ]
  },
  {
   "cell_type": "code",
   "execution_count": 50,
   "metadata": {},
   "outputs": [
    {
     "data": {
      "text/html": [
       "<div>\n",
       "<style scoped>\n",
       "    .dataframe tbody tr th:only-of-type {\n",
       "        vertical-align: middle;\n",
       "    }\n",
       "\n",
       "    .dataframe tbody tr th {\n",
       "        vertical-align: top;\n",
       "    }\n",
       "\n",
       "    .dataframe thead th {\n",
       "        text-align: right;\n",
       "    }\n",
       "</style>\n",
       "<table border=\"1\" class=\"dataframe\">\n",
       "  <thead>\n",
       "    <tr style=\"text-align: right;\">\n",
       "      <th></th>\n",
       "      <th>model</th>\n",
       "      <th>f.05 score</th>\n",
       "      <th>precision</th>\n",
       "      <th>recall</th>\n",
       "      <th>fit time</th>\n",
       "      <th>score time</th>\n",
       "    </tr>\n",
       "  </thead>\n",
       "  <tbody>\n",
       "    <tr>\n",
       "      <th>0</th>\n",
       "      <td>Light GBM tuned</td>\n",
       "      <td>0.766</td>\n",
       "      <td>0.841</td>\n",
       "      <td>0.564</td>\n",
       "      <td>1.060</td>\n",
       "      <td>0.161</td>\n",
       "    </tr>\n",
       "    <tr>\n",
       "      <th>1</th>\n",
       "      <td>Xgboost tuned</td>\n",
       "      <td>0.754</td>\n",
       "      <td>0.772</td>\n",
       "      <td>0.688</td>\n",
       "      <td>2.791</td>\n",
       "      <td>0.126</td>\n",
       "    </tr>\n",
       "    <tr>\n",
       "      <th>2</th>\n",
       "      <td>Light GBM benchmark</td>\n",
       "      <td>0.753</td>\n",
       "      <td>0.773</td>\n",
       "      <td>0.684</td>\n",
       "      <td>0.739</td>\n",
       "      <td>0.152</td>\n",
       "    </tr>\n",
       "    <tr>\n",
       "      <th>3</th>\n",
       "      <td>Xgboost benchmark</td>\n",
       "      <td>0.753</td>\n",
       "      <td>0.771</td>\n",
       "      <td>0.688</td>\n",
       "      <td>3.948</td>\n",
       "      <td>0.134</td>\n",
       "    </tr>\n",
       "  </tbody>\n",
       "</table>\n",
       "</div>"
      ],
      "text/plain": [
       "                 model  f.05 score  precision  recall  fit time  score time\n",
       "0      Light GBM tuned       0.766      0.841   0.564     1.060       0.161\n",
       "1        Xgboost tuned       0.754      0.772   0.688     2.791       0.126\n",
       "2  Light GBM benchmark       0.753      0.773   0.684     0.739       0.152\n",
       "3    Xgboost benchmark       0.753      0.771   0.688     3.948       0.134"
      ]
     },
     "execution_count": 50,
     "metadata": {},
     "output_type": "execute_result"
    },
    {
     "data": {
      "image/png": "[encoded data removed]",
      "text/plain": [
       "<Figure size 432x288 with 1 Axes>"
      ]
     },
     "metadata": {
      "needs_background": "light"
     },
     "output_type": "display_data"
    },
    {
     "data": {
      "image/png": "[encoded data removed]",
      "text/plain": [
       "<Figure size 432x288 with 1 Axes>"
      ]
     },
     "metadata": {
      "needs_background": "light"
     },
     "output_type": "display_data"
    },
    {
     "data": {
      "image/png": "[encoded data removed]",
      "text/plain": [
       "<Figure size 432x288 with 1 Axes>"
      ]
     },
     "metadata": {
      "needs_background": "light"
     },
     "output_type": "display_data"
    },
    {
     "data": {
      "image/png": "[encoded data removed]",
      "text/plain": [
       "<Figure size 432x288 with 1 Axes>"
      ]
     },
     "metadata": {
      "needs_background": "light"
     },
     "output_type": "display_data"
    }
   ],
   "source": [
    "list_model = []\n",
    "list_f05 = []\n",
    "list_precision = []\n",
    "list_recall = []\n",
    "fit_time = []\n",
    "score_time = []\n",
    "\n",
    "for name, model in prediction_models:        \n",
    "        \n",
    "        start = time.time()\n",
    "        model.fit(X_train, y_train)\n",
    "        stop = time.time()\n",
    "        fit_time.append(round((stop-start), 3))\n",
    "\n",
    "        start = time.time()        \n",
    "        y_pred = model.predict(X_test)\n",
    "        stop = time.time()\n",
    "        score_time.append(round((stop-start), 3))\n",
    "\n",
    "        PrecisionRecallDisplay.from_estimator(model, X_test, y_test)\n",
    "        plt.title(f'{name} PR-Curve')\n",
    "\n",
    "        list_model.append(name)\n",
    "        list_f05.append(round(fbeta_score(y_test, y_pred, beta=0.5), 3))\n",
    "        list_precision.append(round(precision_score(y_test, y_pred), 3))\n",
    "        list_recall.append(round(recall_score(y_test, y_pred), 3))\n",
    "\n",
    "pd.DataFrame({\n",
    "    'model': list_model,\n",
    "    'f.05 score': list_f05,\n",
    "    'precision' : list_precision,\n",
    "    'recall' : list_recall,\n",
    "    'fit time': fit_time,\n",
    "    'score time': score_time\n",
    "}).sort_values('f.05 score', ascending=False)   "
   ]
  },
  {
   "cell_type": "markdown",
   "metadata": {},
   "source": [
    "From the table above, we can see tuned Light GBM has the highest f0.5 score and precision, but the recall score is pretty bad. It also has the worst PR-curve. So, I don't think the model is ideal for our problems. I decide to use the tuned Xgboost as our final model because it has more balance in precision and recall score. We need to remember that both error types will cost us something, so we can't sacrifice too much on one side."
   ]
  },
  {
   "cell_type": "markdown",
   "metadata": {},
   "source": [
    "## Feature Importances"
   ]
  },
  {
   "cell_type": "code",
   "execution_count": 51,
   "metadata": {},
   "outputs": [],
   "source": [
    "binary_cols = list(transformer.transformers_[0][1][1].get_feature_names())\n",
    "onehot_cols = list(transformer.transformers_[1][1].get_feature_names_out())\n",
    "remainder_cols = list(X.columns[transformer.transformers_[2][2]])\n",
    "\n",
    "feature_name = binary_cols + onehot_cols + remainder_cols\n"
   ]
  },
  {
   "cell_type": "code",
   "execution_count": 52,
   "metadata": {},
   "outputs": [
    {
     "data": {
      "text/html": [
       "<div>\n",
       "<style scoped>\n",
       "    .dataframe tbody tr th:only-of-type {\n",
       "        vertical-align: middle;\n",
       "    }\n",
       "\n",
       "    .dataframe tbody tr th {\n",
       "        vertical-align: top;\n",
       "    }\n",
       "\n",
       "    .dataframe thead th {\n",
       "        text-align: right;\n",
       "    }\n",
       "</style>\n",
       "<table border=\"1\" class=\"dataframe\">\n",
       "  <thead>\n",
       "    <tr style=\"text-align: right;\">\n",
       "      <th></th>\n",
       "      <th>features</th>\n",
       "      <th>importances</th>\n",
       "    </tr>\n",
       "  </thead>\n",
       "  <tbody>\n",
       "    <tr>\n",
       "      <th>17</th>\n",
       "      <td>deposit_type_Non Refund</td>\n",
       "      <td>0.748128</td>\n",
       "    </tr>\n",
       "    <tr>\n",
       "      <th>36</th>\n",
       "      <td>required_car_parking_spaces</td>\n",
       "      <td>0.058549</td>\n",
       "    </tr>\n",
       "    <tr>\n",
       "      <th>14</th>\n",
       "      <td>market_segment_Online TA</td>\n",
       "      <td>0.030884</td>\n",
       "    </tr>\n",
       "    <tr>\n",
       "      <th>16</th>\n",
       "      <td>deposit_type_No Deposit</td>\n",
       "      <td>0.026075</td>\n",
       "    </tr>\n",
       "    <tr>\n",
       "      <th>33</th>\n",
       "      <td>previous_cancellations</td>\n",
       "      <td>0.016908</td>\n",
       "    </tr>\n",
       "    <tr>\n",
       "      <th>21</th>\n",
       "      <td>customer_type_Transient</td>\n",
       "      <td>0.014394</td>\n",
       "    </tr>\n",
       "    <tr>\n",
       "      <th>10</th>\n",
       "      <td>market_segment_Corporate</td>\n",
       "      <td>0.014151</td>\n",
       "    </tr>\n",
       "    <tr>\n",
       "      <th>37</th>\n",
       "      <td>total_of_special_requests</td>\n",
       "      <td>0.011688</td>\n",
       "    </tr>\n",
       "    <tr>\n",
       "      <th>6</th>\n",
       "      <td>0_6</td>\n",
       "      <td>0.011033</td>\n",
       "    </tr>\n",
       "    <tr>\n",
       "      <th>7</th>\n",
       "      <td>0_7</td>\n",
       "      <td>0.010303</td>\n",
       "    </tr>\n",
       "  </tbody>\n",
       "</table>\n",
       "</div>"
      ],
      "text/plain": [
       "                       features  importances\n",
       "17      deposit_type_Non Refund     0.748128\n",
       "36  required_car_parking_spaces     0.058549\n",
       "14     market_segment_Online TA     0.030884\n",
       "16      deposit_type_No Deposit     0.026075\n",
       "33       previous_cancellations     0.016908\n",
       "21      customer_type_Transient     0.014394\n",
       "10     market_segment_Corporate     0.014151\n",
       "37    total_of_special_requests     0.011688\n",
       "6                           0_6     0.011033\n",
       "7                           0_7     0.010303"
      ]
     },
     "execution_count": 52,
     "metadata": {},
     "output_type": "execute_result"
    }
   ],
   "source": [
    "feature_importances = pd.DataFrame({\n",
    "    'features' : feature_name,\n",
    "    'importances': tuned_xgboost['algo'].feature_importances_\n",
    "})\n",
    "\n",
    "feature_importances.sort_values('importances', ascending=False).head(10)"
   ]
  },
  {
   "cell_type": "code",
   "execution_count": 53,
   "metadata": {},
   "outputs": [
    {
     "data": {
      "image/png": "[encoded data removed]",
      "text/plain": [
       "<Figure size 432x288 with 1 Axes>"
      ]
     },
     "metadata": {
      "needs_background": "light"
     },
     "output_type": "display_data"
    }
   ],
   "source": [
    "top10_features = feature_importances.sort_values('importances', ascending=False).head(10)\n",
    "\n",
    "sns.barplot(data = top10_features, y= 'features', x='importances', ci=0, color='blue')\n",
    "plt.title('Feature Importances')\n",
    "plt.show()"
   ]
  },
  {
   "cell_type": "markdown",
   "metadata": {},
   "source": [
    "We can see that deposit_type_Non Refund is the most important feature for our Xgboost model, followed by required_car_parking_spaces and market_segment_Online TA. From the graph, it is clear that deposit_type_Non Refund is much more important than other features combined. This analysis in-line with our EDA, which is the **non refund** deposit type has the highest canceled bookings proportion. The canceled bookings also tend to **not** require parking spaces."
   ]
  },
  {
   "cell_type": "markdown",
   "metadata": {},
   "source": [
    "## Modeling with Feature Selection\n",
    "\n",
    "We will try to do feature selection based on the feature importances of the Xgboost model and compare the result of different number of features."
   ]
  },
  {
   "cell_type": "code",
   "execution_count": 54,
   "metadata": {},
   "outputs": [
    {
     "data": {
      "text/html": [
       "<div>\n",
       "<style scoped>\n",
       "    .dataframe tbody tr th:only-of-type {\n",
       "        vertical-align: middle;\n",
       "    }\n",
       "\n",
       "    .dataframe tbody tr th {\n",
       "        vertical-align: top;\n",
       "    }\n",
       "\n",
       "    .dataframe thead th {\n",
       "        text-align: right;\n",
       "    }\n",
       "</style>\n",
       "<table border=\"1\" class=\"dataframe\">\n",
       "  <thead>\n",
       "    <tr style=\"text-align: right;\">\n",
       "      <th></th>\n",
       "      <th>Thresh</th>\n",
       "      <th>Number of Features</th>\n",
       "      <th>f0.5 score</th>\n",
       "      <th>precision</th>\n",
       "      <th>recall</th>\n",
       "      <th>fit time</th>\n",
       "      <th>score time</th>\n",
       "    </tr>\n",
       "  </thead>\n",
       "  <tbody>\n",
       "    <tr>\n",
       "      <th>0</th>\n",
       "      <td>0.0000</td>\n",
       "      <td>38</td>\n",
       "      <td>0.754</td>\n",
       "      <td>0.772</td>\n",
       "      <td>0.688</td>\n",
       "      <td>5.433</td>\n",
       "      <td>0.141</td>\n",
       "    </tr>\n",
       "    <tr>\n",
       "      <th>1</th>\n",
       "      <td>0.0010</td>\n",
       "      <td>30</td>\n",
       "      <td>0.753</td>\n",
       "      <td>0.773</td>\n",
       "      <td>0.684</td>\n",
       "      <td>5.063</td>\n",
       "      <td>0.136</td>\n",
       "    </tr>\n",
       "    <tr>\n",
       "      <th>2</th>\n",
       "      <td>0.0015</td>\n",
       "      <td>24</td>\n",
       "      <td>0.750</td>\n",
       "      <td>0.765</td>\n",
       "      <td>0.692</td>\n",
       "      <td>4.766</td>\n",
       "      <td>0.140</td>\n",
       "    </tr>\n",
       "    <tr>\n",
       "      <th>3</th>\n",
       "      <td>0.0030</td>\n",
       "      <td>19</td>\n",
       "      <td>0.749</td>\n",
       "      <td>0.769</td>\n",
       "      <td>0.680</td>\n",
       "      <td>4.667</td>\n",
       "      <td>0.131</td>\n",
       "    </tr>\n",
       "    <tr>\n",
       "      <th>4</th>\n",
       "      <td>0.0050</td>\n",
       "      <td>12</td>\n",
       "      <td>0.742</td>\n",
       "      <td>0.779</td>\n",
       "      <td>0.624</td>\n",
       "      <td>4.200</td>\n",
       "      <td>0.132</td>\n",
       "    </tr>\n",
       "    <tr>\n",
       "      <th>5</th>\n",
       "      <td>0.0100</td>\n",
       "      <td>10</td>\n",
       "      <td>0.742</td>\n",
       "      <td>0.780</td>\n",
       "      <td>0.621</td>\n",
       "      <td>4.128</td>\n",
       "      <td>0.128</td>\n",
       "    </tr>\n",
       "    <tr>\n",
       "      <th>6</th>\n",
       "      <td>0.0200</td>\n",
       "      <td>4</td>\n",
       "      <td>0.704</td>\n",
       "      <td>0.991</td>\n",
       "      <td>0.326</td>\n",
       "      <td>3.995</td>\n",
       "      <td>0.125</td>\n",
       "    </tr>\n",
       "    <tr>\n",
       "      <th>7</th>\n",
       "      <td>0.0300</td>\n",
       "      <td>3</td>\n",
       "      <td>0.703</td>\n",
       "      <td>0.991</td>\n",
       "      <td>0.325</td>\n",
       "      <td>3.351</td>\n",
       "      <td>0.123</td>\n",
       "    </tr>\n",
       "  </tbody>\n",
       "</table>\n",
       "</div>"
      ],
      "text/plain": [
       "   Thresh  Number of Features  f0.5 score  precision  recall  fit time  \\\n",
       "0  0.0000                  38       0.754      0.772   0.688     5.433   \n",
       "1  0.0010                  30       0.753      0.773   0.684     5.063   \n",
       "2  0.0015                  24       0.750      0.765   0.692     4.766   \n",
       "3  0.0030                  19       0.749      0.769   0.680     4.667   \n",
       "4  0.0050                  12       0.742      0.779   0.624     4.200   \n",
       "5  0.0100                  10       0.742      0.780   0.621     4.128   \n",
       "6  0.0200                   4       0.704      0.991   0.326     3.995   \n",
       "7  0.0300                   3       0.703      0.991   0.325     3.351   \n",
       "\n",
       "   score time  \n",
       "0       0.141  \n",
       "1       0.136  \n",
       "2       0.140  \n",
       "3       0.131  \n",
       "4       0.132  \n",
       "5       0.128  \n",
       "6       0.125  \n",
       "7       0.123  "
      ]
     },
     "execution_count": 54,
     "metadata": {},
     "output_type": "execute_result"
    }
   ],
   "source": [
    "list_thresh = []\n",
    "list_n_features = []\n",
    "list_f05 = []\n",
    "list_precision = []\n",
    "list_recall = []\n",
    "list_fit_time = []\n",
    "list_score_time = []\n",
    "\n",
    "# select features using threshold of feature importances\n",
    "thresholds = [0, 0.001, 0.0015, 0.003, 0.005, 0.01, 0.02, 0.03]\n",
    "\n",
    "for thresh in thresholds:\n",
    "    \n",
    "    pipe_model= Pipeline([\n",
    "        ('preprocessing', transformer),\n",
    "        ('scaler', MinMaxScaler()),\n",
    "        ('feature_selection', SelectFromModel(tuned_xgboost['algo'], threshold=thresh)),\n",
    "        ('algo', tuned_xgboost['algo'])          \n",
    "    ])\n",
    "    \n",
    "    start = time.time()\n",
    "    pipe_model.fit(X_train, y_train)\n",
    "    stop = time.time()\n",
    "    fit_time = stop-start\n",
    "\n",
    "    start = time.time()\n",
    "    y_pred = pipe_model.predict(X_test)\n",
    "    stop = time.time()\n",
    "    score_time = stop-start\n",
    "\n",
    "    predictions = [round(value) for value in y_pred]\n",
    "\n",
    "    n_features = len(pipe_model['algo'].feature_importances_)\n",
    "    f05 = fbeta_score(y_test, predictions, beta=0.5)\n",
    "    precision = precision_score(y_test, predictions)\n",
    "    recall = recall_score(y_test, predictions)\n",
    "\n",
    "    list_thresh.append(thresh)\n",
    "    list_n_features.append(n_features)\n",
    "    list_f05.append(round(f05,3))\n",
    "    list_precision.append(round(precision,3))\n",
    "    list_recall.append(round(recall,3))\n",
    "    list_fit_time.append(round(fit_time,3))\n",
    "    list_score_time.append(round(score_time,3))\n",
    "\n",
    "pd.DataFrame({\n",
    "    'Thresh': list_thresh,\n",
    "    'Number of Features': list_n_features,\n",
    "    'f0.5 score': list_f05,\n",
    "    'precision': list_precision,\n",
    "    'recall': list_recall,\n",
    "    'fit time' : list_fit_time,\n",
    "    'score time': list_score_time\n",
    "    \n",
    "}).sort_values('f0.5 score', ascending=False)"
   ]
  },
  {
   "cell_type": "markdown",
   "metadata": {},
   "source": [
    "As we can see, the f0.5 score is better with larger number of features and it keeps dropping with smaller number of features. The feature selection might be more useful if we're dealing with a large number of features. Since we only have 38 features, if we reduce half the number of features to 19, the training time only improves a little. Then, it might be better to use all the features to have better performance. So, our final model will be the tuned Xgboost without feature selection."
   ]
  },
  {
   "cell_type": "markdown",
   "metadata": {},
   "source": [
    "## Final Model\n"
   ]
  },
  {
   "cell_type": "code",
   "execution_count": 55,
   "metadata": {},
   "outputs": [
    {
     "data": {
      "text/html": [
       "<style>#sk-container-id-5 {color: black;background-color: white;}#sk-container-id-5 pre{padding: 0;}#sk-container-id-5 div.sk-toggleable {background-color: white;}#sk-container-id-5 label.sk-toggleable__label {cursor: pointer;display: block;width: 100%;margin-bottom: 0;padding: 0.3em;box-sizing: border-box;text-align: center;}#sk-container-id-5 label.sk-toggleable__label-arrow:before {content: \"▸\";float: left;margin-right: 0.25em;color: #696969;}#sk-container-id-5 label.sk-toggleable__label-arrow:hover:before {color: black;}#sk-container-id-5 div.sk-estimator:hover label.sk-toggleable__label-arrow:before {color: black;}#sk-container-id-5 div.sk-toggleable__content {max-height: 0;max-width: 0;overflow: hidden;text-align: left;background-color: #f0f8ff;}#sk-container-id-5 div.sk-toggleable__content pre {margin: 0.2em;color: black;border-radius: 0.25em;background-color: #f0f8ff;}#sk-container-id-5 input.sk-toggleable__control:checked~div.sk-toggleable__content {max-height: 200px;max-width: 100%;overflow: auto;}#sk-container-id-5 input.sk-toggleable__control:checked~label.sk-toggleable__label-arrow:before {content: \"▾\";}#sk-container-id-5 div.sk-estimator input.sk-toggleable__control:checked~label.sk-toggleable__label {background-color: #d4ebff;}#sk-container-id-5 div.sk-label input.sk-toggleable__control:checked~label.sk-toggleable__label {background-color: #d4ebff;}#sk-container-id-5 input.sk-hidden--visually {border: 0;clip: rect(1px 1px 1px 1px);clip: rect(1px, 1px, 1px, 1px);height: 1px;margin: -1px;overflow: hidden;padding: 0;position: absolute;width: 1px;}#sk-container-id-5 div.sk-estimator {font-family: monospace;background-color: #f0f8ff;border: 1px dotted black;border-radius: 0.25em;box-sizing: border-box;margin-bottom: 0.5em;}#sk-container-id-5 div.sk-estimator:hover {background-color: #d4ebff;}#sk-container-id-5 div.sk-parallel-item::after {content: \"\";width: 100%;border-bottom: 1px solid gray;flex-grow: 1;}#sk-container-id-5 div.sk-label:hover label.sk-toggleable__label {background-color: #d4ebff;}#sk-container-id-5 div.sk-serial::before {content: \"\";position: absolute;border-left: 1px solid gray;box-sizing: border-box;top: 0;bottom: 0;left: 50%;z-index: 0;}#sk-container-id-5 div.sk-serial {display: flex;flex-direction: column;align-items: center;background-color: white;padding-right: 0.2em;padding-left: 0.2em;position: relative;}#sk-container-id-5 div.sk-item {position: relative;z-index: 1;}#sk-container-id-5 div.sk-parallel {display: flex;align-items: stretch;justify-content: center;background-color: white;position: relative;}#sk-container-id-5 div.sk-item::before, #sk-container-id-5 div.sk-parallel-item::before {content: \"\";position: absolute;border-left: 1px solid gray;box-sizing: border-box;top: 0;bottom: 0;left: 50%;z-index: -1;}#sk-container-id-5 div.sk-parallel-item {display: flex;flex-direction: column;z-index: 1;position: relative;background-color: white;}#sk-container-id-5 div.sk-parallel-item:first-child::after {align-self: flex-end;width: 50%;}#sk-container-id-5 div.sk-parallel-item:last-child::after {align-self: flex-start;width: 50%;}#sk-container-id-5 div.sk-parallel-item:only-child::after {width: 0;}#sk-container-id-5 div.sk-dashed-wrapped {border: 1px dashed gray;margin: 0 0.4em 0.5em 0.4em;box-sizing: border-box;padding-bottom: 0.4em;background-color: white;}#sk-container-id-5 div.sk-label label {font-family: monospace;font-weight: bold;display: inline-block;line-height: 1.2em;}#sk-container-id-5 div.sk-label-container {text-align: center;}#sk-container-id-5 div.sk-container {/* jupyter's `normalize.less` sets `[hidden] { display: none; }` but bootstrap.min.css set `[hidden] { display: none !important; }` so we also need the `!important` here to be able to override the default hidden behavior on the sphinx rendered scikit-learn.org. See: https://github.com/scikit-learn/scikit-learn/issues/21755 */display: inline-block !important;position: relative;}#sk-container-id-5 div.sk-text-repr-fallback {display: none;}</style><div id=\"sk-container-id-5\" class=\"sk-top-container\"><div class=\"sk-text-repr-fallback\"><pre>Pipeline(steps=[(&#x27;preprocessing&#x27;,\n",
       "                 ColumnTransformer(remainder=&#x27;passthrough&#x27;,\n",
       "                                   transformers=[(&#x27;imp_binary&#x27;,\n",
       "                                                  Pipeline(steps=[(&#x27;constant&#x27;,\n",
       "                                                                   SimpleImputer(fill_value=&#x27;Other&#x27;,\n",
       "                                                                                 strategy=&#x27;constant&#x27;)),\n",
       "                                                                  (&#x27;binary&#x27;,\n",
       "                                                                   BinaryEncoder(handle_unknown=&#x27;indicator&#x27;))]),\n",
       "                                                  [&#x27;country&#x27;]),\n",
       "                                                 (&#x27;one hot&#x27;,\n",
       "                                                  OneHotEncoder(handle_unknown=&#x27;infrequent_if_exist&#x27;,\n",
       "                                                                min_frequency=6),\n",
       "                                                  [&#x27;market_segment&#x27;,...\n",
       "                               eval_metric=None, gamma=0, gpu_id=-1,\n",
       "                               grow_policy=&#x27;depthwise&#x27;, importance_type=None,\n",
       "                               interaction_constraints=&#x27;&#x27;,\n",
       "                               learning_rate=0.300000012, max_bin=350,\n",
       "                               max_cat_to_onehot=4, max_delta_step=0,\n",
       "                               max_depth=6, max_leaves=0, min_child_weight=1,\n",
       "                               missing=nan, monotone_constraints=&#x27;()&#x27;,\n",
       "                               n_estimators=70, n_jobs=0, num_parallel_tree=1,\n",
       "                               predictor=&#x27;auto&#x27;, random_state=0, reg_alpha=0, ...))])</pre><b>In a Jupyter environment, please rerun this cell to show the HTML representation or trust the notebook. <br />On GitHub, the HTML representation is unable to render, please try loading this page with nbviewer.org.</b></div><div class=\"sk-container\" hidden><div class=\"sk-item sk-dashed-wrapped\"><div class=\"sk-label-container\"><div class=\"sk-label sk-toggleable\"><input class=\"sk-toggleable__control sk-hidden--visually\" id=\"sk-estimator-id-36\" type=\"checkbox\" ><label for=\"sk-estimator-id-36\" class=\"sk-toggleable__label sk-toggleable__label-arrow\">Pipeline</label><div class=\"sk-toggleable__content\"><pre>Pipeline(steps=[(&#x27;preprocessing&#x27;,\n",
       "                 ColumnTransformer(remainder=&#x27;passthrough&#x27;,\n",
       "                                   transformers=[(&#x27;imp_binary&#x27;,\n",
       "                                                  Pipeline(steps=[(&#x27;constant&#x27;,\n",
       "                                                                   SimpleImputer(fill_value=&#x27;Other&#x27;,\n",
       "                                                                                 strategy=&#x27;constant&#x27;)),\n",
       "                                                                  (&#x27;binary&#x27;,\n",
       "                                                                   BinaryEncoder(handle_unknown=&#x27;indicator&#x27;))]),\n",
       "                                                  [&#x27;country&#x27;]),\n",
       "                                                 (&#x27;one hot&#x27;,\n",
       "                                                  OneHotEncoder(handle_unknown=&#x27;infrequent_if_exist&#x27;,\n",
       "                                                                min_frequency=6),\n",
       "                                                  [&#x27;market_segment&#x27;,...\n",
       "                               eval_metric=None, gamma=0, gpu_id=-1,\n",
       "                               grow_policy=&#x27;depthwise&#x27;, importance_type=None,\n",
       "                               interaction_constraints=&#x27;&#x27;,\n",
       "                               learning_rate=0.300000012, max_bin=350,\n",
       "                               max_cat_to_onehot=4, max_delta_step=0,\n",
       "                               max_depth=6, max_leaves=0, min_child_weight=1,\n",
       "                               missing=nan, monotone_constraints=&#x27;()&#x27;,\n",
       "                               n_estimators=70, n_jobs=0, num_parallel_tree=1,\n",
       "                               predictor=&#x27;auto&#x27;, random_state=0, reg_alpha=0, ...))])</pre></div></div></div><div class=\"sk-serial\"><div class=\"sk-item sk-dashed-wrapped\"><div class=\"sk-label-container\"><div class=\"sk-label sk-toggleable\"><input class=\"sk-toggleable__control sk-hidden--visually\" id=\"sk-estimator-id-37\" type=\"checkbox\" ><label for=\"sk-estimator-id-37\" class=\"sk-toggleable__label sk-toggleable__label-arrow\">preprocessing: ColumnTransformer</label><div class=\"sk-toggleable__content\"><pre>ColumnTransformer(remainder=&#x27;passthrough&#x27;,\n",
       "                  transformers=[(&#x27;imp_binary&#x27;,\n",
       "                                 Pipeline(steps=[(&#x27;constant&#x27;,\n",
       "                                                  SimpleImputer(fill_value=&#x27;Other&#x27;,\n",
       "                                                                strategy=&#x27;constant&#x27;)),\n",
       "                                                 (&#x27;binary&#x27;,\n",
       "                                                  BinaryEncoder(handle_unknown=&#x27;indicator&#x27;))]),\n",
       "                                 [&#x27;country&#x27;]),\n",
       "                                (&#x27;one hot&#x27;,\n",
       "                                 OneHotEncoder(handle_unknown=&#x27;infrequent_if_exist&#x27;,\n",
       "                                               min_frequency=6),\n",
       "                                 [&#x27;market_segment&#x27;, &#x27;deposit_type&#x27;,\n",
       "                                  &#x27;customer_type&#x27;, &#x27;reserved_room_type&#x27;])])</pre></div></div></div><div class=\"sk-parallel\"><div class=\"sk-parallel-item\"><div class=\"sk-item\"><div class=\"sk-label-container\"><div class=\"sk-label sk-toggleable\"><input class=\"sk-toggleable__control sk-hidden--visually\" id=\"sk-estimator-id-38\" type=\"checkbox\" ><label for=\"sk-estimator-id-38\" class=\"sk-toggleable__label sk-toggleable__label-arrow\">imp_binary</label><div class=\"sk-toggleable__content\"><pre>[&#x27;country&#x27;]</pre></div></div></div><div class=\"sk-serial\"><div class=\"sk-item\"><div class=\"sk-serial\"><div class=\"sk-item\"><div class=\"sk-estimator sk-toggleable\"><input class=\"sk-toggleable__control sk-hidden--visually\" id=\"sk-estimator-id-39\" type=\"checkbox\" ><label for=\"sk-estimator-id-39\" class=\"sk-toggleable__label sk-toggleable__label-arrow\">SimpleImputer</label><div class=\"sk-toggleable__content\"><pre>SimpleImputer(fill_value=&#x27;Other&#x27;, strategy=&#x27;constant&#x27;)</pre></div></div></div><div class=\"sk-item\"><div class=\"sk-estimator sk-toggleable\"><input class=\"sk-toggleable__control sk-hidden--visually\" id=\"sk-estimator-id-40\" type=\"checkbox\" ><label for=\"sk-estimator-id-40\" class=\"sk-toggleable__label sk-toggleable__label-arrow\">BinaryEncoder</label><div class=\"sk-toggleable__content\"><pre>BinaryEncoder(handle_unknown=&#x27;indicator&#x27;)</pre></div></div></div></div></div></div></div></div><div class=\"sk-parallel-item\"><div class=\"sk-item\"><div class=\"sk-label-container\"><div class=\"sk-label sk-toggleable\"><input class=\"sk-toggleable__control sk-hidden--visually\" id=\"sk-estimator-id-41\" type=\"checkbox\" ><label for=\"sk-estimator-id-41\" class=\"sk-toggleable__label sk-toggleable__label-arrow\">one hot</label><div class=\"sk-toggleable__content\"><pre>[&#x27;market_segment&#x27;, &#x27;deposit_type&#x27;, &#x27;customer_type&#x27;, &#x27;reserved_room_type&#x27;]</pre></div></div></div><div class=\"sk-serial\"><div class=\"sk-item\"><div class=\"sk-estimator sk-toggleable\"><input class=\"sk-toggleable__control sk-hidden--visually\" id=\"sk-estimator-id-42\" type=\"checkbox\" ><label for=\"sk-estimator-id-42\" class=\"sk-toggleable__label sk-toggleable__label-arrow\">OneHotEncoder</label><div class=\"sk-toggleable__content\"><pre>OneHotEncoder(handle_unknown=&#x27;infrequent_if_exist&#x27;, min_frequency=6)</pre></div></div></div></div></div></div><div class=\"sk-parallel-item\"><div class=\"sk-item\"><div class=\"sk-label-container\"><div class=\"sk-label sk-toggleable\"><input class=\"sk-toggleable__control sk-hidden--visually\" id=\"sk-estimator-id-43\" type=\"checkbox\" ><label for=\"sk-estimator-id-43\" class=\"sk-toggleable__label sk-toggleable__label-arrow\">remainder</label><div class=\"sk-toggleable__content\"><pre>[&#x27;previous_cancellations&#x27;, &#x27;booking_changes&#x27;, &#x27;days_in_waiting_list&#x27;, &#x27;required_car_parking_spaces&#x27;, &#x27;total_of_special_requests&#x27;]</pre></div></div></div><div class=\"sk-serial\"><div class=\"sk-item\"><div class=\"sk-estimator sk-toggleable\"><input class=\"sk-toggleable__control sk-hidden--visually\" id=\"sk-estimator-id-44\" type=\"checkbox\" ><label for=\"sk-estimator-id-44\" class=\"sk-toggleable__label sk-toggleable__label-arrow\">passthrough</label><div class=\"sk-toggleable__content\"><pre>passthrough</pre></div></div></div></div></div></div></div></div><div class=\"sk-item\"><div class=\"sk-estimator sk-toggleable\"><input class=\"sk-toggleable__control sk-hidden--visually\" id=\"sk-estimator-id-45\" type=\"checkbox\" ><label for=\"sk-estimator-id-45\" class=\"sk-toggleable__label sk-toggleable__label-arrow\">MinMaxScaler</label><div class=\"sk-toggleable__content\"><pre>MinMaxScaler()</pre></div></div></div><div class=\"sk-item\"><div class=\"sk-estimator sk-toggleable\"><input class=\"sk-toggleable__control sk-hidden--visually\" id=\"sk-estimator-id-46\" type=\"checkbox\" ><label for=\"sk-estimator-id-46\" class=\"sk-toggleable__label sk-toggleable__label-arrow\">XGBClassifier</label><div class=\"sk-toggleable__content\"><pre>XGBClassifier(base_score=0.5, booster=&#x27;gbtree&#x27;, callbacks=None,\n",
       "              colsample_bylevel=1, colsample_bynode=1, colsample_bytree=1,\n",
       "              early_stopping_rounds=None, enable_categorical=False, eta=0.1,\n",
       "              eval_metric=None, gamma=0, gpu_id=-1, grow_policy=&#x27;depthwise&#x27;,\n",
       "              importance_type=None, interaction_constraints=&#x27;&#x27;,\n",
       "              learning_rate=0.300000012, max_bin=350, max_cat_to_onehot=4,\n",
       "              max_delta_step=0, max_depth=6, max_leaves=0, min_child_weight=1,\n",
       "              missing=nan, monotone_constraints=&#x27;()&#x27;, n_estimators=70, n_jobs=0,\n",
       "              num_parallel_tree=1, predictor=&#x27;auto&#x27;, random_state=0,\n",
       "              reg_alpha=0, ...)</pre></div></div></div></div></div></div></div>"
      ],
      "text/plain": [
       "Pipeline(steps=[('preprocessing',\n",
       "                 ColumnTransformer(remainder='passthrough',\n",
       "                                   transformers=[('imp_binary',\n",
       "                                                  Pipeline(steps=[('constant',\n",
       "                                                                   SimpleImputer(fill_value='Other',\n",
       "                                                                                 strategy='constant')),\n",
       "                                                                  ('binary',\n",
       "                                                                   BinaryEncoder(handle_unknown='indicator'))]),\n",
       "                                                  ['country']),\n",
       "                                                 ('one hot',\n",
       "                                                  OneHotEncoder(handle_unknown='infrequent_if_exist',\n",
       "                                                                min_frequency=6),\n",
       "                                                  ['market_segment',...\n",
       "                               eval_metric=None, gamma=0, gpu_id=-1,\n",
       "                               grow_policy='depthwise', importance_type=None,\n",
       "                               interaction_constraints='',\n",
       "                               learning_rate=0.300000012, max_bin=350,\n",
       "                               max_cat_to_onehot=4, max_delta_step=0,\n",
       "                               max_depth=6, max_leaves=0, min_child_weight=1,\n",
       "                               missing=nan, monotone_constraints='()',\n",
       "                               n_estimators=70, n_jobs=0, num_parallel_tree=1,\n",
       "                               predictor='auto', random_state=0, reg_alpha=0, ...))])"
      ]
     },
     "execution_count": 55,
     "metadata": {},
     "output_type": "execute_result"
    }
   ],
   "source": [
    "final_model = tuned_xgboost\n",
    "final_model.fit(X_train, y_train)"
   ]
  },
  {
   "cell_type": "markdown",
   "metadata": {},
   "source": [
    "### Model Algorithm\n",
    "\n",
    "Xgboost or Exreme Gradient Boosting is an optimized algorithm of Gradient Boosting specially designed to improve speed and performance. Boosting itself is an ensemble method to build a strong classifier from several weak classifiers in sequential order. The main goal of Gradient Boosting is to minimize the loss function by adding weak learners using a gradient descent optimization algorithm. \n",
    "\n",
    "Let's talk about Gradient Boosting algorithm first. There are 3 main components:\n",
    "- **Loss Function**: The role of the loss function is to estimate how best is the model in making predictions with the given data. This could vary depending on the type of the problem. \n",
    "- **Weak Learner**: Weak learner is one that classifies the data so poorly when compared to random guessing. The weak learners are mostly decision trees, but other models can be used in GBM.\n",
    "- **Additive Model**: It is an iterative and sequential process in adding the decision trees one step at a time. Each iteration should reduce the value of loss function. A fixed number of trees are added, or training stops once loss reaches an acceptable level or no longer improves on an external validation dataset.\n",
    "\n",
    "Next, we will discuss about Xgboost optimized features to improve performance:\n",
    "- **Regularized Learning**: Xgboost is a more regularized form of Gradient Boosting. Xgboost uses advanced regularization (L1 & L2), which improves model generalization capabilities. \n",
    "- **Early Stopping (auto-pruning)**: early stopping or tree pruning is a way to reduce overfitting. This means that a node was trimmed if the gain improvement is below a fixed threshold.\n",
    "- **Missing values treatment**: whenever Xgboost find a missing value during prediction, a default direction is created at every node of the tree. The optimal default directions are learned from the training data. \n",
    "\n",
    "\n",
    "\n"
   ]
  },
  {
   "cell_type": "markdown",
   "metadata": {},
   "source": [
    "Let's look into our final model results in more details."
   ]
  },
  {
   "cell_type": "code",
   "execution_count": 56,
   "metadata": {},
   "outputs": [
    {
     "name": "stdout",
     "output_type": "stream",
     "text": [
      "              precision    recall  f1-score   support\n",
      "\n",
      "           0       0.83      0.88      0.85     13199\n",
      "           1       0.77      0.69      0.73      7695\n",
      "\n",
      "    accuracy                           0.81     20894\n",
      "   macro avg       0.80      0.78      0.79     20894\n",
      "weighted avg       0.81      0.81      0.81     20894\n",
      "\n"
     ]
    }
   ],
   "source": [
    "y_pred = final_model.predict(X_test)\n",
    "print(classification_report(y_test, y_pred))"
   ]
  },
  {
   "cell_type": "code",
   "execution_count": 57,
   "metadata": {},
   "outputs": [
    {
     "data": {
      "image/png": "[encoded data removed]",
      "text/plain": [
       "<Figure size 576x360 with 2 Axes>"
      ]
     },
     "metadata": {
      "needs_background": "light"
     },
     "output_type": "display_data"
    }
   ],
   "source": [
    "fig, ax = plt.subplots(1,1, figsize=(8, 5))\n",
    "ConfusionMatrixDisplay.from_estimator(final_model, X_test, y_test, cmap='rocket', ax=ax)\n",
    "\n",
    "plt.xlabel('Prediction y')\n",
    "plt.ylabel('Actual y')\n",
    "plt.title('Confusion Matrix')\n",
    "plt.show()"
   ]
  },
  {
   "cell_type": "code",
   "execution_count": 58,
   "metadata": {},
   "outputs": [
    {
     "data": {
      "image/png": "[encoded data removed]",
      "text/plain": [
       "<Figure size 576x360 with 2 Axes>"
      ]
     },
     "metadata": {
      "needs_background": "light"
     },
     "output_type": "display_data"
    }
   ],
   "source": [
    "fig, ax = plt.subplots(1,1, figsize=(8, 5))\n",
    "ConfusionMatrixDisplay.from_estimator(final_model, X_test, y_test, normalize='true', cmap='rocket', ax=ax)\n",
    "\n",
    "plt.xlabel('Prediction y')\n",
    "plt.ylabel('Actual y')\n",
    "plt.title('Confusion Matrix (Normalized)')\n",
    "plt.show()"
   ]
  },
  {
   "cell_type": "markdown",
   "metadata": {},
   "source": [
    "### Model Implementation\n",
    "\n",
    "Based on the classification report, if we use this model to predict the canceled booking, then we can predict 69% of bookings that are actually canceled and we can avoid overbooking for 88% of bookings that are actually not canceled.\n",
    "\n",
    "Every time our model predicts a booking is canceled, it has 77% chance of being True. There is still 12% chance of our model predicting a booking is canceled but is actually not canceled (False Positive Rate) which can cause overbooked.\n",
    "\n",
    "To make it easier to understand, we can look at the normalized confusion matrix. I will try to explain the normalized confusion matrix with this example. Let's say there are 200 bookings for a hotel (100 canceled and 100 not canceled). \n",
    "- The top left number in the confusion matrix represent True Negative Rate.<br>\n",
    "    Which means out of 100 **actually** not canceled bookings, our model can **predict** 88 not canceled bookings correctly.\n",
    "- The top right number  in the confusion matrix represent False Positive Rate. <br>\n",
    "    Which means out of 100 **actually** not canceled bookings, our model **predict** 12 of them as canceled bookings.\n",
    "- The bottom left number in the confusion matrix represent False Negative Rate.<br>\n",
    "    Which means out of 100 **actually** canceled bookings, our model **predict** 31 of them as not canceled bookings.\n",
    "- The bottom right number in the confusion matrix represent True Positive Rate.<br> \n",
    "    Which means out of 100 **actually** canceled bookings, our model can **predict** 69 canceled bookings correctly.\n",
    "\n",
    "<br>\n",
    "Let's continue the example, let's say the hotel has 200 rooms. A room that is filled with customer can generate 125 USD for the hotel revenue. If a room is empty, it will cost the hotel 25 USD and if a room is overbooked, it will cost the hotel 100 USD for customer compensation. For this example, we will assume that the hotel can find substitute customers for every predicted canceled rooms.\n",
    "\n",
    "---\n",
    "Without the model, we will assume all bookings are canceled.\n",
    "\n",
    "- predicted number of canceled bookings = 200\n",
    "- actual number of canceled bookings = 100\n",
    "\n",
    "Because the actual number of canceled bookings is smaller than the predicted one, it means we have overbooked rooms in our hotel. The number of overbooked rooms equal to the difference between the actual and predicted number of canceled bookings.\n",
    "\n",
    "- filled rooms = 200 x 125 USD = 25.000 USD\n",
    "- empty rooms = 0 x -25 USD = 0 USD\n",
    "- overbooked rooms = 100 x -100 USD = -10.000 USD\n",
    "\n",
    "net revenue = 25.000 - 0 - 10.000 = **15.000 USD**\n",
    "\n",
    "(This calculation hasn't counted the cost for potential loss of future revenue and bad reputation)\n",
    "\n",
    "---\n",
    "\n",
    "With our model, we will overbook the rooms based on the model canceled predictions\n",
    "\n",
    "- predicted number of canceled bookings = 81\n",
    "- actual number of canceled bookings = 100\n",
    "\n",
    "Because the actual number of canceled bookings is bigger than the predicted one, it means we have empty rooms in our hotel. The number of empty rooms equal to the difference between the actual and predicted number of canceled bookings.\n",
    "\n",
    "- filled rooms = 181 x 125 USD = 22.625 USD\n",
    "- empty rooms = 19 x -25 USD = -475 USD\n",
    "- overbooked rooms = 0 x -50 USD = 0 USD\n",
    "\n",
    "net revenue = 12.500 - 475 - 0 = **22.150 USD**\n",
    "\n",
    "(There are no upset customers, which is good for the hotel reputation)\n",
    "\n",
    "---\n",
    "\n",
    "**Increase in revenue = 22.150 - 15.000 = 7.150 USD**\n",
    "\n",
    "% Increase = 7.150 / 15.000 x 100 = 47,67%\n",
    "\n",
    "Based on the example, our model can increase **47,67%** of the hotel's net revenue while still maintaining good reputation for the hotel (no overbook rooms).\n"
   ]
  },
  {
   "cell_type": "markdown",
   "metadata": {},
   "source": [
    "### Model limitation\n",
    "\n",
    "There are some limitations in our model\n",
    "- **Lack of data**<br>\n",
    "    There are 2 type of limitation: lack of data and lack of **good** data. There is a saying that goes 'AI can only be as smart as the quality of data'. In this case, our model can only predict accurately if the prediction data is within the range of the training data. For example, most of the country in the training data come from Europe, so our model might be biased for country outside Europe.\n",
    "- **Lack of interpretability** <br>\n",
    "    A complex ensemble model usually perform better in discovering underlying patterns and increasing accuracy. Even though our model can predict accurate results, it is hard for us to explain how our model arrived at the conclusion. \n",
    "- **Computational and Time limitation** <br>\n",
    "    Hyperparameter tuning is a crucial part for improving our model performance, but some models require sufficient amount of computing power and time. For example, we only try 50 iterations in randomized search for xgboost, so our model hasn't improved much. \n",
    "\n",
    "\n",
    "\n"
   ]
  },
  {
   "cell_type": "markdown",
   "metadata": {},
   "source": [
    "## Conclusion\n",
    "\n",
    "From the results, we can summarize our final model using Xgboost:\n",
    "- Top 3 most important features are **deposit_type_Non Refund**, **required_car_parking_spaces, and market_segment_Online TA**\n",
    "- **Precision** = 0.77  which mean the chance of our model can predict a canceled booking correctly are **77%**.\n",
    "- **Recall** =  0.69 which mean out of 100% of actually canceled bookings, our model can predict **69%** of them.\n",
    "- **False Positive Rate** (actually not canceled, predicted canceled) = **12%**\n",
    "- **False Negative Rate** (actually canceled, predicted not canceled) = **31%**\n",
    "- Implementation of model can **increase  47,67% of the hotel's net revenue**\n",
    "- Model limitation = **lack of data, lack of interpretability, computational and time limitation**"
   ]
  },
  {
   "cell_type": "markdown",
   "metadata": {},
   "source": [
    "## Recommendation\n",
    "\n",
    "Some recommendations to improve our model:\n",
    "- Collecting more good data to make our model more robust. A lot of country has less than 10 data, so the data is highly imbalanced.\n",
    "- Adding new features that might be related to canceled bookings, for example: the the date of arrival (to analyze the trend), number of days between booking and arrival, Average Daily Rate (ADR), etc.\n",
    "- If we have sufficient high-quality data, we might try to use a simple single-type model to increase the interpretability of our model. Usually, a simple model can do the job if the data quality is good.\n",
    "- Try different combination of feature selection and feature engineering, for example changing the base model for selecting feature importance or use SHAP.\n",
    "\n"
   ]
  },
  {
   "cell_type": "markdown",
   "metadata": {},
   "source": [
    "## Save Model"
   ]
  },
  {
   "cell_type": "code",
   "execution_count": 59,
   "metadata": {},
   "outputs": [],
   "source": [
    "# # Save model\n",
    "# import pickle\n",
    "\n",
    "# pickle.dump(final_model, open('booking_prediction_model.sav', 'wb'))"
   ]
  },
  {
   "cell_type": "code",
   "execution_count": 60,
   "metadata": {},
   "outputs": [],
   "source": [
    "# # Load model\n",
    "# model = pickle.load(open('booking_prediction_model.sav', 'rb'))\n",
    "# print(classification_report(y_test, model.predict(X_test)))"
   ]
  }
 ],
 "metadata": {
  "kernelspec": {
   "display_name": "Python 3.10.1 64-bit",
   "language": "python",
   "name": "python3"
  },
  "language_info": {
   "codemirror_mode": {
    "name": "ipython",
    "version": 3
   },
   "file_extension": ".py",
   "mimetype": "text/x-python",
   "name": "python",
   "nbconvert_exporter": "python",
   "pygments_lexer": "ipython3",
   "version": "3.10.1"
  },
  "orig_nbformat": 4,
  "vscode": {
   "interpreter": {
    "hash": "2e636bcd6522c18138dbfbced63b295d80f2d7b880e1e03c7e34fdf1b6ec96cb"
   }
  }
 },
 "nbformat": 4,
 "nbformat_minor": 2
}
